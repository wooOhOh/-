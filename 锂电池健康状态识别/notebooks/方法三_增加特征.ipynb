{
 "cells": [
  {
   "cell_type": "code",
   "execution_count": 1,
   "metadata": {
    "collapsed": true,
    "ExecuteTime": {
     "end_time": "2024-07-03T01:01:02.395269700Z",
     "start_time": "2024-07-03T01:01:01.182195200Z"
    }
   },
   "outputs": [],
   "source": [
    "import warnings\n",
    "import numpy as np\n",
    "import pandas as pd\n",
    "import seaborn as sns\n",
    "from scipy import stats\n",
    "from scipy.stats import norm,skew\n",
    "from scipy.special import boxcox1p\n",
    "from scipy.stats import boxcox_normmax\n",
    "from sklearn.linear_model import Ridge, RidgeCV, ElasticNet, LassoCV, LassoLarsCV\n",
    "from sklearn.model_selection import cross_val_score\n",
    "from sklearn.ensemble import GradientBoostingRegressor, RandomForestRegressor\n",
    "from lightgbm import LGBMRegressor\n",
    "from xgboost import XGBRegressor\n",
    "from sklearn.svm import SVR\n",
    "from sklearn.pipeline import make_pipeline\n",
    "from sklearn.preprocessing import RobustScaler\n",
    "from sklearn.model_selection import KFold, GridSearchCV, cross_val_score, train_test_split\n",
    "from sklearn.metrics import mean_squared_error\n",
    "import matplotlib.pyplot as plt\n",
    "\n",
    "# Comment this if the data visualisations doesn't work on your side\n",
    "%matplotlib inline\n"
   ]
  },
  {
   "cell_type": "code",
   "execution_count": 2,
   "outputs": [
    {
     "name": "stdout",
     "output_type": "stream",
     "text": [
      "完整训练集大小是 (3253, 7)\n",
      "完整测试集大小是 (120, 6)\n"
     ]
    }
   ],
   "source": [
    "\"\"\"数据集加载\"\"\"\n",
    "train_file_path = \"../数据/清理后的数据/clean_train.csv\"\n",
    "train = pd.read_csv(train_file_path)\n",
    "test_file_path = \"../数据/清理后的数据/clean_test.csv\"\n",
    "test = pd.read_csv(test_file_path)\n",
    "print(\"完整训练集大小是 {}\".format(train.shape))\n",
    "print(\"完整测试集大小是 {}\".format(test.shape))\n"
   ],
   "metadata": {
    "collapsed": false,
    "ExecuteTime": {
     "end_time": "2024-07-03T01:01:02.413343800Z",
     "start_time": "2024-07-03T01:01:02.392268700Z"
    }
   }
  },
  {
   "cell_type": "code",
   "execution_count": 3,
   "outputs": [
    {
     "name": "stdout",
     "output_type": "stream",
     "text": [
      "all_data size is : (3373, 6)\n"
     ]
    },
    {
     "data": {
      "text/plain": "     cycle  capacity  resistance         CCCT         CVCT CS_Name\n0      1.0  1.126385    0.094009  6613.059052  2251.498033  CS2_35\n1      2.0  1.126160    0.091661  6612.402800  2231.967052  CS2_35\n2      3.0  1.125966    0.094649  6608.560673  2228.216959  CS2_35\n3      4.0  1.118508    0.091413  6604.732222  2247.561061  CS2_35\n4      5.0  1.117210    0.091413  6629.211049  2077.692393  CS2_35\n..     ...       ...         ...          ...          ...     ...\n995  385.0  0.969525    0.093080  5500.193208  2503.694372  CS2_36\n996  386.0  0.978220    0.088546  5475.849651  2541.521603  CS2_36\n997  387.0  0.978875    0.087654  5547.057277  2366.262200  CS2_36\n998  388.0  0.969841    0.090171  5607.496941  2322.231989  CS2_36\n999  389.0  0.962900    0.092439  5598.935383  2359.900566  CS2_36\n\n[1000 rows x 6 columns]",
      "text/html": "<div>\n<style scoped>\n    .dataframe tbody tr th:only-of-type {\n        vertical-align: middle;\n    }\n\n    .dataframe tbody tr th {\n        vertical-align: top;\n    }\n\n    .dataframe thead th {\n        text-align: right;\n    }\n</style>\n<table border=\"1\" class=\"dataframe\">\n  <thead>\n    <tr style=\"text-align: right;\">\n      <th></th>\n      <th>cycle</th>\n      <th>capacity</th>\n      <th>resistance</th>\n      <th>CCCT</th>\n      <th>CVCT</th>\n      <th>CS_Name</th>\n    </tr>\n  </thead>\n  <tbody>\n    <tr>\n      <th>0</th>\n      <td>1.0</td>\n      <td>1.126385</td>\n      <td>0.094009</td>\n      <td>6613.059052</td>\n      <td>2251.498033</td>\n      <td>CS2_35</td>\n    </tr>\n    <tr>\n      <th>1</th>\n      <td>2.0</td>\n      <td>1.126160</td>\n      <td>0.091661</td>\n      <td>6612.402800</td>\n      <td>2231.967052</td>\n      <td>CS2_35</td>\n    </tr>\n    <tr>\n      <th>2</th>\n      <td>3.0</td>\n      <td>1.125966</td>\n      <td>0.094649</td>\n      <td>6608.560673</td>\n      <td>2228.216959</td>\n      <td>CS2_35</td>\n    </tr>\n    <tr>\n      <th>3</th>\n      <td>4.0</td>\n      <td>1.118508</td>\n      <td>0.091413</td>\n      <td>6604.732222</td>\n      <td>2247.561061</td>\n      <td>CS2_35</td>\n    </tr>\n    <tr>\n      <th>4</th>\n      <td>5.0</td>\n      <td>1.117210</td>\n      <td>0.091413</td>\n      <td>6629.211049</td>\n      <td>2077.692393</td>\n      <td>CS2_35</td>\n    </tr>\n    <tr>\n      <th>...</th>\n      <td>...</td>\n      <td>...</td>\n      <td>...</td>\n      <td>...</td>\n      <td>...</td>\n      <td>...</td>\n    </tr>\n    <tr>\n      <th>995</th>\n      <td>385.0</td>\n      <td>0.969525</td>\n      <td>0.093080</td>\n      <td>5500.193208</td>\n      <td>2503.694372</td>\n      <td>CS2_36</td>\n    </tr>\n    <tr>\n      <th>996</th>\n      <td>386.0</td>\n      <td>0.978220</td>\n      <td>0.088546</td>\n      <td>5475.849651</td>\n      <td>2541.521603</td>\n      <td>CS2_36</td>\n    </tr>\n    <tr>\n      <th>997</th>\n      <td>387.0</td>\n      <td>0.978875</td>\n      <td>0.087654</td>\n      <td>5547.057277</td>\n      <td>2366.262200</td>\n      <td>CS2_36</td>\n    </tr>\n    <tr>\n      <th>998</th>\n      <td>388.0</td>\n      <td>0.969841</td>\n      <td>0.090171</td>\n      <td>5607.496941</td>\n      <td>2322.231989</td>\n      <td>CS2_36</td>\n    </tr>\n    <tr>\n      <th>999</th>\n      <td>389.0</td>\n      <td>0.962900</td>\n      <td>0.092439</td>\n      <td>5598.935383</td>\n      <td>2359.900566</td>\n      <td>CS2_36</td>\n    </tr>\n  </tbody>\n</table>\n<p>1000 rows × 6 columns</p>\n</div>"
     },
     "execution_count": 3,
     "metadata": {},
     "output_type": "execute_result"
    }
   ],
   "source": [
    "ntrain = train.shape[0]\n",
    "ntest = test.shape[0]\n",
    "y_train = train.SoH.values\n",
    "dataset_df = pd.concat((train, test)).reset_index(drop=True)\n",
    "dataset_df.drop(['SoH'], axis=1, inplace=True)\n",
    "# dataset_df.drop(['CS_Name'], axis=1, inplace=True)\n",
    "print(\"all_data size is : {}\".format(dataset_df.shape))\n",
    "dataset_df.head(1000)"
   ],
   "metadata": {
    "collapsed": false,
    "ExecuteTime": {
     "end_time": "2024-07-03T01:01:02.494246800Z",
     "start_time": "2024-07-03T01:01:02.414344300Z"
    }
   }
  },
  {
   "cell_type": "code",
   "execution_count": 4,
   "outputs": [],
   "source": [
    "\n",
    "\"\"\"新增特征\"\"\"\n",
    "\n",
    "#恒压充电和恒流充电时间加总\n",
    "dataset_df['CVCT_I'] = ((dataset_df['CCCT']*dataset_df['resistance'])/dataset_df['CVCT'])\n"
   ],
   "metadata": {
    "collapsed": false,
    "ExecuteTime": {
     "end_time": "2024-07-03T01:01:02.496246100Z",
     "start_time": "2024-07-03T01:01:02.435584600Z"
    }
   }
  },
  {
   "cell_type": "code",
   "execution_count": 5,
   "outputs": [
    {
     "data": {
      "text/plain": "   cycle  capacity  resistance         CCCT         CVCT    CVCT_I  \\\n0    1.0  1.126385    0.094009  6613.059052  2251.498033  0.276123   \n1    2.0  1.126160    0.091661  6612.402800  2231.967052  0.271554   \n2    3.0  1.125966    0.094649  6608.560673  2228.216959  0.280714   \n\n   CS_Name_CS2_35  CS_Name_CS2_36  CS_Name_CS2_37  CS_Name_CS2_38  \n0            True           False           False           False  \n1            True           False           False           False  \n2            True           False           False           False  ",
      "text/html": "<div>\n<style scoped>\n    .dataframe tbody tr th:only-of-type {\n        vertical-align: middle;\n    }\n\n    .dataframe tbody tr th {\n        vertical-align: top;\n    }\n\n    .dataframe thead th {\n        text-align: right;\n    }\n</style>\n<table border=\"1\" class=\"dataframe\">\n  <thead>\n    <tr style=\"text-align: right;\">\n      <th></th>\n      <th>cycle</th>\n      <th>capacity</th>\n      <th>resistance</th>\n      <th>CCCT</th>\n      <th>CVCT</th>\n      <th>CVCT_I</th>\n      <th>CS_Name_CS2_35</th>\n      <th>CS_Name_CS2_36</th>\n      <th>CS_Name_CS2_37</th>\n      <th>CS_Name_CS2_38</th>\n    </tr>\n  </thead>\n  <tbody>\n    <tr>\n      <th>0</th>\n      <td>1.0</td>\n      <td>1.126385</td>\n      <td>0.094009</td>\n      <td>6613.059052</td>\n      <td>2251.498033</td>\n      <td>0.276123</td>\n      <td>True</td>\n      <td>False</td>\n      <td>False</td>\n      <td>False</td>\n    </tr>\n    <tr>\n      <th>1</th>\n      <td>2.0</td>\n      <td>1.126160</td>\n      <td>0.091661</td>\n      <td>6612.402800</td>\n      <td>2231.967052</td>\n      <td>0.271554</td>\n      <td>True</td>\n      <td>False</td>\n      <td>False</td>\n      <td>False</td>\n    </tr>\n    <tr>\n      <th>2</th>\n      <td>3.0</td>\n      <td>1.125966</td>\n      <td>0.094649</td>\n      <td>6608.560673</td>\n      <td>2228.216959</td>\n      <td>0.280714</td>\n      <td>True</td>\n      <td>False</td>\n      <td>False</td>\n      <td>False</td>\n    </tr>\n  </tbody>\n</table>\n</div>"
     },
     "execution_count": 5,
     "metadata": {},
     "output_type": "execute_result"
    }
   ],
   "source": [
    "\"\"\"对CS_name进行独热编码\"\"\"\n",
    "dataset_df = pd.get_dummies(dataset_df)\n",
    "dataset_df.head(3)"
   ],
   "metadata": {
    "collapsed": false,
    "ExecuteTime": {
     "end_time": "2024-07-03T01:01:02.496246100Z",
     "start_time": "2024-07-03T01:01:02.448049100Z"
    }
   }
  },
  {
   "cell_type": "code",
   "execution_count": 6,
   "outputs": [],
   "source": [
    "# \"\"\"归一化\"\"\"\n",
    "# def min_max_normalization(data):\n",
    "#     min_val = np.min(data)\n",
    "#     max_val = np.max(data)\n",
    "#     return (data - min_val) / (max_val - min_val)\n",
    "#\n",
    "# # 示例\n",
    "# dataset_df['CCCT'] = min_max_normalization(dataset_df['CCCT'])\n",
    "# dataset_df['CVCT'] = min_max_normalization(dataset_df['CVCT'])\n",
    "# dataset_df['Total_time'] = min_max_normalization(dataset_df['Total_time'])\n",
    "# print(dataset_df)"
   ],
   "metadata": {
    "collapsed": false,
    "ExecuteTime": {
     "end_time": "2024-07-03T01:01:02.497245800Z",
     "start_time": "2024-07-03T01:01:02.462000300Z"
    }
   }
  },
  {
   "cell_type": "code",
   "execution_count": 7,
   "outputs": [
    {
     "data": {
      "text/plain": "     cycle  capacity  resistance         CCCT         CVCT    CVCT_I  \\\n0      1.0  1.126385    0.094009  6613.059052  2251.498033  0.276123   \n1      2.0  1.126160    0.091661  6612.402800  2231.967052  0.271554   \n2      3.0  1.125966    0.094649  6608.560673  2228.216959  0.280714   \n3      4.0  1.118508    0.091413  6604.732222  2247.561061  0.268628   \n4      5.0  1.117210    0.091413  6629.211049  2077.692393  0.291667   \n..     ...       ...         ...          ...          ...       ...   \n995  385.0  0.969525    0.093080  5500.193208  2503.694372  0.204482   \n996  386.0  0.978220    0.088546  5475.849651  2541.521603  0.190777   \n997  387.0  0.978875    0.087654  5547.057277  2366.262200  0.205480   \n998  388.0  0.969841    0.090171  5607.496941  2322.231989  0.217735   \n999  389.0  0.962900    0.092439  5598.935383  2359.900566  0.219315   \n\n     CS_Name_CS2_35  CS_Name_CS2_36  CS_Name_CS2_37  CS_Name_CS2_38       SoH  \n0              True           False           False           False  0.825175  \n1              True           False           False           False  0.815965  \n2              True           False           False           False  0.815977  \n3              True           False           False           False  0.825194  \n4              True           False           False           False  0.806900  \n..              ...             ...             ...             ...       ...  \n995           False            True           False           False  0.733665  \n996           False            True           False           False  0.715319  \n997           False            True           False           False  0.724505  \n998           False            True           False           False  0.715312  \n999           False            True           False           False  0.715299  \n\n[1000 rows x 11 columns]",
      "text/html": "<div>\n<style scoped>\n    .dataframe tbody tr th:only-of-type {\n        vertical-align: middle;\n    }\n\n    .dataframe tbody tr th {\n        vertical-align: top;\n    }\n\n    .dataframe thead th {\n        text-align: right;\n    }\n</style>\n<table border=\"1\" class=\"dataframe\">\n  <thead>\n    <tr style=\"text-align: right;\">\n      <th></th>\n      <th>cycle</th>\n      <th>capacity</th>\n      <th>resistance</th>\n      <th>CCCT</th>\n      <th>CVCT</th>\n      <th>CVCT_I</th>\n      <th>CS_Name_CS2_35</th>\n      <th>CS_Name_CS2_36</th>\n      <th>CS_Name_CS2_37</th>\n      <th>CS_Name_CS2_38</th>\n      <th>SoH</th>\n    </tr>\n  </thead>\n  <tbody>\n    <tr>\n      <th>0</th>\n      <td>1.0</td>\n      <td>1.126385</td>\n      <td>0.094009</td>\n      <td>6613.059052</td>\n      <td>2251.498033</td>\n      <td>0.276123</td>\n      <td>True</td>\n      <td>False</td>\n      <td>False</td>\n      <td>False</td>\n      <td>0.825175</td>\n    </tr>\n    <tr>\n      <th>1</th>\n      <td>2.0</td>\n      <td>1.126160</td>\n      <td>0.091661</td>\n      <td>6612.402800</td>\n      <td>2231.967052</td>\n      <td>0.271554</td>\n      <td>True</td>\n      <td>False</td>\n      <td>False</td>\n      <td>False</td>\n      <td>0.815965</td>\n    </tr>\n    <tr>\n      <th>2</th>\n      <td>3.0</td>\n      <td>1.125966</td>\n      <td>0.094649</td>\n      <td>6608.560673</td>\n      <td>2228.216959</td>\n      <td>0.280714</td>\n      <td>True</td>\n      <td>False</td>\n      <td>False</td>\n      <td>False</td>\n      <td>0.815977</td>\n    </tr>\n    <tr>\n      <th>3</th>\n      <td>4.0</td>\n      <td>1.118508</td>\n      <td>0.091413</td>\n      <td>6604.732222</td>\n      <td>2247.561061</td>\n      <td>0.268628</td>\n      <td>True</td>\n      <td>False</td>\n      <td>False</td>\n      <td>False</td>\n      <td>0.825194</td>\n    </tr>\n    <tr>\n      <th>4</th>\n      <td>5.0</td>\n      <td>1.117210</td>\n      <td>0.091413</td>\n      <td>6629.211049</td>\n      <td>2077.692393</td>\n      <td>0.291667</td>\n      <td>True</td>\n      <td>False</td>\n      <td>False</td>\n      <td>False</td>\n      <td>0.806900</td>\n    </tr>\n    <tr>\n      <th>...</th>\n      <td>...</td>\n      <td>...</td>\n      <td>...</td>\n      <td>...</td>\n      <td>...</td>\n      <td>...</td>\n      <td>...</td>\n      <td>...</td>\n      <td>...</td>\n      <td>...</td>\n      <td>...</td>\n    </tr>\n    <tr>\n      <th>995</th>\n      <td>385.0</td>\n      <td>0.969525</td>\n      <td>0.093080</td>\n      <td>5500.193208</td>\n      <td>2503.694372</td>\n      <td>0.204482</td>\n      <td>False</td>\n      <td>True</td>\n      <td>False</td>\n      <td>False</td>\n      <td>0.733665</td>\n    </tr>\n    <tr>\n      <th>996</th>\n      <td>386.0</td>\n      <td>0.978220</td>\n      <td>0.088546</td>\n      <td>5475.849651</td>\n      <td>2541.521603</td>\n      <td>0.190777</td>\n      <td>False</td>\n      <td>True</td>\n      <td>False</td>\n      <td>False</td>\n      <td>0.715319</td>\n    </tr>\n    <tr>\n      <th>997</th>\n      <td>387.0</td>\n      <td>0.978875</td>\n      <td>0.087654</td>\n      <td>5547.057277</td>\n      <td>2366.262200</td>\n      <td>0.205480</td>\n      <td>False</td>\n      <td>True</td>\n      <td>False</td>\n      <td>False</td>\n      <td>0.724505</td>\n    </tr>\n    <tr>\n      <th>998</th>\n      <td>388.0</td>\n      <td>0.969841</td>\n      <td>0.090171</td>\n      <td>5607.496941</td>\n      <td>2322.231989</td>\n      <td>0.217735</td>\n      <td>False</td>\n      <td>True</td>\n      <td>False</td>\n      <td>False</td>\n      <td>0.715312</td>\n    </tr>\n    <tr>\n      <th>999</th>\n      <td>389.0</td>\n      <td>0.962900</td>\n      <td>0.092439</td>\n      <td>5598.935383</td>\n      <td>2359.900566</td>\n      <td>0.219315</td>\n      <td>False</td>\n      <td>True</td>\n      <td>False</td>\n      <td>False</td>\n      <td>0.715299</td>\n    </tr>\n  </tbody>\n</table>\n<p>1000 rows × 11 columns</p>\n</div>"
     },
     "execution_count": 7,
     "metadata": {},
     "output_type": "execute_result"
    }
   ],
   "source": [
    "\"\"\"模型构建与评估\"\"\"\n",
    "\n",
    "\"\"\"训练测试集分隔\"\"\"\n",
    "clean_train = dataset_df[:ntrain]\n",
    "clean_test = dataset_df[ntrain:]\n",
    "clean_train = pd.concat([clean_train, pd.Series(y_train, name='SoH')], axis=1)\n",
    "clean_train.shape,clean_test.shape\n",
    "clean_train.head(1000)"
   ],
   "metadata": {
    "collapsed": false,
    "ExecuteTime": {
     "end_time": "2024-07-03T01:01:02.548257900Z",
     "start_time": "2024-07-03T01:01:02.486133900Z"
    }
   }
  },
  {
   "cell_type": "code",
   "execution_count": 7,
   "outputs": [],
   "source": [],
   "metadata": {
    "collapsed": false,
    "ExecuteTime": {
     "end_time": "2024-07-03T01:01:02.548257900Z",
     "start_time": "2024-07-03T01:01:02.487241300Z"
    }
   }
  },
  {
   "cell_type": "code",
   "execution_count": 8,
   "outputs": [
    {
     "name": "stdout",
     "output_type": "stream",
     "text": [
      "[LightGBM] [Info] Auto-choosing row-wise multi-threading, the overhead of testing was 0.000094 seconds.\n",
      "You can set `force_row_wise=true` to remove the overhead.\n",
      "And if memory is not enough, you can set `force_col_wise=true`.\n",
      "[LightGBM] [Info] Total Bins 1538\n",
      "[LightGBM] [Info] Number of data points in the train set: 2602, number of used features: 10\n",
      "[LightGBM] [Info] Start training from score 0.655701\n",
      "[LightGBM] [Info] Auto-choosing col-wise multi-threading, the overhead of testing was 0.000093 seconds.\n",
      "You can set `force_col_wise=true` to remove the overhead.\n",
      "[LightGBM] [Info] Total Bins 1538\n",
      "[LightGBM] [Info] Number of data points in the train set: 2602, number of used features: 10\n",
      "[LightGBM] [Info] Start training from score 0.659202\n",
      "[LightGBM] [Info] Auto-choosing col-wise multi-threading, the overhead of testing was 0.000106 seconds.\n",
      "You can set `force_col_wise=true` to remove the overhead.\n",
      "[LightGBM] [Info] Total Bins 1538\n",
      "[LightGBM] [Info] Number of data points in the train set: 2602, number of used features: 10\n",
      "[LightGBM] [Info] Start training from score 0.659821\n",
      "[LightGBM] [Info] Auto-choosing col-wise multi-threading, the overhead of testing was 0.000078 seconds.\n",
      "You can set `force_col_wise=true` to remove the overhead.\n",
      "[LightGBM] [Info] Total Bins 1538\n",
      "[LightGBM] [Info] Number of data points in the train set: 2603, number of used features: 10\n",
      "[LightGBM] [Info] Start training from score 0.655473\n",
      "[LightGBM] [Info] Auto-choosing col-wise multi-threading, the overhead of testing was 0.000129 seconds.\n",
      "You can set `force_col_wise=true` to remove the overhead.\n",
      "[LightGBM] [Info] Total Bins 1538\n",
      "[LightGBM] [Info] Number of data points in the train set: 2603, number of used features: 10\n",
      "[LightGBM] [Info] Start training from score 0.715383\n",
      "lgb rmse score: 0.0394, rmse std: 0.0542\n",
      "xgb rmse score: 0.0387, rmse std: 0.0526\n",
      "ridge rmse score: 0.0259, rmse std: 0.0203\n",
      "svr rmse score: 0.0971, rmse std: 0.0813\n"
     ]
    },
    {
     "data": {
      "text/plain": "               ridge       xgb       lgb       svr\nrmse_score  0.025934  0.038728  0.039405  0.097084\nrmse_std    0.020299  0.052552  0.054167  0.081313",
      "text/html": "<div>\n<style scoped>\n    .dataframe tbody tr th:only-of-type {\n        vertical-align: middle;\n    }\n\n    .dataframe tbody tr th {\n        vertical-align: top;\n    }\n\n    .dataframe thead th {\n        text-align: right;\n    }\n</style>\n<table border=\"1\" class=\"dataframe\">\n  <thead>\n    <tr style=\"text-align: right;\">\n      <th></th>\n      <th>ridge</th>\n      <th>xgb</th>\n      <th>lgb</th>\n      <th>svr</th>\n    </tr>\n  </thead>\n  <tbody>\n    <tr>\n      <th>rmse_score</th>\n      <td>0.025934</td>\n      <td>0.038728</td>\n      <td>0.039405</td>\n      <td>0.097084</td>\n    </tr>\n    <tr>\n      <th>rmse_std</th>\n      <td>0.020299</td>\n      <td>0.052552</td>\n      <td>0.054167</td>\n      <td>0.081313</td>\n    </tr>\n  </tbody>\n</table>\n</div>"
     },
     "execution_count": 8,
     "metadata": {},
     "output_type": "execute_result"
    }
   ],
   "source": [
    "\"\"\"模型训练与预测\"\"\"\n",
    "# 定义评价指标\n",
    "def rmse_cv(model):\n",
    "    rmse= np.sqrt(-cross_val_score(model, X, y, scoring=\"neg_mean_squared_error\", cv = 5))\n",
    "    return(rmse)\n",
    "\n",
    "X = clean_train.drop(columns='SoH')\n",
    "y = clean_train['SoH']\n",
    "Xtrain, Xtest, ytrain, ytest = train_test_split(X, y, test_size=0.3, random_state=10)\n",
    "# 定义交叉验证模式\n",
    "kf = KFold(n_splits=8, random_state=50, shuffle=True)\n",
    "\n",
    "warnings.filterwarnings('ignore')\n",
    "# 建立基线模型\n",
    "lgb = LGBMRegressor(objective='regression', random_state=50)\n",
    "xgb = XGBRegressor(objective='reg:squarederror',random_state=50)\n",
    "ridge = make_pipeline(RobustScaler(), RidgeCV(cv=kf))\n",
    "svr = make_pipeline(RobustScaler(), SVR())\n",
    "gbr = GradientBoostingRegressor(random_state=50)\n",
    "rf = RandomForestRegressor(random_state=50)\n",
    "scores = {}\n",
    "# 基线模型评估\n",
    "models = [lgb, xgb, ridge, svr]\n",
    "model_names = ['lgb','xgb','ridge','svr']\n",
    "for i, model in enumerate(models):\n",
    "    score = rmse_cv(model)\n",
    "    print('{} rmse score: {:.4f}, rmse std: {:.4f}'.format(model_names[i], score.mean(), score.std()))\n",
    "    scores[model_names[i]] = (score.mean(), score.std())\n",
    "\n",
    "rmse_df = pd.DataFrame(scores, index=['rmse_score','rmse_std'])\n",
    "rmse_df.sort_values('rmse_score', axis=1, inplace=True)\n",
    "rmse_df\n",
    "\n"
   ],
   "metadata": {
    "collapsed": false,
    "ExecuteTime": {
     "end_time": "2024-07-03T01:01:03.886896500Z",
     "start_time": "2024-07-03T01:01:02.490244500Z"
    }
   }
  },
  {
   "cell_type": "code",
   "execution_count": 9,
   "outputs": [
    {
     "name": "stdout",
     "output_type": "stream",
     "text": [
      "[LightGBM] [Info] Auto-choosing col-wise multi-threading, the overhead of testing was 0.000102 seconds.\n",
      "You can set `force_col_wise=true` to remove the overhead.\n",
      "[LightGBM] [Info] Total Bins 1538\n",
      "[LightGBM] [Info] Number of data points in the train set: 1992, number of used features: 10\n",
      "[LightGBM] [Info] Start training from score 0.669763\n",
      "[LightGBM] [Info] Auto-choosing col-wise multi-threading, the overhead of testing was 0.000125 seconds.\n",
      "You can set `force_col_wise=true` to remove the overhead.\n",
      "[LightGBM] [Info] Total Bins 1538\n",
      "[LightGBM] [Info] Number of data points in the train set: 1992, number of used features: 10\n",
      "[LightGBM] [Info] Start training from score 0.671486\n",
      "[LightGBM] [Info] Auto-choosing col-wise multi-threading, the overhead of testing was 0.000092 seconds.\n",
      "You can set `force_col_wise=true` to remove the overhead.\n",
      "[LightGBM] [Info] Total Bins 1538\n",
      "[LightGBM] [Info] Number of data points in the train set: 1992, number of used features: 10\n",
      "[LightGBM] [Info] Start training from score 0.670979\n",
      "[LightGBM] [Info] Auto-choosing col-wise multi-threading, the overhead of testing was 0.000097 seconds.\n",
      "You can set `force_col_wise=true` to remove the overhead.\n",
      "[LightGBM] [Info] Total Bins 1538\n",
      "[LightGBM] [Info] Number of data points in the train set: 1992, number of used features: 10\n",
      "[LightGBM] [Info] Start training from score 0.669298\n",
      "[LightGBM] [Info] Auto-choosing col-wise multi-threading, the overhead of testing was 0.000076 seconds.\n",
      "You can set `force_col_wise=true` to remove the overhead.\n",
      "[LightGBM] [Info] Total Bins 1538\n",
      "[LightGBM] [Info] Number of data points in the train set: 1992, number of used features: 10\n",
      "[LightGBM] [Info] Start training from score 0.669152\n",
      "[LightGBM] [Info] Auto-choosing col-wise multi-threading, the overhead of testing was 0.000077 seconds.\n",
      "You can set `force_col_wise=true` to remove the overhead.\n",
      "[LightGBM] [Info] Total Bins 1538\n",
      "[LightGBM] [Info] Number of data points in the train set: 1993, number of used features: 10\n",
      "[LightGBM] [Info] Start training from score 0.672140\n",
      "[LightGBM] [Info] Auto-choosing col-wise multi-threading, the overhead of testing was 0.000181 seconds.\n",
      "You can set `force_col_wise=true` to remove the overhead.\n",
      "[LightGBM] [Info] Total Bins 1538\n",
      "[LightGBM] [Info] Number of data points in the train set: 1993, number of used features: 10\n",
      "[LightGBM] [Info] Start training from score 0.670011\n",
      "[LightGBM] [Info] Auto-choosing col-wise multi-threading, the overhead of testing was 0.000101 seconds.\n",
      "You can set `force_col_wise=true` to remove the overhead.\n",
      "[LightGBM] [Info] Total Bins 1538\n",
      "[LightGBM] [Info] Number of data points in the train set: 1993, number of used features: 10\n",
      "[LightGBM] [Info] Start training from score 0.671286\n",
      "lgb is done.\n",
      "xgb is done.\n",
      "ridge is done.\n",
      "svr is done.\n",
      "----stacked_train----\n",
      "            lgb       xgb     ridge       svr    y_true\n",
      "0     0.448108  0.449605  0.453275  0.443394  0.440112\n",
      "1     0.570980  0.572378  0.568505  0.598965  0.577583\n",
      "2     0.724621  0.724131  0.721160  0.678066  0.724342\n",
      "3     0.733891  0.733147  0.727025  0.701814  0.733288\n",
      "4     0.776511  0.777842  0.781869  0.709984  0.779523\n",
      "...        ...       ...       ...       ...       ...\n",
      "2272  0.402138  0.395123  0.418731  0.410284  0.394146\n",
      "2273  0.763007  0.760519  0.751166  0.705052  0.751800\n",
      "2274  0.680775  0.680670  0.678502  0.642738  0.678431\n",
      "2275  0.400214  0.402074  0.406857  0.407778  0.384971\n",
      "2276  0.774636  0.770046  0.787045  0.694497  0.770136\n",
      "\n",
      "[2277 rows x 5 columns]\n",
      "----stacked_test----\n",
      "           lgb       xgb     ridge       svr\n",
      "0    0.743408  0.742371  0.756030  0.702562\n",
      "1    0.711427  0.711881  0.710384  0.667959\n",
      "2    0.370047  0.370938  0.380904  0.383633\n",
      "3    0.713345  0.712620  0.726293  0.692799\n",
      "4    0.645549  0.647699  0.645016  0.632696\n",
      "..        ...       ...       ...       ...\n",
      "971  0.392443  0.389126  0.383955  0.385053\n",
      "972  0.611143  0.612350  0.618518  0.626262\n",
      "973  0.654145  0.653696  0.648346  0.655078\n",
      "974  0.774345  0.773307  0.777694  0.707488\n",
      "975  0.689557  0.689264  0.695983  0.678461\n",
      "\n",
      "[976 rows x 4 columns]\n",
      "0.006839281097398325\n"
     ]
    }
   ],
   "source": [
    "\"\"\"模型Stacking\"\"\"\n",
    "class StackingRegressor(object):\n",
    "\n",
    "    def __init__(self, fir_models, fir_model_names, sec_model, cv):\n",
    "        # 第一层的基模型\n",
    "        self.fir_models = fir_models\n",
    "        self.fir_model_names = fir_model_names\n",
    "        # 第二层用来预测结果的模型\n",
    "        self.sec_model = sec_model\n",
    "        # 交叉验证模式，必须为k_fold对象\n",
    "        self.cv = cv\n",
    "\n",
    "    def fit_predict(self, X, y, test):    # X,y,test必须为DataFrame\n",
    "        # 创建空DataFrame\n",
    "        stacked_train = pd.DataFrame()\n",
    "        stacked_test = pd.DataFrame()\n",
    "        # 初始化折数\n",
    "        n_fold = 0\n",
    "\n",
    "        # 遍历每个模型，做交叉验证\n",
    "        for i, model in enumerate(self.fir_models):\n",
    "            # 初始化stacked_train\n",
    "            stacked_train[self.fir_model_names[i]] = np.zeros(shape=(X.shape[0], ))\n",
    "\n",
    "            #遍历每一折交叉验证\n",
    "            for train_index, valid_index in self.cv.split(X):\n",
    "                # 初始化stacked_test\n",
    "                n_fold += 1\n",
    "                stacked_test[self.fir_model_names[i] + str(n_fold)] = np.zeros(shape=(test.shape[0], ))\n",
    "\n",
    "                # 划分数据集\n",
    "                X_train, y_train = X.iloc[train_index, :], y.iloc[train_index]\n",
    "                X_valid, y_valid = X.iloc[valid_index, :], y.iloc[valid_index]\n",
    "\n",
    "                # 训练模型并预测结果\n",
    "                model.fit(X_train, y_train)\n",
    "                stacked_train.loc[valid_index, self.fir_model_names[i]] = model.predict(X_valid)\n",
    "                stacked_test.loc[:, self.fir_model_names[i] + str(n_fold)] = model.predict(test)\n",
    "            print('{} is done.'.format(self.fir_model_names[i]))\n",
    "\n",
    "        # stacked_train加上真实值标签\n",
    "        y.reset_index(drop=True, inplace=True)\n",
    "        stacked_train['y_true'] = y\n",
    "\n",
    "        # 计算stacked_test中每个模型预测结果的平均值\n",
    "        for i, model_name in enumerate(self.fir_model_names):\n",
    "            stacked_test[model_name] = stacked_test.iloc[:, :8].mean(axis=1)\n",
    "            stacked_test.drop(stacked_test.iloc[:, :8], axis=1, inplace=True)\n",
    "\n",
    "        # 打印stacked_train和stacked_test\n",
    "        print('----stacked_train----\\n', stacked_train)\n",
    "        print('----stacked_test----\\n', stacked_test)\n",
    "\n",
    "        # 用sec_model预测结果\n",
    "        self.sec_model.fit(stacked_train.drop(columns='y_true'), stacked_train['y_true'])\n",
    "        y_pred = self.sec_model.predict(stacked_test)\n",
    "        return y_pred\n",
    "\n",
    "sr = StackingRegressor(models, model_names, ridge, kf)\n",
    "stacking_pred = sr.fit_predict(Xtrain, ytrain, Xtest)\n",
    "\n",
    "def rmse(y, y_pred):\n",
    "    rmse = np.sqrt(mean_squared_error(y, y_pred))\n",
    "    return rmse\n",
    "\n",
    "stacking_score = rmse(ytest, stacking_pred)\n",
    "print(stacking_score)\n"
   ],
   "metadata": {
    "collapsed": false,
    "ExecuteTime": {
     "end_time": "2024-07-03T01:01:05.454254Z",
     "start_time": "2024-07-03T01:01:03.887896800Z"
    }
   }
  },
  {
   "cell_type": "code",
   "execution_count": 9,
   "outputs": [],
   "source": [],
   "metadata": {
    "collapsed": false,
    "ExecuteTime": {
     "end_time": "2024-07-03T01:01:05.457143600Z",
     "start_time": "2024-07-03T01:01:05.454254Z"
    }
   }
  },
  {
   "cell_type": "code",
   "execution_count": 11,
   "outputs": [
    {
     "name": "stdout",
     "output_type": "stream",
     "text": [
      "[LightGBM] [Info] Auto-choosing col-wise multi-threading, the overhead of testing was 0.000106 seconds.\n",
      "You can set `force_col_wise=true` to remove the overhead.\n",
      "[LightGBM] [Info] Total Bins 1538\n",
      "[LightGBM] [Info] Number of data points in the train set: 2846, number of used features: 10\n",
      "[LightGBM] [Info] Start training from score 0.670996\n",
      "[LightGBM] [Info] Auto-choosing col-wise multi-threading, the overhead of testing was 0.000092 seconds.\n",
      "You can set `force_col_wise=true` to remove the overhead.\n",
      "[LightGBM] [Info] Total Bins 1538\n",
      "[LightGBM] [Info] Number of data points in the train set: 2846, number of used features: 10\n",
      "[LightGBM] [Info] Start training from score 0.668304\n",
      "[LightGBM] [Info] Auto-choosing col-wise multi-threading, the overhead of testing was 0.000088 seconds.\n",
      "You can set `force_col_wise=true` to remove the overhead.\n",
      "[LightGBM] [Info] Total Bins 1538\n",
      "[LightGBM] [Info] Number of data points in the train set: 2846, number of used features: 10\n",
      "[LightGBM] [Info] Start training from score 0.669038\n",
      "[LightGBM] [Info] Auto-choosing col-wise multi-threading, the overhead of testing was 0.000110 seconds.\n",
      "You can set `force_col_wise=true` to remove the overhead.\n",
      "[LightGBM] [Info] Total Bins 1538\n",
      "[LightGBM] [Info] Number of data points in the train set: 2846, number of used features: 10\n",
      "[LightGBM] [Info] Start training from score 0.668745\n",
      "[LightGBM] [Info] Auto-choosing col-wise multi-threading, the overhead of testing was 0.000085 seconds.\n",
      "You can set `force_col_wise=true` to remove the overhead.\n",
      "[LightGBM] [Info] Total Bins 1538\n",
      "[LightGBM] [Info] Number of data points in the train set: 2846, number of used features: 10\n",
      "[LightGBM] [Info] Start training from score 0.668783\n",
      "[LightGBM] [Info] Auto-choosing col-wise multi-threading, the overhead of testing was 0.000125 seconds.\n",
      "You can set `force_col_wise=true` to remove the overhead.\n",
      "[LightGBM] [Info] Total Bins 1538\n",
      "[LightGBM] [Info] Number of data points in the train set: 2847, number of used features: 10\n",
      "[LightGBM] [Info] Start training from score 0.668230\n",
      "[LightGBM] [Info] Auto-choosing col-wise multi-threading, the overhead of testing was 0.000106 seconds.\n",
      "You can set `force_col_wise=true` to remove the overhead.\n",
      "[LightGBM] [Info] Total Bins 1538\n",
      "[LightGBM] [Info] Number of data points in the train set: 2847, number of used features: 10\n",
      "[LightGBM] [Info] Start training from score 0.668924\n",
      "[LightGBM] [Info] Auto-choosing col-wise multi-threading, the overhead of testing was 0.000113 seconds.\n",
      "You can set `force_col_wise=true` to remove the overhead.\n",
      "[LightGBM] [Info] Total Bins 1538\n",
      "[LightGBM] [Info] Number of data points in the train set: 2847, number of used features: 10\n",
      "[LightGBM] [Info] Start training from score 0.669928\n",
      "lgb is done.\n",
      "xgb is done.\n",
      "ridge is done.\n",
      "svr is done.\n",
      "----stacked_train----\n",
      "            lgb       xgb     ridge       svr    y_true\n",
      "0     0.825524  0.818019  0.845207  0.729222  0.825175\n",
      "1     0.818999  0.816678  0.841490  0.725828  0.815965\n",
      "2     0.818584  0.823208  0.843259  0.729916  0.815977\n",
      "3     0.818268  0.809581  0.837755  0.720760  0.825194\n",
      "4     0.807632  0.804139  0.825797  0.723044  0.806900\n",
      "...        ...       ...       ...       ...       ...\n",
      "3248  0.258774  0.272967  0.301466  0.346290  0.274986\n",
      "3249  0.246403  0.258883  0.301630  0.340658  0.274983\n",
      "3250  0.256696  0.238697  0.293456  0.340403  0.256645\n",
      "3251  0.259330  0.235059  0.284795  0.338341  0.238319\n",
      "3252  0.258236  0.255965  0.278307  0.337175  0.238329\n",
      "\n",
      "[3253 rows x 5 columns]\n",
      "----stacked_test----\n",
      "           lgb       xgb     ridge       svr\n",
      "0    0.483669  0.479782  0.466705  0.476480\n",
      "1    0.465672  0.459826  0.460158  0.459412\n",
      "2    0.453368  0.447264  0.453169  0.446421\n",
      "3    0.455512  0.448710  0.451045  0.446389\n",
      "4    0.442668  0.439151  0.445062  0.445235\n",
      "..        ...       ...       ...       ...\n",
      "115  0.422857  0.420655  0.432965  0.428953\n",
      "116  0.417385  0.418607  0.424322  0.422574\n",
      "117  0.418010  0.417694  0.422991  0.425431\n",
      "118  0.417835  0.417619  0.422482  0.425363\n",
      "119  0.417679  0.417067  0.422297  0.423558\n",
      "\n",
      "[120 rows x 4 columns]\n"
     ]
    },
    {
     "data": {
      "text/plain": "   Unnamed: 0  cycle CS_Name    result\n0         105    735  CS2_35  0.480293\n1         106    736  CS2_35  0.462101\n2         107    737  CS2_35  0.449885\n3         108    738  CS2_35  0.451464\n4         109    739  CS2_35  0.440546",
      "text/html": "<div>\n<style scoped>\n    .dataframe tbody tr th:only-of-type {\n        vertical-align: middle;\n    }\n\n    .dataframe tbody tr th {\n        vertical-align: top;\n    }\n\n    .dataframe thead th {\n        text-align: right;\n    }\n</style>\n<table border=\"1\" class=\"dataframe\">\n  <thead>\n    <tr style=\"text-align: right;\">\n      <th></th>\n      <th>Unnamed: 0</th>\n      <th>cycle</th>\n      <th>CS_Name</th>\n      <th>result</th>\n    </tr>\n  </thead>\n  <tbody>\n    <tr>\n      <th>0</th>\n      <td>105</td>\n      <td>735</td>\n      <td>CS2_35</td>\n      <td>0.480293</td>\n    </tr>\n    <tr>\n      <th>1</th>\n      <td>106</td>\n      <td>736</td>\n      <td>CS2_35</td>\n      <td>0.462101</td>\n    </tr>\n    <tr>\n      <th>2</th>\n      <td>107</td>\n      <td>737</td>\n      <td>CS2_35</td>\n      <td>0.449885</td>\n    </tr>\n    <tr>\n      <th>3</th>\n      <td>108</td>\n      <td>738</td>\n      <td>CS2_35</td>\n      <td>0.451464</td>\n    </tr>\n    <tr>\n      <th>4</th>\n      <td>109</td>\n      <td>739</td>\n      <td>CS2_35</td>\n      <td>0.440546</td>\n    </tr>\n  </tbody>\n</table>\n</div>"
     },
     "execution_count": 11,
     "metadata": {},
     "output_type": "execute_result"
    }
   ],
   "source": [
    "# \"\"\"结果注册\"\"\"\n",
    "sr = StackingRegressor(models, model_names, ridge, kf)\n",
    "sample_submission_df = pd.read_csv('../数据/清理后的数据/submission_example.csv')\n",
    "sample_submission_df['result'] = sr.fit_predict(X, y, clean_test)\n",
    "sample_submission_df.to_csv('../结果/submission_5.csv', index=False)\n",
    "sample_submission_df.head()"
   ],
   "metadata": {
    "collapsed": false,
    "ExecuteTime": {
     "end_time": "2024-07-03T01:02:26.297252900Z",
     "start_time": "2024-07-03T01:02:24.502949400Z"
    }
   }
  },
  {
   "cell_type": "code",
   "execution_count": 10,
   "outputs": [],
   "source": [],
   "metadata": {
    "collapsed": false,
    "ExecuteTime": {
     "end_time": "2024-07-03T01:01:05.461541600Z",
     "start_time": "2024-07-03T01:01:05.460035400Z"
    }
   }
  }
 ],
 "metadata": {
  "kernelspec": {
   "display_name": "Python 3",
   "language": "python",
   "name": "python3"
  },
  "language_info": {
   "codemirror_mode": {
    "name": "ipython",
    "version": 2
   },
   "file_extension": ".py",
   "mimetype": "text/x-python",
   "name": "python",
   "nbconvert_exporter": "python",
   "pygments_lexer": "ipython2",
   "version": "2.7.6"
  }
 },
 "nbformat": 4,
 "nbformat_minor": 0
}
