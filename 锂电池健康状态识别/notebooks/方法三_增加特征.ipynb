{
 "cells": [
  {
   "cell_type": "code",
   "execution_count": 153,
   "metadata": {
    "collapsed": true,
    "ExecuteTime": {
     "end_time": "2024-06-05T15:23:57.315134200Z",
     "start_time": "2024-06-05T15:23:57.301320300Z"
    }
   },
   "outputs": [],
   "source": [
    "import warnings\n",
    "import numpy as np\n",
    "import pandas as pd\n",
    "import seaborn as sns\n",
    "from scipy import stats\n",
    "from scipy.stats import norm,skew\n",
    "from scipy.special import boxcox1p\n",
    "from scipy.stats import boxcox_normmax\n",
    "from sklearn.linear_model import Ridge, RidgeCV, ElasticNet, LassoCV, LassoLarsCV\n",
    "from sklearn.model_selection import cross_val_score\n",
    "from sklearn.ensemble import GradientBoostingRegressor, RandomForestRegressor\n",
    "from lightgbm import LGBMRegressor\n",
    "from xgboost import XGBRegressor\n",
    "from sklearn.svm import SVR\n",
    "from sklearn.pipeline import make_pipeline\n",
    "from sklearn.preprocessing import RobustScaler\n",
    "from sklearn.model_selection import KFold, GridSearchCV, cross_val_score, train_test_split\n",
    "from sklearn.metrics import mean_squared_error\n",
    "import matplotlib.pyplot as plt\n",
    "\n",
    "# Comment this if the data visualisations doesn't work on your side\n",
    "%matplotlib inline\n"
   ]
  },
  {
   "cell_type": "code",
   "execution_count": 154,
   "outputs": [
    {
     "name": "stdout",
     "output_type": "stream",
     "text": [
      "完整训练集大小是 (3253, 7)\n",
      "完整测试集大小是 (120, 6)\n"
     ]
    }
   ],
   "source": [
    "\"\"\"数据集加载\"\"\"\n",
    "train_file_path = \"../数据/清理后的数据/clean_train.csv\"\n",
    "train = pd.read_csv(train_file_path)\n",
    "test_file_path = \"../数据/清理后的数据/clean_test.csv\"\n",
    "test = pd.read_csv(test_file_path)\n",
    "print(\"完整训练集大小是 {}\".format(train.shape))\n",
    "print(\"完整测试集大小是 {}\".format(test.shape))\n"
   ],
   "metadata": {
    "collapsed": false,
    "ExecuteTime": {
     "end_time": "2024-06-05T15:23:57.323570700Z",
     "start_time": "2024-06-05T15:23:57.309132500Z"
    }
   }
  },
  {
   "cell_type": "code",
   "execution_count": 155,
   "outputs": [
    {
     "name": "stdout",
     "output_type": "stream",
     "text": [
      "all_data size is : (3373, 6)\n"
     ]
    },
    {
     "data": {
      "text/plain": "     cycle  capacity  resistance         CCCT         CVCT CS_Name\n0      1.0  1.126385    0.094009  6613.059052  2251.498033  CS2_35\n1      2.0  1.126160    0.091661  6612.402800  2231.967052  CS2_35\n2      3.0  1.125966    0.094649  6608.560673  2228.216959  CS2_35\n3      4.0  1.118508    0.091413  6604.732222  2247.561061  CS2_35\n4      5.0  1.117210    0.091413  6629.211049  2077.692393  CS2_35\n..     ...       ...         ...          ...          ...     ...\n995  385.0  0.969525    0.093080  5500.193208  2503.694372  CS2_36\n996  386.0  0.978220    0.088546  5475.849651  2541.521603  CS2_36\n997  387.0  0.978875    0.087654  5547.057277  2366.262200  CS2_36\n998  388.0  0.969841    0.090171  5607.496941  2322.231989  CS2_36\n999  389.0  0.962900    0.092439  5598.935383  2359.900566  CS2_36\n\n[1000 rows x 6 columns]",
      "text/html": "<div>\n<style scoped>\n    .dataframe tbody tr th:only-of-type {\n        vertical-align: middle;\n    }\n\n    .dataframe tbody tr th {\n        vertical-align: top;\n    }\n\n    .dataframe thead th {\n        text-align: right;\n    }\n</style>\n<table border=\"1\" class=\"dataframe\">\n  <thead>\n    <tr style=\"text-align: right;\">\n      <th></th>\n      <th>cycle</th>\n      <th>capacity</th>\n      <th>resistance</th>\n      <th>CCCT</th>\n      <th>CVCT</th>\n      <th>CS_Name</th>\n    </tr>\n  </thead>\n  <tbody>\n    <tr>\n      <th>0</th>\n      <td>1.0</td>\n      <td>1.126385</td>\n      <td>0.094009</td>\n      <td>6613.059052</td>\n      <td>2251.498033</td>\n      <td>CS2_35</td>\n    </tr>\n    <tr>\n      <th>1</th>\n      <td>2.0</td>\n      <td>1.126160</td>\n      <td>0.091661</td>\n      <td>6612.402800</td>\n      <td>2231.967052</td>\n      <td>CS2_35</td>\n    </tr>\n    <tr>\n      <th>2</th>\n      <td>3.0</td>\n      <td>1.125966</td>\n      <td>0.094649</td>\n      <td>6608.560673</td>\n      <td>2228.216959</td>\n      <td>CS2_35</td>\n    </tr>\n    <tr>\n      <th>3</th>\n      <td>4.0</td>\n      <td>1.118508</td>\n      <td>0.091413</td>\n      <td>6604.732222</td>\n      <td>2247.561061</td>\n      <td>CS2_35</td>\n    </tr>\n    <tr>\n      <th>4</th>\n      <td>5.0</td>\n      <td>1.117210</td>\n      <td>0.091413</td>\n      <td>6629.211049</td>\n      <td>2077.692393</td>\n      <td>CS2_35</td>\n    </tr>\n    <tr>\n      <th>...</th>\n      <td>...</td>\n      <td>...</td>\n      <td>...</td>\n      <td>...</td>\n      <td>...</td>\n      <td>...</td>\n    </tr>\n    <tr>\n      <th>995</th>\n      <td>385.0</td>\n      <td>0.969525</td>\n      <td>0.093080</td>\n      <td>5500.193208</td>\n      <td>2503.694372</td>\n      <td>CS2_36</td>\n    </tr>\n    <tr>\n      <th>996</th>\n      <td>386.0</td>\n      <td>0.978220</td>\n      <td>0.088546</td>\n      <td>5475.849651</td>\n      <td>2541.521603</td>\n      <td>CS2_36</td>\n    </tr>\n    <tr>\n      <th>997</th>\n      <td>387.0</td>\n      <td>0.978875</td>\n      <td>0.087654</td>\n      <td>5547.057277</td>\n      <td>2366.262200</td>\n      <td>CS2_36</td>\n    </tr>\n    <tr>\n      <th>998</th>\n      <td>388.0</td>\n      <td>0.969841</td>\n      <td>0.090171</td>\n      <td>5607.496941</td>\n      <td>2322.231989</td>\n      <td>CS2_36</td>\n    </tr>\n    <tr>\n      <th>999</th>\n      <td>389.0</td>\n      <td>0.962900</td>\n      <td>0.092439</td>\n      <td>5598.935383</td>\n      <td>2359.900566</td>\n      <td>CS2_36</td>\n    </tr>\n  </tbody>\n</table>\n<p>1000 rows × 6 columns</p>\n</div>"
     },
     "execution_count": 155,
     "metadata": {},
     "output_type": "execute_result"
    }
   ],
   "source": [
    "ntrain = train.shape[0]\n",
    "ntest = test.shape[0]\n",
    "y_train = train.SoH.values\n",
    "dataset_df = pd.concat((train, test)).reset_index(drop=True)\n",
    "dataset_df.drop(['SoH'], axis=1, inplace=True)\n",
    "# dataset_df.drop(['CS_Name'], axis=1, inplace=True)\n",
    "print(\"all_data size is : {}\".format(dataset_df.shape))\n",
    "dataset_df.head(1000)"
   ],
   "metadata": {
    "collapsed": false,
    "ExecuteTime": {
     "end_time": "2024-06-05T15:23:57.355580200Z",
     "start_time": "2024-06-05T15:23:57.324571100Z"
    }
   }
  },
  {
   "cell_type": "code",
   "execution_count": 156,
   "outputs": [
    {
     "data": {
      "text/plain": "'新增特征'"
     },
     "execution_count": 156,
     "metadata": {},
     "output_type": "execute_result"
    }
   ],
   "source": [
    "\n",
    "\"\"\"新增特征\"\"\"\n",
    "\n",
    "#恒压充电和恒流充电时间加总\n",
    "# dataset_df['Total_time'] = (dataset_df['CCCT'] + dataset_df['CVCT'])\n"
   ],
   "metadata": {
    "collapsed": false,
    "ExecuteTime": {
     "end_time": "2024-06-05T15:23:57.356004300Z",
     "start_time": "2024-06-05T15:23:57.335690800Z"
    }
   }
  },
  {
   "cell_type": "code",
   "execution_count": 157,
   "outputs": [
    {
     "data": {
      "text/plain": "   cycle  capacity  resistance         CCCT         CVCT  CS_Name_CS2_35  \\\n0    1.0  1.126385    0.094009  6613.059052  2251.498033            True   \n1    2.0  1.126160    0.091661  6612.402800  2231.967052            True   \n2    3.0  1.125966    0.094649  6608.560673  2228.216959            True   \n\n   CS_Name_CS2_36  CS_Name_CS2_37  CS_Name_CS2_38  \n0           False           False           False  \n1           False           False           False  \n2           False           False           False  ",
      "text/html": "<div>\n<style scoped>\n    .dataframe tbody tr th:only-of-type {\n        vertical-align: middle;\n    }\n\n    .dataframe tbody tr th {\n        vertical-align: top;\n    }\n\n    .dataframe thead th {\n        text-align: right;\n    }\n</style>\n<table border=\"1\" class=\"dataframe\">\n  <thead>\n    <tr style=\"text-align: right;\">\n      <th></th>\n      <th>cycle</th>\n      <th>capacity</th>\n      <th>resistance</th>\n      <th>CCCT</th>\n      <th>CVCT</th>\n      <th>CS_Name_CS2_35</th>\n      <th>CS_Name_CS2_36</th>\n      <th>CS_Name_CS2_37</th>\n      <th>CS_Name_CS2_38</th>\n    </tr>\n  </thead>\n  <tbody>\n    <tr>\n      <th>0</th>\n      <td>1.0</td>\n      <td>1.126385</td>\n      <td>0.094009</td>\n      <td>6613.059052</td>\n      <td>2251.498033</td>\n      <td>True</td>\n      <td>False</td>\n      <td>False</td>\n      <td>False</td>\n    </tr>\n    <tr>\n      <th>1</th>\n      <td>2.0</td>\n      <td>1.126160</td>\n      <td>0.091661</td>\n      <td>6612.402800</td>\n      <td>2231.967052</td>\n      <td>True</td>\n      <td>False</td>\n      <td>False</td>\n      <td>False</td>\n    </tr>\n    <tr>\n      <th>2</th>\n      <td>3.0</td>\n      <td>1.125966</td>\n      <td>0.094649</td>\n      <td>6608.560673</td>\n      <td>2228.216959</td>\n      <td>True</td>\n      <td>False</td>\n      <td>False</td>\n      <td>False</td>\n    </tr>\n  </tbody>\n</table>\n</div>"
     },
     "execution_count": 157,
     "metadata": {},
     "output_type": "execute_result"
    }
   ],
   "source": [
    "\"\"\"对CS_name进行独热编码\"\"\"\n",
    "dataset_df = pd.get_dummies(dataset_df)\n",
    "dataset_df.head(3)"
   ],
   "metadata": {
    "collapsed": false,
    "ExecuteTime": {
     "end_time": "2024-06-05T15:23:57.356004300Z",
     "start_time": "2024-06-05T15:23:57.340941500Z"
    }
   }
  },
  {
   "cell_type": "code",
   "execution_count": 158,
   "outputs": [],
   "source": [
    "# \"\"\"归一化\"\"\"\n",
    "# def min_max_normalization(data):\n",
    "#     min_val = np.min(data)\n",
    "#     max_val = np.max(data)\n",
    "#     return (data - min_val) / (max_val - min_val)\n",
    "#\n",
    "# # 示例\n",
    "# dataset_df['CCCT'] = min_max_normalization(dataset_df['CCCT'])\n",
    "# dataset_df['CVCT'] = min_max_normalization(dataset_df['CVCT'])\n",
    "# dataset_df['Total_time'] = min_max_normalization(dataset_df['Total_time'])\n",
    "# print(dataset_df)"
   ],
   "metadata": {
    "collapsed": false,
    "ExecuteTime": {
     "end_time": "2024-06-05T15:23:57.364510900Z",
     "start_time": "2024-06-05T15:23:57.354580400Z"
    }
   }
  },
  {
   "cell_type": "code",
   "execution_count": 159,
   "outputs": [
    {
     "data": {
      "text/plain": "     cycle  capacity  resistance         CCCT         CVCT  CS_Name_CS2_35  \\\n0      1.0  1.126385    0.094009  6613.059052  2251.498033            True   \n1      2.0  1.126160    0.091661  6612.402800  2231.967052            True   \n2      3.0  1.125966    0.094649  6608.560673  2228.216959            True   \n3      4.0  1.118508    0.091413  6604.732222  2247.561061            True   \n4      5.0  1.117210    0.091413  6629.211049  2077.692393            True   \n..     ...       ...         ...          ...          ...             ...   \n995  385.0  0.969525    0.093080  5500.193208  2503.694372           False   \n996  386.0  0.978220    0.088546  5475.849651  2541.521603           False   \n997  387.0  0.978875    0.087654  5547.057277  2366.262200           False   \n998  388.0  0.969841    0.090171  5607.496941  2322.231989           False   \n999  389.0  0.962900    0.092439  5598.935383  2359.900566           False   \n\n     CS_Name_CS2_36  CS_Name_CS2_37  CS_Name_CS2_38       SoH  \n0             False           False           False  0.825175  \n1             False           False           False  0.815965  \n2             False           False           False  0.815977  \n3             False           False           False  0.825194  \n4             False           False           False  0.806900  \n..              ...             ...             ...       ...  \n995            True           False           False  0.733665  \n996            True           False           False  0.715319  \n997            True           False           False  0.724505  \n998            True           False           False  0.715312  \n999            True           False           False  0.715299  \n\n[1000 rows x 10 columns]",
      "text/html": "<div>\n<style scoped>\n    .dataframe tbody tr th:only-of-type {\n        vertical-align: middle;\n    }\n\n    .dataframe tbody tr th {\n        vertical-align: top;\n    }\n\n    .dataframe thead th {\n        text-align: right;\n    }\n</style>\n<table border=\"1\" class=\"dataframe\">\n  <thead>\n    <tr style=\"text-align: right;\">\n      <th></th>\n      <th>cycle</th>\n      <th>capacity</th>\n      <th>resistance</th>\n      <th>CCCT</th>\n      <th>CVCT</th>\n      <th>CS_Name_CS2_35</th>\n      <th>CS_Name_CS2_36</th>\n      <th>CS_Name_CS2_37</th>\n      <th>CS_Name_CS2_38</th>\n      <th>SoH</th>\n    </tr>\n  </thead>\n  <tbody>\n    <tr>\n      <th>0</th>\n      <td>1.0</td>\n      <td>1.126385</td>\n      <td>0.094009</td>\n      <td>6613.059052</td>\n      <td>2251.498033</td>\n      <td>True</td>\n      <td>False</td>\n      <td>False</td>\n      <td>False</td>\n      <td>0.825175</td>\n    </tr>\n    <tr>\n      <th>1</th>\n      <td>2.0</td>\n      <td>1.126160</td>\n      <td>0.091661</td>\n      <td>6612.402800</td>\n      <td>2231.967052</td>\n      <td>True</td>\n      <td>False</td>\n      <td>False</td>\n      <td>False</td>\n      <td>0.815965</td>\n    </tr>\n    <tr>\n      <th>2</th>\n      <td>3.0</td>\n      <td>1.125966</td>\n      <td>0.094649</td>\n      <td>6608.560673</td>\n      <td>2228.216959</td>\n      <td>True</td>\n      <td>False</td>\n      <td>False</td>\n      <td>False</td>\n      <td>0.815977</td>\n    </tr>\n    <tr>\n      <th>3</th>\n      <td>4.0</td>\n      <td>1.118508</td>\n      <td>0.091413</td>\n      <td>6604.732222</td>\n      <td>2247.561061</td>\n      <td>True</td>\n      <td>False</td>\n      <td>False</td>\n      <td>False</td>\n      <td>0.825194</td>\n    </tr>\n    <tr>\n      <th>4</th>\n      <td>5.0</td>\n      <td>1.117210</td>\n      <td>0.091413</td>\n      <td>6629.211049</td>\n      <td>2077.692393</td>\n      <td>True</td>\n      <td>False</td>\n      <td>False</td>\n      <td>False</td>\n      <td>0.806900</td>\n    </tr>\n    <tr>\n      <th>...</th>\n      <td>...</td>\n      <td>...</td>\n      <td>...</td>\n      <td>...</td>\n      <td>...</td>\n      <td>...</td>\n      <td>...</td>\n      <td>...</td>\n      <td>...</td>\n      <td>...</td>\n    </tr>\n    <tr>\n      <th>995</th>\n      <td>385.0</td>\n      <td>0.969525</td>\n      <td>0.093080</td>\n      <td>5500.193208</td>\n      <td>2503.694372</td>\n      <td>False</td>\n      <td>True</td>\n      <td>False</td>\n      <td>False</td>\n      <td>0.733665</td>\n    </tr>\n    <tr>\n      <th>996</th>\n      <td>386.0</td>\n      <td>0.978220</td>\n      <td>0.088546</td>\n      <td>5475.849651</td>\n      <td>2541.521603</td>\n      <td>False</td>\n      <td>True</td>\n      <td>False</td>\n      <td>False</td>\n      <td>0.715319</td>\n    </tr>\n    <tr>\n      <th>997</th>\n      <td>387.0</td>\n      <td>0.978875</td>\n      <td>0.087654</td>\n      <td>5547.057277</td>\n      <td>2366.262200</td>\n      <td>False</td>\n      <td>True</td>\n      <td>False</td>\n      <td>False</td>\n      <td>0.724505</td>\n    </tr>\n    <tr>\n      <th>998</th>\n      <td>388.0</td>\n      <td>0.969841</td>\n      <td>0.090171</td>\n      <td>5607.496941</td>\n      <td>2322.231989</td>\n      <td>False</td>\n      <td>True</td>\n      <td>False</td>\n      <td>False</td>\n      <td>0.715312</td>\n    </tr>\n    <tr>\n      <th>999</th>\n      <td>389.0</td>\n      <td>0.962900</td>\n      <td>0.092439</td>\n      <td>5598.935383</td>\n      <td>2359.900566</td>\n      <td>False</td>\n      <td>True</td>\n      <td>False</td>\n      <td>False</td>\n      <td>0.715299</td>\n    </tr>\n  </tbody>\n</table>\n<p>1000 rows × 10 columns</p>\n</div>"
     },
     "execution_count": 159,
     "metadata": {},
     "output_type": "execute_result"
    }
   ],
   "source": [
    "\"\"\"模型构建与评估\"\"\"\n",
    "\n",
    "\"\"\"训练测试集分隔\"\"\"\n",
    "clean_train = dataset_df[:ntrain]\n",
    "clean_test = dataset_df[ntrain:]\n",
    "clean_train = pd.concat([clean_train, pd.Series(y_train, name='SoH')], axis=1)\n",
    "clean_train.shape,clean_test.shape\n",
    "clean_train.head(1000)"
   ],
   "metadata": {
    "collapsed": false,
    "ExecuteTime": {
     "end_time": "2024-06-05T15:23:57.378358Z",
     "start_time": "2024-06-05T15:23:57.358509800Z"
    }
   }
  },
  {
   "cell_type": "code",
   "execution_count": 159,
   "outputs": [],
   "source": [],
   "metadata": {
    "collapsed": false,
    "ExecuteTime": {
     "end_time": "2024-06-05T15:23:57.425872500Z",
     "start_time": "2024-06-05T15:23:57.378358Z"
    }
   }
  },
  {
   "cell_type": "code",
   "execution_count": 160,
   "outputs": [
    {
     "name": "stdout",
     "output_type": "stream",
     "text": [
      "[LightGBM] [Info] Auto-choosing col-wise multi-threading, the overhead of testing was 0.000085 seconds.\n",
      "You can set `force_col_wise=true` to remove the overhead.\n",
      "[LightGBM] [Info] Total Bins 1283\n",
      "[LightGBM] [Info] Number of data points in the train set: 2602, number of used features: 9\n",
      "[LightGBM] [Info] Start training from score 0.655701\n",
      "[LightGBM] [Info] Auto-choosing col-wise multi-threading, the overhead of testing was 0.000109 seconds.\n",
      "You can set `force_col_wise=true` to remove the overhead.\n",
      "[LightGBM] [Info] Total Bins 1283\n",
      "[LightGBM] [Info] Number of data points in the train set: 2602, number of used features: 9\n",
      "[LightGBM] [Info] Start training from score 0.659202\n",
      "[LightGBM] [Info] Auto-choosing col-wise multi-threading, the overhead of testing was 0.000081 seconds.\n",
      "You can set `force_col_wise=true` to remove the overhead.\n",
      "[LightGBM] [Info] Total Bins 1283\n",
      "[LightGBM] [Info] Number of data points in the train set: 2602, number of used features: 9\n",
      "[LightGBM] [Info] Start training from score 0.659821\n",
      "[LightGBM] [Info] Auto-choosing col-wise multi-threading, the overhead of testing was 0.000089 seconds.\n",
      "You can set `force_col_wise=true` to remove the overhead.\n",
      "[LightGBM] [Info] Total Bins 1283\n",
      "[LightGBM] [Info] Number of data points in the train set: 2603, number of used features: 9\n",
      "[LightGBM] [Info] Start training from score 0.655473\n",
      "[LightGBM] [Info] Auto-choosing col-wise multi-threading, the overhead of testing was 0.000080 seconds.\n",
      "You can set `force_col_wise=true` to remove the overhead.\n",
      "[LightGBM] [Info] Total Bins 1283\n",
      "[LightGBM] [Info] Number of data points in the train set: 2603, number of used features: 9\n",
      "[LightGBM] [Info] Start training from score 0.715383\n",
      "lgb rmse score: 0.0393, rmse std: 0.0540\n",
      "xgb rmse score: 0.0383, rmse std: 0.0519\n",
      "ridge rmse score: 0.0255, rmse std: 0.0203\n",
      "svr rmse score: 0.0971, rmse std: 0.0820\n"
     ]
    },
    {
     "data": {
      "text/plain": "               ridge       xgb       lgb       svr\nrmse_score  0.025468  0.038279  0.039293  0.097092\nrmse_std    0.020327  0.051887  0.054035  0.082041",
      "text/html": "<div>\n<style scoped>\n    .dataframe tbody tr th:only-of-type {\n        vertical-align: middle;\n    }\n\n    .dataframe tbody tr th {\n        vertical-align: top;\n    }\n\n    .dataframe thead th {\n        text-align: right;\n    }\n</style>\n<table border=\"1\" class=\"dataframe\">\n  <thead>\n    <tr style=\"text-align: right;\">\n      <th></th>\n      <th>ridge</th>\n      <th>xgb</th>\n      <th>lgb</th>\n      <th>svr</th>\n    </tr>\n  </thead>\n  <tbody>\n    <tr>\n      <th>rmse_score</th>\n      <td>0.025468</td>\n      <td>0.038279</td>\n      <td>0.039293</td>\n      <td>0.097092</td>\n    </tr>\n    <tr>\n      <th>rmse_std</th>\n      <td>0.020327</td>\n      <td>0.051887</td>\n      <td>0.054035</td>\n      <td>0.082041</td>\n    </tr>\n  </tbody>\n</table>\n</div>"
     },
     "execution_count": 160,
     "metadata": {},
     "output_type": "execute_result"
    }
   ],
   "source": [
    "\"\"\"模型训练与预测\"\"\"\n",
    "# 定义评价指标\n",
    "def rmse_cv(model):\n",
    "    rmse= np.sqrt(-cross_val_score(model, X, y, scoring=\"neg_mean_squared_error\", cv = 5))\n",
    "    return(rmse)\n",
    "\n",
    "X = clean_train.drop(columns='SoH')\n",
    "y = clean_train['SoH']\n",
    "Xtrain, Xtest, ytrain, ytest = train_test_split(X, y, test_size=0.3, random_state=10)\n",
    "# 定义交叉验证模式\n",
    "kf = KFold(n_splits=8, random_state=50, shuffle=True)\n",
    "\n",
    "warnings.filterwarnings('ignore')\n",
    "# 建立基线模型\n",
    "lgb = LGBMRegressor(objective='regression', random_state=50)\n",
    "xgb = XGBRegressor(objective='reg:squarederror',random_state=50)\n",
    "ridge = make_pipeline(RobustScaler(), RidgeCV(cv=kf))\n",
    "svr = make_pipeline(RobustScaler(), SVR())\n",
    "gbr = GradientBoostingRegressor(random_state=50)\n",
    "rf = RandomForestRegressor(random_state=50)\n",
    "scores = {}\n",
    "# 基线模型评估\n",
    "models = [lgb, xgb, ridge, svr]\n",
    "model_names = ['lgb','xgb','ridge','svr']\n",
    "for i, model in enumerate(models):\n",
    "    score = rmse_cv(model)\n",
    "    print('{} rmse score: {:.4f}, rmse std: {:.4f}'.format(model_names[i], score.mean(), score.std()))\n",
    "    scores[model_names[i]] = (score.mean(), score.std())\n",
    "\n",
    "rmse_df = pd.DataFrame(scores, index=['rmse_score','rmse_std'])\n",
    "rmse_df.sort_values('rmse_score', axis=1, inplace=True)\n",
    "rmse_df\n",
    "\n"
   ],
   "metadata": {
    "collapsed": false,
    "ExecuteTime": {
     "end_time": "2024-06-05T15:23:58.227759200Z",
     "start_time": "2024-06-05T15:23:57.380863100Z"
    }
   }
  },
  {
   "cell_type": "code",
   "execution_count": 161,
   "outputs": [
    {
     "name": "stdout",
     "output_type": "stream",
     "text": [
      "[LightGBM] [Info] Auto-choosing col-wise multi-threading, the overhead of testing was 0.000084 seconds.\n",
      "You can set `force_col_wise=true` to remove the overhead.\n",
      "[LightGBM] [Info] Total Bins 1283\n",
      "[LightGBM] [Info] Number of data points in the train set: 1992, number of used features: 9\n",
      "[LightGBM] [Info] Start training from score 0.669763\n",
      "[LightGBM] [Info] Auto-choosing col-wise multi-threading, the overhead of testing was 0.000089 seconds.\n",
      "You can set `force_col_wise=true` to remove the overhead.\n",
      "[LightGBM] [Info] Total Bins 1283\n",
      "[LightGBM] [Info] Number of data points in the train set: 1992, number of used features: 9\n",
      "[LightGBM] [Info] Start training from score 0.671486\n",
      "[LightGBM] [Info] Auto-choosing col-wise multi-threading, the overhead of testing was 0.000079 seconds.\n",
      "You can set `force_col_wise=true` to remove the overhead.\n",
      "[LightGBM] [Info] Total Bins 1283\n",
      "[LightGBM] [Info] Number of data points in the train set: 1992, number of used features: 9\n",
      "[LightGBM] [Info] Start training from score 0.670979\n",
      "[LightGBM] [Info] Auto-choosing col-wise multi-threading, the overhead of testing was 0.000075 seconds.\n",
      "You can set `force_col_wise=true` to remove the overhead.\n",
      "[LightGBM] [Info] Total Bins 1283\n",
      "[LightGBM] [Info] Number of data points in the train set: 1992, number of used features: 9\n",
      "[LightGBM] [Info] Start training from score 0.669298\n",
      "[LightGBM] [Info] Auto-choosing col-wise multi-threading, the overhead of testing was 0.000086 seconds.\n",
      "You can set `force_col_wise=true` to remove the overhead.\n",
      "[LightGBM] [Info] Total Bins 1283\n",
      "[LightGBM] [Info] Number of data points in the train set: 1992, number of used features: 9\n",
      "[LightGBM] [Info] Start training from score 0.669152\n",
      "[LightGBM] [Info] Auto-choosing col-wise multi-threading, the overhead of testing was 0.000082 seconds.\n",
      "You can set `force_col_wise=true` to remove the overhead.\n",
      "[LightGBM] [Info] Total Bins 1283\n",
      "[LightGBM] [Info] Number of data points in the train set: 1993, number of used features: 9\n",
      "[LightGBM] [Info] Start training from score 0.672140\n",
      "[LightGBM] [Info] Auto-choosing col-wise multi-threading, the overhead of testing was 0.000080 seconds.\n",
      "You can set `force_col_wise=true` to remove the overhead.\n",
      "[LightGBM] [Info] Total Bins 1283\n",
      "[LightGBM] [Info] Number of data points in the train set: 1993, number of used features: 9\n",
      "[LightGBM] [Info] Start training from score 0.670011\n",
      "[LightGBM] [Info] Auto-choosing col-wise multi-threading, the overhead of testing was 0.000093 seconds.\n",
      "You can set `force_col_wise=true` to remove the overhead.\n",
      "[LightGBM] [Info] Total Bins 1283\n",
      "[LightGBM] [Info] Number of data points in the train set: 1993, number of used features: 9\n",
      "[LightGBM] [Info] Start training from score 0.671286\n",
      "lgb is done.\n",
      "xgb is done.\n",
      "ridge is done.\n",
      "svr is done.\n",
      "----stacked_train----\n",
      "            lgb       xgb     ridge       svr    y_true\n",
      "0     0.450273  0.449267  0.454557  0.446219  0.440112\n",
      "1     0.571488  0.572829  0.569241  0.604073  0.577583\n",
      "2     0.724216  0.723616  0.720444  0.686121  0.724342\n",
      "3     0.734439  0.735873  0.726438  0.702670  0.733288\n",
      "4     0.775356  0.778750  0.782196  0.709439  0.779523\n",
      "...        ...       ...       ...       ...       ...\n",
      "2272  0.403257  0.393358  0.418397  0.411521  0.394146\n",
      "2273  0.762576  0.761004  0.750535  0.704131  0.751800\n",
      "2274  0.681284  0.680469  0.678773  0.649137  0.678431\n",
      "2275  0.398754  0.400639  0.407554  0.409092  0.384971\n",
      "2276  0.774945  0.771104  0.788763  0.692792  0.770136\n",
      "\n",
      "[2277 rows x 5 columns]\n",
      "----stacked_test----\n",
      "           lgb       xgb     ridge       svr\n",
      "0    0.743697  0.742999  0.756077  0.704780\n",
      "1    0.711814  0.712149  0.709932  0.674398\n",
      "2    0.370843  0.369490  0.381903  0.384681\n",
      "3    0.713204  0.712839  0.727369  0.691850\n",
      "4    0.645981  0.647127  0.645089  0.637813\n",
      "..        ...       ...       ...       ...\n",
      "971  0.393228  0.388474  0.383019  0.386531\n",
      "972  0.611382  0.612698  0.618566  0.629998\n",
      "973  0.653902  0.652932  0.647803  0.659643\n",
      "974  0.775512  0.774814  0.778884  0.706267\n",
      "975  0.689768  0.689649  0.696424  0.678643\n",
      "\n",
      "[976 rows x 4 columns]\n",
      "0.006892410638367921\n"
     ]
    }
   ],
   "source": [
    "\"\"\"模型Stacking\"\"\"\n",
    "class StackingRegressor(object):\n",
    "\n",
    "    def __init__(self, fir_models, fir_model_names, sec_model, cv):\n",
    "        # 第一层的基模型\n",
    "        self.fir_models = fir_models\n",
    "        self.fir_model_names = fir_model_names\n",
    "        # 第二层用来预测结果的模型\n",
    "        self.sec_model = sec_model\n",
    "        # 交叉验证模式，必须为k_fold对象\n",
    "        self.cv = cv\n",
    "\n",
    "    def fit_predict(self, X, y, test):    # X,y,test必须为DataFrame\n",
    "        # 创建空DataFrame\n",
    "        stacked_train = pd.DataFrame()\n",
    "        stacked_test = pd.DataFrame()\n",
    "        # 初始化折数\n",
    "        n_fold = 0\n",
    "\n",
    "        # 遍历每个模型，做交叉验证\n",
    "        for i, model in enumerate(self.fir_models):\n",
    "            # 初始化stacked_train\n",
    "            stacked_train[self.fir_model_names[i]] = np.zeros(shape=(X.shape[0], ))\n",
    "\n",
    "            #遍历每一折交叉验证\n",
    "            for train_index, valid_index in self.cv.split(X):\n",
    "                # 初始化stacked_test\n",
    "                n_fold += 1\n",
    "                stacked_test[self.fir_model_names[i] + str(n_fold)] = np.zeros(shape=(test.shape[0], ))\n",
    "\n",
    "                # 划分数据集\n",
    "                X_train, y_train = X.iloc[train_index, :], y.iloc[train_index]\n",
    "                X_valid, y_valid = X.iloc[valid_index, :], y.iloc[valid_index]\n",
    "\n",
    "                # 训练模型并预测结果\n",
    "                model.fit(X_train, y_train)\n",
    "                stacked_train.loc[valid_index, self.fir_model_names[i]] = model.predict(X_valid)\n",
    "                stacked_test.loc[:, self.fir_model_names[i] + str(n_fold)] = model.predict(test)\n",
    "            print('{} is done.'.format(self.fir_model_names[i]))\n",
    "\n",
    "        # stacked_train加上真实值标签\n",
    "        y.reset_index(drop=True, inplace=True)\n",
    "        stacked_train['y_true'] = y\n",
    "\n",
    "        # 计算stacked_test中每个模型预测结果的平均值\n",
    "        for i, model_name in enumerate(self.fir_model_names):\n",
    "            stacked_test[model_name] = stacked_test.iloc[:, :8].mean(axis=1)\n",
    "            stacked_test.drop(stacked_test.iloc[:, :8], axis=1, inplace=True)\n",
    "\n",
    "        # 打印stacked_train和stacked_test\n",
    "        print('----stacked_train----\\n', stacked_train)\n",
    "        print('----stacked_test----\\n', stacked_test)\n",
    "\n",
    "        # 用sec_model预测结果\n",
    "        self.sec_model.fit(stacked_train.drop(columns='y_true'), stacked_train['y_true'])\n",
    "        y_pred = self.sec_model.predict(stacked_test)\n",
    "        return y_pred\n",
    "\n",
    "sr = StackingRegressor(models, model_names, ridge, kf)\n",
    "stacking_pred = sr.fit_predict(Xtrain, ytrain, Xtest)\n",
    "\n",
    "def rmse(y, y_pred):\n",
    "    rmse = np.sqrt(mean_squared_error(y, y_pred))\n",
    "    return rmse\n",
    "\n",
    "stacking_score = rmse(ytest, stacking_pred)\n",
    "print(stacking_score)\n"
   ],
   "metadata": {
    "collapsed": false,
    "ExecuteTime": {
     "end_time": "2024-06-05T15:23:59.759798700Z",
     "start_time": "2024-06-05T15:23:58.228760100Z"
    }
   }
  },
  {
   "cell_type": "code",
   "execution_count": 161,
   "outputs": [],
   "source": [],
   "metadata": {
    "collapsed": false,
    "ExecuteTime": {
     "end_time": "2024-06-05T15:23:59.761865200Z",
     "start_time": "2024-06-05T15:23:59.760359800Z"
    }
   }
  },
  {
   "cell_type": "code",
   "execution_count": 162,
   "outputs": [],
   "source": [
    "# \"\"\"结果注册\"\"\"\n",
    "# sr = StackingRegressor(models, model_names, ridge, kf)\n",
    "# sample_submission_df = pd.read_csv('../数据/清理后的数据/submission_example.csv')\n",
    "# sample_submission_df['result'] = sr.fit_predict(X, y, clean_test)\n",
    "# sample_submission_df.to_csv('../结果/submission_3.csv', index=False)\n",
    "# sample_submission_df.head()"
   ],
   "metadata": {
    "collapsed": false,
    "ExecuteTime": {
     "end_time": "2024-06-05T15:23:59.765130400Z",
     "start_time": "2024-06-05T15:23:59.762865700Z"
    }
   }
  },
  {
   "cell_type": "code",
   "execution_count": 162,
   "outputs": [],
   "source": [],
   "metadata": {
    "collapsed": false,
    "ExecuteTime": {
     "end_time": "2024-06-05T15:23:59.768403Z",
     "start_time": "2024-06-05T15:23:59.766298500Z"
    }
   }
  }
 ],
 "metadata": {
  "kernelspec": {
   "display_name": "Python 3",
   "language": "python",
   "name": "python3"
  },
  "language_info": {
   "codemirror_mode": {
    "name": "ipython",
    "version": 2
   },
   "file_extension": ".py",
   "mimetype": "text/x-python",
   "name": "python",
   "nbconvert_exporter": "python",
   "pygments_lexer": "ipython2",
   "version": "2.7.6"
  }
 },
 "nbformat": 4,
 "nbformat_minor": 0
}
