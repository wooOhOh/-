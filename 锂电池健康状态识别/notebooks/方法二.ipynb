{
 "cells": [
  {
   "cell_type": "code",
   "execution_count": 64,
   "metadata": {
    "collapsed": true,
    "ExecuteTime": {
     "end_time": "2024-06-05T07:38:56.364240400Z",
     "start_time": "2024-06-05T07:38:56.361119500Z"
    }
   },
   "outputs": [],
   "source": [
    "import warnings\n",
    "import numpy as np\n",
    "import pandas as pd\n",
    "import seaborn as sns\n",
    "from scipy import stats\n",
    "from scipy.stats import norm,skew\n",
    "from scipy.special import boxcox1p\n",
    "from scipy.stats import boxcox_normmax\n",
    "from sklearn.linear_model import Ridge, RidgeCV, ElasticNet, LassoCV, LassoLarsCV\n",
    "from sklearn.model_selection import cross_val_score\n",
    "from sklearn.ensemble import GradientBoostingRegressor, RandomForestRegressor\n",
    "from lightgbm import LGBMRegressor\n",
    "from xgboost import XGBRegressor\n",
    "from sklearn.svm import SVR\n",
    "from sklearn.pipeline import make_pipeline\n",
    "from sklearn.preprocessing import RobustScaler\n",
    "from sklearn.model_selection import KFold, GridSearchCV, cross_val_score, train_test_split\n",
    "from sklearn.metrics import mean_squared_error\n",
    "import matplotlib.pyplot as plt\n",
    "\n",
    "# Comment this if the data visualisations doesn't work on your side\n",
    "%matplotlib inline\n"
   ]
  },
  {
   "cell_type": "code",
   "execution_count": 65,
   "outputs": [
    {
     "name": "stdout",
     "output_type": "stream",
     "text": [
      "完整训练集大小是 (3253, 7)\n",
      "完整测试集大小是 (120, 6)\n"
     ]
    }
   ],
   "source": [
    "\"\"\"数据集加载\"\"\"\n",
    "train_file_path = \"../数据/清理后的数据/clean_train.csv\"\n",
    "train = pd.read_csv(train_file_path)\n",
    "test_file_path = \"../数据/清理后的数据/clean_test.csv\"\n",
    "test = pd.read_csv(test_file_path)\n",
    "print(\"完整训练集大小是 {}\".format(train.shape))\n",
    "print(\"完整测试集大小是 {}\".format(test.shape))\n"
   ],
   "metadata": {
    "collapsed": false,
    "ExecuteTime": {
     "end_time": "2024-06-05T07:38:56.392883200Z",
     "start_time": "2024-06-05T07:38:56.364240400Z"
    }
   }
  },
  {
   "cell_type": "code",
   "execution_count": 66,
   "outputs": [
    {
     "name": "stdout",
     "output_type": "stream",
     "text": [
      "all_data size is : (3373, 6)\n"
     ]
    },
    {
     "data": {
      "text/plain": "     cycle  capacity  resistance         CCCT         CVCT CS_Name\n0      1.0  1.126385    0.094009  6613.059052  2251.498033  CS2_35\n1      2.0  1.126160    0.091661  6612.402800  2231.967052  CS2_35\n2      3.0  1.125966    0.094649  6608.560673  2228.216959  CS2_35\n3      4.0  1.118508    0.091413  6604.732222  2247.561061  CS2_35\n4      5.0  1.117210    0.091413  6629.211049  2077.692393  CS2_35\n..     ...       ...         ...          ...          ...     ...\n995  385.0  0.969525    0.093080  5500.193208  2503.694372  CS2_36\n996  386.0  0.978220    0.088546  5475.849651  2541.521603  CS2_36\n997  387.0  0.978875    0.087654  5547.057277  2366.262200  CS2_36\n998  388.0  0.969841    0.090171  5607.496941  2322.231989  CS2_36\n999  389.0  0.962900    0.092439  5598.935383  2359.900566  CS2_36\n\n[1000 rows x 6 columns]",
      "text/html": "<div>\n<style scoped>\n    .dataframe tbody tr th:only-of-type {\n        vertical-align: middle;\n    }\n\n    .dataframe tbody tr th {\n        vertical-align: top;\n    }\n\n    .dataframe thead th {\n        text-align: right;\n    }\n</style>\n<table border=\"1\" class=\"dataframe\">\n  <thead>\n    <tr style=\"text-align: right;\">\n      <th></th>\n      <th>cycle</th>\n      <th>capacity</th>\n      <th>resistance</th>\n      <th>CCCT</th>\n      <th>CVCT</th>\n      <th>CS_Name</th>\n    </tr>\n  </thead>\n  <tbody>\n    <tr>\n      <th>0</th>\n      <td>1.0</td>\n      <td>1.126385</td>\n      <td>0.094009</td>\n      <td>6613.059052</td>\n      <td>2251.498033</td>\n      <td>CS2_35</td>\n    </tr>\n    <tr>\n      <th>1</th>\n      <td>2.0</td>\n      <td>1.126160</td>\n      <td>0.091661</td>\n      <td>6612.402800</td>\n      <td>2231.967052</td>\n      <td>CS2_35</td>\n    </tr>\n    <tr>\n      <th>2</th>\n      <td>3.0</td>\n      <td>1.125966</td>\n      <td>0.094649</td>\n      <td>6608.560673</td>\n      <td>2228.216959</td>\n      <td>CS2_35</td>\n    </tr>\n    <tr>\n      <th>3</th>\n      <td>4.0</td>\n      <td>1.118508</td>\n      <td>0.091413</td>\n      <td>6604.732222</td>\n      <td>2247.561061</td>\n      <td>CS2_35</td>\n    </tr>\n    <tr>\n      <th>4</th>\n      <td>5.0</td>\n      <td>1.117210</td>\n      <td>0.091413</td>\n      <td>6629.211049</td>\n      <td>2077.692393</td>\n      <td>CS2_35</td>\n    </tr>\n    <tr>\n      <th>...</th>\n      <td>...</td>\n      <td>...</td>\n      <td>...</td>\n      <td>...</td>\n      <td>...</td>\n      <td>...</td>\n    </tr>\n    <tr>\n      <th>995</th>\n      <td>385.0</td>\n      <td>0.969525</td>\n      <td>0.093080</td>\n      <td>5500.193208</td>\n      <td>2503.694372</td>\n      <td>CS2_36</td>\n    </tr>\n    <tr>\n      <th>996</th>\n      <td>386.0</td>\n      <td>0.978220</td>\n      <td>0.088546</td>\n      <td>5475.849651</td>\n      <td>2541.521603</td>\n      <td>CS2_36</td>\n    </tr>\n    <tr>\n      <th>997</th>\n      <td>387.0</td>\n      <td>0.978875</td>\n      <td>0.087654</td>\n      <td>5547.057277</td>\n      <td>2366.262200</td>\n      <td>CS2_36</td>\n    </tr>\n    <tr>\n      <th>998</th>\n      <td>388.0</td>\n      <td>0.969841</td>\n      <td>0.090171</td>\n      <td>5607.496941</td>\n      <td>2322.231989</td>\n      <td>CS2_36</td>\n    </tr>\n    <tr>\n      <th>999</th>\n      <td>389.0</td>\n      <td>0.962900</td>\n      <td>0.092439</td>\n      <td>5598.935383</td>\n      <td>2359.900566</td>\n      <td>CS2_36</td>\n    </tr>\n  </tbody>\n</table>\n<p>1000 rows × 6 columns</p>\n</div>"
     },
     "execution_count": 66,
     "metadata": {},
     "output_type": "execute_result"
    }
   ],
   "source": [
    "ntrain = train.shape[0]\n",
    "ntest = test.shape[0]\n",
    "y_train = train.SoH.values\n",
    "dataset_df = pd.concat((train, test)).reset_index(drop=True)\n",
    "dataset_df.drop(['SoH'], axis=1, inplace=True)\n",
    "print(\"all_data size is : {}\".format(dataset_df.shape))\n",
    "dataset_df.head(1000)"
   ],
   "metadata": {
    "collapsed": false,
    "ExecuteTime": {
     "end_time": "2024-06-05T07:38:56.392883200Z",
     "start_time": "2024-06-05T07:38:56.381930900Z"
    }
   }
  },
  {
   "cell_type": "code",
   "execution_count": 67,
   "outputs": [
    {
     "data": {
      "text/plain": "   cycle  capacity  resistance         CCCT         CVCT  CS_Name_CS2_35  \\\n0    1.0  1.126385    0.094009  6613.059052  2251.498033            True   \n1    2.0  1.126160    0.091661  6612.402800  2231.967052            True   \n2    3.0  1.125966    0.094649  6608.560673  2228.216959            True   \n\n   CS_Name_CS2_36  CS_Name_CS2_37  CS_Name_CS2_38  \n0           False           False           False  \n1           False           False           False  \n2           False           False           False  ",
      "text/html": "<div>\n<style scoped>\n    .dataframe tbody tr th:only-of-type {\n        vertical-align: middle;\n    }\n\n    .dataframe tbody tr th {\n        vertical-align: top;\n    }\n\n    .dataframe thead th {\n        text-align: right;\n    }\n</style>\n<table border=\"1\" class=\"dataframe\">\n  <thead>\n    <tr style=\"text-align: right;\">\n      <th></th>\n      <th>cycle</th>\n      <th>capacity</th>\n      <th>resistance</th>\n      <th>CCCT</th>\n      <th>CVCT</th>\n      <th>CS_Name_CS2_35</th>\n      <th>CS_Name_CS2_36</th>\n      <th>CS_Name_CS2_37</th>\n      <th>CS_Name_CS2_38</th>\n    </tr>\n  </thead>\n  <tbody>\n    <tr>\n      <th>0</th>\n      <td>1.0</td>\n      <td>1.126385</td>\n      <td>0.094009</td>\n      <td>6613.059052</td>\n      <td>2251.498033</td>\n      <td>True</td>\n      <td>False</td>\n      <td>False</td>\n      <td>False</td>\n    </tr>\n    <tr>\n      <th>1</th>\n      <td>2.0</td>\n      <td>1.126160</td>\n      <td>0.091661</td>\n      <td>6612.402800</td>\n      <td>2231.967052</td>\n      <td>True</td>\n      <td>False</td>\n      <td>False</td>\n      <td>False</td>\n    </tr>\n    <tr>\n      <th>2</th>\n      <td>3.0</td>\n      <td>1.125966</td>\n      <td>0.094649</td>\n      <td>6608.560673</td>\n      <td>2228.216959</td>\n      <td>True</td>\n      <td>False</td>\n      <td>False</td>\n      <td>False</td>\n    </tr>\n  </tbody>\n</table>\n</div>"
     },
     "execution_count": 67,
     "metadata": {},
     "output_type": "execute_result"
    }
   ],
   "source": [
    "\"\"\"对CS_name进行独热编码\"\"\"\n",
    "dataset_df = pd.get_dummies(dataset_df)\n",
    "dataset_df.head(3)"
   ],
   "metadata": {
    "collapsed": false,
    "ExecuteTime": {
     "end_time": "2024-06-05T07:38:56.407279900Z",
     "start_time": "2024-06-05T07:38:56.393882900Z"
    }
   }
  },
  {
   "cell_type": "code",
   "execution_count": 75,
   "outputs": [
    {
     "data": {
      "text/plain": "     cycle  capacity  resistance         CCCT         CVCT  CS_Name_CS2_35  \\\n0      1.0  1.126385    0.094009  6613.059052  2251.498033            True   \n1      2.0  1.126160    0.091661  6612.402800  2231.967052            True   \n2      3.0  1.125966    0.094649  6608.560673  2228.216959            True   \n3      4.0  1.118508    0.091413  6604.732222  2247.561061            True   \n4      5.0  1.117210    0.091413  6629.211049  2077.692393            True   \n..     ...       ...         ...          ...          ...             ...   \n995  385.0  0.969525    0.093080  5500.193208  2503.694372           False   \n996  386.0  0.978220    0.088546  5475.849651  2541.521603           False   \n997  387.0  0.978875    0.087654  5547.057277  2366.262200           False   \n998  388.0  0.969841    0.090171  5607.496941  2322.231989           False   \n999  389.0  0.962900    0.092439  5598.935383  2359.900566           False   \n\n     CS_Name_CS2_36  CS_Name_CS2_37  CS_Name_CS2_38       SoH  \n0             False           False           False  0.825175  \n1             False           False           False  0.815965  \n2             False           False           False  0.815977  \n3             False           False           False  0.825194  \n4             False           False           False  0.806900  \n..              ...             ...             ...       ...  \n995            True           False           False  0.733665  \n996            True           False           False  0.715319  \n997            True           False           False  0.724505  \n998            True           False           False  0.715312  \n999            True           False           False  0.715299  \n\n[1000 rows x 10 columns]",
      "text/html": "<div>\n<style scoped>\n    .dataframe tbody tr th:only-of-type {\n        vertical-align: middle;\n    }\n\n    .dataframe tbody tr th {\n        vertical-align: top;\n    }\n\n    .dataframe thead th {\n        text-align: right;\n    }\n</style>\n<table border=\"1\" class=\"dataframe\">\n  <thead>\n    <tr style=\"text-align: right;\">\n      <th></th>\n      <th>cycle</th>\n      <th>capacity</th>\n      <th>resistance</th>\n      <th>CCCT</th>\n      <th>CVCT</th>\n      <th>CS_Name_CS2_35</th>\n      <th>CS_Name_CS2_36</th>\n      <th>CS_Name_CS2_37</th>\n      <th>CS_Name_CS2_38</th>\n      <th>SoH</th>\n    </tr>\n  </thead>\n  <tbody>\n    <tr>\n      <th>0</th>\n      <td>1.0</td>\n      <td>1.126385</td>\n      <td>0.094009</td>\n      <td>6613.059052</td>\n      <td>2251.498033</td>\n      <td>True</td>\n      <td>False</td>\n      <td>False</td>\n      <td>False</td>\n      <td>0.825175</td>\n    </tr>\n    <tr>\n      <th>1</th>\n      <td>2.0</td>\n      <td>1.126160</td>\n      <td>0.091661</td>\n      <td>6612.402800</td>\n      <td>2231.967052</td>\n      <td>True</td>\n      <td>False</td>\n      <td>False</td>\n      <td>False</td>\n      <td>0.815965</td>\n    </tr>\n    <tr>\n      <th>2</th>\n      <td>3.0</td>\n      <td>1.125966</td>\n      <td>0.094649</td>\n      <td>6608.560673</td>\n      <td>2228.216959</td>\n      <td>True</td>\n      <td>False</td>\n      <td>False</td>\n      <td>False</td>\n      <td>0.815977</td>\n    </tr>\n    <tr>\n      <th>3</th>\n      <td>4.0</td>\n      <td>1.118508</td>\n      <td>0.091413</td>\n      <td>6604.732222</td>\n      <td>2247.561061</td>\n      <td>True</td>\n      <td>False</td>\n      <td>False</td>\n      <td>False</td>\n      <td>0.825194</td>\n    </tr>\n    <tr>\n      <th>4</th>\n      <td>5.0</td>\n      <td>1.117210</td>\n      <td>0.091413</td>\n      <td>6629.211049</td>\n      <td>2077.692393</td>\n      <td>True</td>\n      <td>False</td>\n      <td>False</td>\n      <td>False</td>\n      <td>0.806900</td>\n    </tr>\n    <tr>\n      <th>...</th>\n      <td>...</td>\n      <td>...</td>\n      <td>...</td>\n      <td>...</td>\n      <td>...</td>\n      <td>...</td>\n      <td>...</td>\n      <td>...</td>\n      <td>...</td>\n      <td>...</td>\n    </tr>\n    <tr>\n      <th>995</th>\n      <td>385.0</td>\n      <td>0.969525</td>\n      <td>0.093080</td>\n      <td>5500.193208</td>\n      <td>2503.694372</td>\n      <td>False</td>\n      <td>True</td>\n      <td>False</td>\n      <td>False</td>\n      <td>0.733665</td>\n    </tr>\n    <tr>\n      <th>996</th>\n      <td>386.0</td>\n      <td>0.978220</td>\n      <td>0.088546</td>\n      <td>5475.849651</td>\n      <td>2541.521603</td>\n      <td>False</td>\n      <td>True</td>\n      <td>False</td>\n      <td>False</td>\n      <td>0.715319</td>\n    </tr>\n    <tr>\n      <th>997</th>\n      <td>387.0</td>\n      <td>0.978875</td>\n      <td>0.087654</td>\n      <td>5547.057277</td>\n      <td>2366.262200</td>\n      <td>False</td>\n      <td>True</td>\n      <td>False</td>\n      <td>False</td>\n      <td>0.724505</td>\n    </tr>\n    <tr>\n      <th>998</th>\n      <td>388.0</td>\n      <td>0.969841</td>\n      <td>0.090171</td>\n      <td>5607.496941</td>\n      <td>2322.231989</td>\n      <td>False</td>\n      <td>True</td>\n      <td>False</td>\n      <td>False</td>\n      <td>0.715312</td>\n    </tr>\n    <tr>\n      <th>999</th>\n      <td>389.0</td>\n      <td>0.962900</td>\n      <td>0.092439</td>\n      <td>5598.935383</td>\n      <td>2359.900566</td>\n      <td>False</td>\n      <td>True</td>\n      <td>False</td>\n      <td>False</td>\n      <td>0.715299</td>\n    </tr>\n  </tbody>\n</table>\n<p>1000 rows × 10 columns</p>\n</div>"
     },
     "execution_count": 75,
     "metadata": {},
     "output_type": "execute_result"
    }
   ],
   "source": [
    "\"\"\"模型构建与评估\"\"\"\n",
    "\n",
    "\"\"\"训练测试集分隔\"\"\"\n",
    "clean_train = dataset_df[:ntrain]\n",
    "clean_test = dataset_df[ntrain:]\n",
    "clean_train = pd.concat([clean_train, pd.Series(y_train, name='SoH')], axis=1)\n",
    "clean_train.shape,clean_test.shape\n",
    "clean_train.head(1000)"
   ],
   "metadata": {
    "collapsed": false,
    "ExecuteTime": {
     "end_time": "2024-06-05T08:20:40.138631100Z",
     "start_time": "2024-06-05T08:20:40.127247600Z"
    }
   }
  },
  {
   "cell_type": "code",
   "execution_count": 72,
   "outputs": [
    {
     "name": "stdout",
     "output_type": "stream",
     "text": [
      "[LightGBM] [Info] Auto-choosing col-wise multi-threading, the overhead of testing was 0.000102 seconds.\n",
      "You can set `force_col_wise=true` to remove the overhead.\n",
      "[LightGBM] [Info] Total Bins 1283\n",
      "[LightGBM] [Info] Number of data points in the train set: 2602, number of used features: 9\n",
      "[LightGBM] [Info] Start training from score 0.655701\n",
      "[LightGBM] [Info] Auto-choosing col-wise multi-threading, the overhead of testing was 0.000092 seconds.\n",
      "You can set `force_col_wise=true` to remove the overhead.\n",
      "[LightGBM] [Info] Total Bins 1283\n",
      "[LightGBM] [Info] Number of data points in the train set: 2602, number of used features: 9\n",
      "[LightGBM] [Info] Start training from score 0.659202\n",
      "[LightGBM] [Info] Auto-choosing col-wise multi-threading, the overhead of testing was 0.000115 seconds.\n",
      "You can set `force_col_wise=true` to remove the overhead.\n",
      "[LightGBM] [Info] Total Bins 1283\n",
      "[LightGBM] [Info] Number of data points in the train set: 2602, number of used features: 9\n",
      "[LightGBM] [Info] Start training from score 0.659821\n",
      "[LightGBM] [Info] Auto-choosing col-wise multi-threading, the overhead of testing was 0.000086 seconds.\n",
      "You can set `force_col_wise=true` to remove the overhead.\n",
      "[LightGBM] [Info] Total Bins 1283\n",
      "[LightGBM] [Info] Number of data points in the train set: 2603, number of used features: 9\n",
      "[LightGBM] [Info] Start training from score 0.655473\n",
      "[LightGBM] [Info] Auto-choosing col-wise multi-threading, the overhead of testing was 0.000115 seconds.\n",
      "You can set `force_col_wise=true` to remove the overhead.\n",
      "[LightGBM] [Info] Total Bins 1283\n",
      "[LightGBM] [Info] Number of data points in the train set: 2603, number of used features: 9\n",
      "[LightGBM] [Info] Start training from score 0.715383\n",
      "lgb rmse score: 0.0393, rmse std: 0.0540\n",
      "xgb rmse score: 0.0383, rmse std: 0.0519\n",
      "ridge rmse score: 0.0254, rmse std: 0.0203\n",
      "svr rmse score: 0.0971, rmse std: 0.0820\n",
      "gbr rmse score: 0.0390, rmse std: 0.0554\n",
      "rf rmse score: 0.0389, rmse std: 0.0519\n"
     ]
    },
    {
     "data": {
      "text/plain": "               ridge       xgb        rf       gbr       lgb       svr\nrmse_score  0.025445  0.038279  0.038858  0.038970  0.039293  0.097092\nrmse_std    0.020336  0.051887  0.051888  0.055444  0.054035  0.082041",
      "text/html": "<div>\n<style scoped>\n    .dataframe tbody tr th:only-of-type {\n        vertical-align: middle;\n    }\n\n    .dataframe tbody tr th {\n        vertical-align: top;\n    }\n\n    .dataframe thead th {\n        text-align: right;\n    }\n</style>\n<table border=\"1\" class=\"dataframe\">\n  <thead>\n    <tr style=\"text-align: right;\">\n      <th></th>\n      <th>ridge</th>\n      <th>xgb</th>\n      <th>rf</th>\n      <th>gbr</th>\n      <th>lgb</th>\n      <th>svr</th>\n    </tr>\n  </thead>\n  <tbody>\n    <tr>\n      <th>rmse_score</th>\n      <td>0.025445</td>\n      <td>0.038279</td>\n      <td>0.038858</td>\n      <td>0.038970</td>\n      <td>0.039293</td>\n      <td>0.097092</td>\n    </tr>\n    <tr>\n      <th>rmse_std</th>\n      <td>0.020336</td>\n      <td>0.051887</td>\n      <td>0.051888</td>\n      <td>0.055444</td>\n      <td>0.054035</td>\n      <td>0.082041</td>\n    </tr>\n  </tbody>\n</table>\n</div>"
     },
     "execution_count": 72,
     "metadata": {},
     "output_type": "execute_result"
    }
   ],
   "source": [
    "\"\"\"模型训练与预测\"\"\"\n",
    "# 定义评价指标\n",
    "def rmse_cv(model):\n",
    "    rmse= np.sqrt(-cross_val_score(model, X, y, scoring=\"neg_mean_squared_error\", cv = 5))\n",
    "    return(rmse)\n",
    "\n",
    "X = clean_train.drop(columns='SoH')\n",
    "y = clean_train['SoH']\n",
    "Xtrain, Xtest, ytrain, ytest = train_test_split(X, y, test_size=0.3, random_state=10)\n",
    "# 定义交叉验证模式\n",
    "kf = KFold(n_splits=10, random_state=50, shuffle=True)\n",
    "\n",
    "warnings.filterwarnings('ignore')\n",
    "# 建立基线模型\n",
    "lgb = LGBMRegressor(objective='regression', random_state=50)\n",
    "xgb = XGBRegressor(objective='reg:squarederror',random_state=50)\n",
    "ridge = make_pipeline(RobustScaler(), RidgeCV(cv=kf))\n",
    "svr = make_pipeline(RobustScaler(), SVR())\n",
    "gbr = GradientBoostingRegressor(random_state=50)\n",
    "rf = RandomForestRegressor(random_state=50)\n",
    "scores = {}\n",
    "# 基线模型评估\n",
    "models = [lgb, xgb, ridge, svr, gbr, rf]\n",
    "model_names = ['lgb','xgb','ridge','svr','gbr','rf']\n",
    "for i, model in enumerate(models):\n",
    "    score = rmse_cv(model)\n",
    "    print('{} rmse score: {:.4f}, rmse std: {:.4f}'.format(model_names[i], score.mean(), score.std()))\n",
    "    scores[model_names[i]] = (score.mean(), score.std())\n",
    "\n",
    "rmse_df = pd.DataFrame(scores, index=['rmse_score','rmse_std'])\n",
    "rmse_df.sort_values('rmse_score', axis=1, inplace=True)\n",
    "rmse_df\n",
    "\n"
   ],
   "metadata": {
    "collapsed": false,
    "ExecuteTime": {
     "end_time": "2024-06-05T07:46:40.617690200Z",
     "start_time": "2024-06-05T07:46:27.863805200Z"
    }
   }
  },
  {
   "cell_type": "code",
   "execution_count": 76,
   "outputs": [
    {
     "name": "stdout",
     "output_type": "stream",
     "text": [
      "[LightGBM] [Info] Auto-choosing col-wise multi-threading, the overhead of testing was 0.000086 seconds.\n",
      "You can set `force_col_wise=true` to remove the overhead.\n",
      "[LightGBM] [Info] Total Bins 1283\n",
      "[LightGBM] [Info] Number of data points in the train set: 2049, number of used features: 9\n",
      "[LightGBM] [Info] Start training from score 0.669849\n",
      "[LightGBM] [Info] Auto-choosing col-wise multi-threading, the overhead of testing was 0.000098 seconds.\n",
      "You can set `force_col_wise=true` to remove the overhead.\n",
      "[LightGBM] [Info] Total Bins 1283\n",
      "[LightGBM] [Info] Number of data points in the train set: 2049, number of used features: 9\n",
      "[LightGBM] [Info] Start training from score 0.670318\n",
      "[LightGBM] [Info] Auto-choosing col-wise multi-threading, the overhead of testing was 0.000092 seconds.\n",
      "You can set `force_col_wise=true` to remove the overhead.\n",
      "[LightGBM] [Info] Total Bins 1283\n",
      "[LightGBM] [Info] Number of data points in the train set: 2049, number of used features: 9\n",
      "[LightGBM] [Info] Start training from score 0.671980\n",
      "[LightGBM] [Info] Auto-choosing col-wise multi-threading, the overhead of testing was 0.000102 seconds.\n",
      "You can set `force_col_wise=true` to remove the overhead.\n",
      "[LightGBM] [Info] Total Bins 1283\n",
      "[LightGBM] [Info] Number of data points in the train set: 2049, number of used features: 9\n",
      "[LightGBM] [Info] Start training from score 0.670341\n",
      "[LightGBM] [Info] Auto-choosing col-wise multi-threading, the overhead of testing was 0.000073 seconds.\n",
      "You can set `force_col_wise=true` to remove the overhead.\n",
      "[LightGBM] [Info] Total Bins 1283\n",
      "[LightGBM] [Info] Number of data points in the train set: 2049, number of used features: 9\n",
      "[LightGBM] [Info] Start training from score 0.669567\n",
      "[LightGBM] [Info] Auto-choosing col-wise multi-threading, the overhead of testing was 0.000081 seconds.\n",
      "You can set `force_col_wise=true` to remove the overhead.\n",
      "[LightGBM] [Info] Total Bins 1283\n",
      "[LightGBM] [Info] Number of data points in the train set: 2049, number of used features: 9\n",
      "[LightGBM] [Info] Start training from score 0.668762\n",
      "[LightGBM] [Info] Auto-choosing col-wise multi-threading, the overhead of testing was 0.000094 seconds.\n",
      "You can set `force_col_wise=true` to remove the overhead.\n",
      "[LightGBM] [Info] Total Bins 1283\n",
      "[LightGBM] [Info] Number of data points in the train set: 2049, number of used features: 9\n",
      "[LightGBM] [Info] Start training from score 0.671418\n",
      "[LightGBM] [Info] Auto-choosing col-wise multi-threading, the overhead of testing was 0.000085 seconds.\n",
      "You can set `force_col_wise=true` to remove the overhead.\n",
      "[LightGBM] [Info] Total Bins 1283\n",
      "[LightGBM] [Info] Number of data points in the train set: 2050, number of used features: 9\n",
      "[LightGBM] [Info] Start training from score 0.671857\n",
      "[LightGBM] [Info] Auto-choosing col-wise multi-threading, the overhead of testing was 0.000060 seconds.\n",
      "You can set `force_col_wise=true` to remove the overhead.\n",
      "[LightGBM] [Info] Total Bins 1283\n",
      "[LightGBM] [Info] Number of data points in the train set: 2050, number of used features: 9\n",
      "[LightGBM] [Info] Start training from score 0.669776\n",
      "[LightGBM] [Info] Auto-choosing col-wise multi-threading, the overhead of testing was 0.000069 seconds.\n",
      "You can set `force_col_wise=true` to remove the overhead.\n",
      "[LightGBM] [Info] Total Bins 1283\n",
      "[LightGBM] [Info] Number of data points in the train set: 2050, number of used features: 9\n",
      "[LightGBM] [Info] Start training from score 0.671276\n",
      "lgb is done.\n",
      "xgb is done.\n",
      "ridge is done.\n",
      "svr is done.\n",
      "gbr is done.\n",
      "rf is done.\n",
      "----stacked_train----\n",
      "            lgb       xgb     ridge       svr       gbr        rf    y_true\n",
      "0     0.451475  0.450579  0.454870  0.444899  0.445073  0.443784  0.440112\n",
      "1     0.572901  0.570294  0.567971  0.606178  0.571999  0.573399  0.577583\n",
      "2     0.724048  0.722884  0.720352  0.687682  0.725175  0.724190  0.724342\n",
      "3     0.731865  0.734217  0.726459  0.702749  0.732712  0.731634  0.733288\n",
      "4     0.776233  0.777338  0.782018  0.710421  0.777172  0.776580  0.779523\n",
      "...        ...       ...       ...       ...       ...       ...       ...\n",
      "2272  0.397310  0.397198  0.417809  0.410943  0.407467  0.393936  0.394146\n",
      "2273  0.760668  0.763385  0.750200  0.703832  0.763880  0.762092  0.751800\n",
      "2274  0.681680  0.678097  0.678817  0.649203  0.676155  0.679036  0.678431\n",
      "2275  0.398545  0.401555  0.407654  0.409003  0.402607  0.400329  0.384971\n",
      "2276  0.774050  0.771291  0.788931  0.692485  0.775211  0.772558  0.770136\n",
      "\n",
      "[2277 rows x 7 columns]\n",
      "----stacked_test----\n",
      "           lgb       xgb     ridge       svr       gbr        rf\n",
      "0    0.743144  0.742783  0.756044  0.704702  0.739531  0.746228\n",
      "1    0.712192  0.712067  0.709898  0.674514  0.712596  0.711148\n",
      "2    0.361869  0.364267  0.381959  0.384826  0.353726  0.353364\n",
      "3    0.713252  0.713410  0.727339  0.692179  0.714205  0.713367\n",
      "4    0.646178  0.645603  0.645054  0.637980  0.647525  0.646799\n",
      "..        ...       ...       ...       ...       ...       ...\n",
      "971  0.391935  0.390263  0.383080  0.386223  0.384470  0.388039\n",
      "972  0.612220  0.613310  0.618521  0.630171  0.610568  0.614119\n",
      "973  0.654267  0.653707  0.647823  0.659797  0.659227  0.654678\n",
      "974  0.775320  0.772940  0.778942  0.706216  0.773673  0.773474\n",
      "975  0.689696  0.690354  0.696391  0.678807  0.689733  0.689537\n",
      "\n",
      "[976 rows x 6 columns]\n",
      "0.006985591507468726\n"
     ]
    }
   ],
   "source": [
    "\"\"\"模型Stacking\"\"\"\n",
    "class StackingRegressor(object):\n",
    "\n",
    "    def __init__(self, fir_models, fir_model_names, sec_model, cv):\n",
    "        # 第一层的基模型\n",
    "        self.fir_models = fir_models\n",
    "        self.fir_model_names = fir_model_names\n",
    "        # 第二层用来预测结果的模型\n",
    "        self.sec_model = sec_model\n",
    "        # 交叉验证模式，必须为k_fold对象\n",
    "        self.cv = cv\n",
    "\n",
    "    def fit_predict(self, X, y, test):    # X,y,test必须为DataFrame\n",
    "        # 创建空DataFrame\n",
    "        stacked_train = pd.DataFrame()\n",
    "        stacked_test = pd.DataFrame()\n",
    "        # 初始化折数\n",
    "        n_fold = 0\n",
    "\n",
    "        # 遍历每个模型，做交叉验证\n",
    "        for i, model in enumerate(self.fir_models):\n",
    "            # 初始化stacked_train\n",
    "            stacked_train[self.fir_model_names[i]] = np.zeros(shape=(X.shape[0], ))\n",
    "\n",
    "            #遍历每一折交叉验证\n",
    "            for train_index, valid_index in self.cv.split(X):\n",
    "                # 初始化stacked_test\n",
    "                n_fold += 1\n",
    "                stacked_test[self.fir_model_names[i] + str(n_fold)] = np.zeros(shape=(test.shape[0], ))\n",
    "\n",
    "                # 划分数据集\n",
    "                X_train, y_train = X.iloc[train_index, :], y.iloc[train_index]\n",
    "                X_valid, y_valid = X.iloc[valid_index, :], y.iloc[valid_index]\n",
    "\n",
    "                # 训练模型并预测结果\n",
    "                model.fit(X_train, y_train)\n",
    "                stacked_train.loc[valid_index, self.fir_model_names[i]] = model.predict(X_valid)\n",
    "                stacked_test.loc[:, self.fir_model_names[i] + str(n_fold)] = model.predict(test)\n",
    "            print('{} is done.'.format(self.fir_model_names[i]))\n",
    "\n",
    "        # stacked_train加上真实值标签\n",
    "        y.reset_index(drop=True, inplace=True)\n",
    "        stacked_train['y_true'] = y\n",
    "\n",
    "        # 计算stacked_test中每个模型预测结果的平均值\n",
    "        for i, model_name in enumerate(self.fir_model_names):\n",
    "            stacked_test[model_name] = stacked_test.iloc[:, :10].mean(axis=1)\n",
    "            stacked_test.drop(stacked_test.iloc[:, :10], axis=1, inplace=True)\n",
    "\n",
    "        # 打印stacked_train和stacked_test\n",
    "        print('----stacked_train----\\n', stacked_train)\n",
    "        print('----stacked_test----\\n', stacked_test)\n",
    "\n",
    "        # 用sec_model预测结果\n",
    "        self.sec_model.fit(stacked_train.drop(columns='y_true'), stacked_train['y_true'])\n",
    "        y_pred = self.sec_model.predict(stacked_test)\n",
    "        return y_pred\n",
    "\n",
    "sr = StackingRegressor(models, model_names, ridge, kf)\n",
    "stacking_pred = sr.fit_predict(Xtrain, ytrain, Xtest)\n",
    "\n",
    "def rmse(y, y_pred):\n",
    "    rmse = np.sqrt(mean_squared_error(y, y_pred))\n",
    "    return rmse\n",
    "\n",
    "stacking_score = rmse(ytest, stacking_pred)\n",
    "print(stacking_score)\n"
   ],
   "metadata": {
    "collapsed": false,
    "ExecuteTime": {
     "end_time": "2024-06-05T08:30:05.726633Z",
     "start_time": "2024-06-05T08:29:44.732703700Z"
    }
   }
  },
  {
   "cell_type": "code",
   "execution_count": 80,
   "outputs": [
    {
     "name": "stdout",
     "output_type": "stream",
     "text": [
      "[LightGBM] [Info] Auto-choosing col-wise multi-threading, the overhead of testing was 0.000152 seconds.\n",
      "You can set `force_col_wise=true` to remove the overhead.\n",
      "[LightGBM] [Info] Total Bins 1283\n",
      "[LightGBM] [Info] Number of data points in the train set: 2277, number of used features: 9\n",
      "[LightGBM] [Info] Start training from score 0.670514\n",
      "0.013514769667977843\n"
     ]
    }
   ],
   "source": [
    "\"\"\"模型均值融合\"\"\"\n",
    "def blending(X, y, test):\n",
    "    lgb.fit(X, y)\n",
    "    lgb_pred = lgb.predict(test)\n",
    "\n",
    "    xgb.fit(X, y)\n",
    "    xgb_pred = xgb.predict(test)\n",
    "\n",
    "    ridge.fit(X, y)\n",
    "    ridge_pred = ridge.predict(test)\n",
    "\n",
    "    svr.fit(X, y)\n",
    "    svr_pred = svr.predict(test)\n",
    "\n",
    "    gbr.fit(X, y)\n",
    "    gbr_pred = gbr.predict(test)\n",
    "\n",
    "    rf.fit(X, y)\n",
    "    rf_pred = rf.predict(test)\n",
    "\n",
    "\n",
    "    # 加权求和\n",
    "    # blended_pred = (0.05* lgb_pred +\n",
    "    #                 0.15 * xgb_pred +\n",
    "    #                 0.6 * ridge_pred +\n",
    "    #                 0.0 * svr_pred +\n",
    "    #                 0.05 * gbr_pred +\n",
    "    #                 0.15 * rf_pred )\n",
    "\n",
    "    blended_pred=ridge_pred\n",
    "    return blended_pred\n",
    "def rmse(y, y_pred):\n",
    "    rmse = np.sqrt(mean_squared_error(y, y_pred))\n",
    "    return rmse\n",
    "blended_pred = blending(Xtrain, ytrain, Xtest)\n",
    "blending_score = rmse(ytest, blended_pred)\n",
    "print(blending_score)"
   ],
   "metadata": {
    "collapsed": false,
    "ExecuteTime": {
     "end_time": "2024-06-05T08:34:05.173926800Z",
     "start_time": "2024-06-05T08:34:02.720650800Z"
    }
   }
  },
  {
   "cell_type": "code",
   "execution_count": 82,
   "outputs": [
    {
     "name": "stdout",
     "output_type": "stream",
     "text": [
      "[LightGBM] [Info] Auto-choosing col-wise multi-threading, the overhead of testing was 0.000105 seconds.\n",
      "You can set `force_col_wise=true` to remove the overhead.\n",
      "[LightGBM] [Info] Total Bins 1283\n",
      "[LightGBM] [Info] Number of data points in the train set: 2927, number of used features: 9\n",
      "[LightGBM] [Info] Start training from score 0.670056\n",
      "[LightGBM] [Info] Auto-choosing col-wise multi-threading, the overhead of testing was 0.000154 seconds.\n",
      "You can set `force_col_wise=true` to remove the overhead.\n",
      "[LightGBM] [Info] Total Bins 1283\n",
      "[LightGBM] [Info] Number of data points in the train set: 2927, number of used features: 9\n",
      "[LightGBM] [Info] Start training from score 0.669499\n",
      "[LightGBM] [Info] Auto-choosing col-wise multi-threading, the overhead of testing was 0.000117 seconds.\n",
      "You can set `force_col_wise=true` to remove the overhead.\n",
      "[LightGBM] [Info] Total Bins 1283\n",
      "[LightGBM] [Info] Number of data points in the train set: 2927, number of used features: 9\n",
      "[LightGBM] [Info] Start training from score 0.669014\n",
      "[LightGBM] [Info] Auto-choosing col-wise multi-threading, the overhead of testing was 0.000092 seconds.\n",
      "You can set `force_col_wise=true` to remove the overhead.\n",
      "[LightGBM] [Info] Total Bins 1283\n",
      "[LightGBM] [Info] Number of data points in the train set: 2928, number of used features: 9\n",
      "[LightGBM] [Info] Start training from score 0.668968\n",
      "[LightGBM] [Info] Auto-choosing col-wise multi-threading, the overhead of testing was 0.000110 seconds.\n",
      "You can set `force_col_wise=true` to remove the overhead.\n",
      "[LightGBM] [Info] Total Bins 1283\n",
      "[LightGBM] [Info] Number of data points in the train set: 2928, number of used features: 9\n",
      "[LightGBM] [Info] Start training from score 0.668647\n",
      "[LightGBM] [Info] Auto-choosing col-wise multi-threading, the overhead of testing was 0.000133 seconds.\n",
      "You can set `force_col_wise=true` to remove the overhead.\n",
      "[LightGBM] [Info] Total Bins 1283\n",
      "[LightGBM] [Info] Number of data points in the train set: 2928, number of used features: 9\n",
      "[LightGBM] [Info] Start training from score 0.668409\n",
      "[LightGBM] [Info] Auto-choosing col-wise multi-threading, the overhead of testing was 0.000076 seconds.\n",
      "You can set `force_col_wise=true` to remove the overhead.\n",
      "[LightGBM] [Info] Total Bins 1283\n",
      "[LightGBM] [Info] Number of data points in the train set: 2928, number of used features: 9\n",
      "[LightGBM] [Info] Start training from score 0.669236\n",
      "[LightGBM] [Info] Auto-choosing col-wise multi-threading, the overhead of testing was 0.000098 seconds.\n",
      "You can set `force_col_wise=true` to remove the overhead.\n",
      "[LightGBM] [Info] Total Bins 1283\n",
      "[LightGBM] [Info] Number of data points in the train set: 2928, number of used features: 9\n",
      "[LightGBM] [Info] Start training from score 0.668181\n",
      "[LightGBM] [Info] Auto-choosing col-wise multi-threading, the overhead of testing was 0.000102 seconds.\n",
      "You can set `force_col_wise=true` to remove the overhead.\n",
      "[LightGBM] [Info] Total Bins 1283\n",
      "[LightGBM] [Info] Number of data points in the train set: 2928, number of used features: 9\n",
      "[LightGBM] [Info] Start training from score 0.670063\n",
      "[LightGBM] [Info] Auto-choosing col-wise multi-threading, the overhead of testing was 0.000110 seconds.\n",
      "You can set `force_col_wise=true` to remove the overhead.\n",
      "[LightGBM] [Info] Total Bins 1283\n",
      "[LightGBM] [Info] Number of data points in the train set: 2928, number of used features: 9\n",
      "[LightGBM] [Info] Start training from score 0.669111\n",
      "lgb is done.\n",
      "xgb is done.\n",
      "ridge is done.\n",
      "svr is done.\n",
      "gbr is done.\n",
      "rf is done.\n",
      "----stacked_train----\n",
      "            lgb       xgb     ridge       svr       gbr        rf    y_true\n",
      "0     0.820408  0.820355  0.845537  0.729063  0.819532  0.822285  0.825175\n",
      "1     0.820227  0.822616  0.841959  0.726024  0.817461  0.821742  0.815965\n",
      "2     0.819416  0.820972  0.844459  0.729415  0.817337  0.819599  0.815977\n",
      "3     0.814331  0.809785  0.837334  0.719882  0.815092  0.812647  0.825194\n",
      "4     0.806945  0.803629  0.828556  0.722794  0.798577  0.801960  0.806900\n",
      "...        ...       ...       ...       ...       ...       ...       ...\n",
      "3248  0.255878  0.267622  0.300318  0.344742  0.274991  0.269119  0.274986\n",
      "3249  0.254474  0.259234  0.299116  0.339272  0.270431  0.268390  0.274983\n",
      "3250  0.251507  0.239045  0.291423  0.339253  0.239612  0.244023  0.256645\n",
      "3251  0.254910  0.237162  0.282283  0.336576  0.238393  0.239377  0.238319\n",
      "3252  0.257322  0.256290  0.275159  0.337401  0.236730  0.237704  0.238329\n",
      "\n",
      "[3253 rows x 7 columns]\n",
      "----stacked_test----\n",
      "           lgb       xgb     ridge       svr       gbr        rf\n",
      "0    0.482956  0.479583  0.469264  0.482272  0.484167  0.476137\n",
      "1    0.464456  0.462168  0.462177  0.464432  0.464996  0.469967\n",
      "2    0.449995  0.451365  0.454202  0.450315  0.455144  0.461169\n",
      "3    0.451176  0.450939  0.450328  0.448713  0.456968  0.461287\n",
      "4    0.443651  0.440487  0.445758  0.448851  0.448277  0.444609\n",
      "..        ...       ...       ...       ...       ...       ...\n",
      "115  0.422761  0.418293  0.434176  0.430710  0.427171  0.427585\n",
      "116  0.418660  0.417719  0.425356  0.424176  0.427344  0.427507\n",
      "117  0.419245  0.417027  0.424518  0.427473  0.427448  0.428898\n",
      "118  0.419138  0.415387  0.424086  0.427491  0.427544  0.428885\n",
      "119  0.417573  0.414931  0.423922  0.425675  0.427262  0.428830\n",
      "\n",
      "[120 rows x 6 columns]\n"
     ]
    },
    {
     "data": {
      "text/plain": "   Unnamed: 0  cycle CS_Name    result\n0         105    735  CS2_35  0.478857\n1         106    736  CS2_35  0.464615\n2         107    737  CS2_35  0.453374\n3         108    738  CS2_35  0.453633\n4         109    739  CS2_35  0.442707",
      "text/html": "<div>\n<style scoped>\n    .dataframe tbody tr th:only-of-type {\n        vertical-align: middle;\n    }\n\n    .dataframe tbody tr th {\n        vertical-align: top;\n    }\n\n    .dataframe thead th {\n        text-align: right;\n    }\n</style>\n<table border=\"1\" class=\"dataframe\">\n  <thead>\n    <tr style=\"text-align: right;\">\n      <th></th>\n      <th>Unnamed: 0</th>\n      <th>cycle</th>\n      <th>CS_Name</th>\n      <th>result</th>\n    </tr>\n  </thead>\n  <tbody>\n    <tr>\n      <th>0</th>\n      <td>105</td>\n      <td>735</td>\n      <td>CS2_35</td>\n      <td>0.478857</td>\n    </tr>\n    <tr>\n      <th>1</th>\n      <td>106</td>\n      <td>736</td>\n      <td>CS2_35</td>\n      <td>0.464615</td>\n    </tr>\n    <tr>\n      <th>2</th>\n      <td>107</td>\n      <td>737</td>\n      <td>CS2_35</td>\n      <td>0.453374</td>\n    </tr>\n    <tr>\n      <th>3</th>\n      <td>108</td>\n      <td>738</td>\n      <td>CS2_35</td>\n      <td>0.453633</td>\n    </tr>\n    <tr>\n      <th>4</th>\n      <td>109</td>\n      <td>739</td>\n      <td>CS2_35</td>\n      <td>0.442707</td>\n    </tr>\n  </tbody>\n</table>\n</div>"
     },
     "execution_count": 82,
     "metadata": {},
     "output_type": "execute_result"
    }
   ],
   "source": [
    "\"\"\"结果注册\"\"\"\n",
    "sr = StackingRegressor(models, model_names, ridge, kf)\n",
    "sample_submission_df = pd.read_csv('../数据/清理后的数据/submission_example.csv')\n",
    "sample_submission_df['result'] = sr.fit_predict(X, y, clean_test)\n",
    "sample_submission_df.to_csv('../结果/submission_2.csv', index=False)\n",
    "sample_submission_df.head()"
   ],
   "metadata": {
    "collapsed": false,
    "ExecuteTime": {
     "end_time": "2024-06-05T08:37:47.782354800Z",
     "start_time": "2024-06-05T08:37:18.776014900Z"
    }
   }
  },
  {
   "cell_type": "code",
   "execution_count": 71,
   "outputs": [],
   "source": [],
   "metadata": {
    "collapsed": false,
    "ExecuteTime": {
     "end_time": "2024-06-05T07:39:02.134857700Z",
     "start_time": "2024-06-05T07:39:02.130352900Z"
    }
   }
  }
 ],
 "metadata": {
  "kernelspec": {
   "display_name": "Python 3",
   "language": "python",
   "name": "python3"
  },
  "language_info": {
   "codemirror_mode": {
    "name": "ipython",
    "version": 2
   },
   "file_extension": ".py",
   "mimetype": "text/x-python",
   "name": "python",
   "nbconvert_exporter": "python",
   "pygments_lexer": "ipython2",
   "version": "2.7.6"
  }
 },
 "nbformat": 4,
 "nbformat_minor": 0
}
