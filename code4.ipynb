{
 "cells": [
  {
   "cell_type": "code",
   "execution_count": 1,
   "metadata": {
    "collapsed": true,
    "pycharm": {
     "name": "#%%\n"
    }
   },
   "outputs": [],
   "source": [
    "# 导入所需的库\n",
    "import pandas as pd\n",
    "import numpy as np\n",
    "from sklearn.model_selection import train_test_split\n",
    "from sklearn.metrics import mean_absolute_error\n",
    "import xgboost as xgb\n",
    "import lightgbm as lgb\n",
    "from catboost import CatBoostClassifier\n",
    "from sklearn.ensemble import RandomForestRegressor\n",
    "from tqdm import tqdm\n",
    "import os\n",
    "from sklearn.metrics import mean_squared_error"
   ]
  },
  {
   "cell_type": "code",
   "execution_count": 2,
   "outputs": [],
   "source": [
    "raw_train_data = pd.read_csv(r\"C:\\Users\\yubin\\Desktop\\综合课程设计3\\锂电池\\train_data.csv\")\n",
    "raw_test_data = pd.read_csv(r\"C:\\Users\\yubin\\Desktop\\综合课程设计3\\锂电池\\test_data.csv\")\n",
    "raw_dev_data = pd.read_csv(r\"C:\\Users\\yubin\\Desktop\\综合课程设计3\\锂电池\\dev_data.csv\")"
   ],
   "metadata": {
    "collapsed": false,
    "pycharm": {
     "name": "#%%\n"
    }
   }
  },
  {
   "cell_type": "code",
   "execution_count": 13,
   "outputs": [],
   "source": [
    "# 删除第一列\n",
    "train_data = raw_train_data.drop(raw_train_data.columns[0], axis=1)\n",
    "dev_data = raw_dev_data.drop(raw_dev_data.columns[0], axis=1)\n",
    "test_data = raw_test_data.drop(raw_test_data.columns[0], axis=1)\n",
    "t = test_data[test_data['SoH'] != -100]\n",
    "d = dev_data[dev_data['SoH'] != -100]\n",
    "combined_df = pd.concat([t, d])\n",
    "train_data=pd.concat([train_data,combined_df])\n",
    "# 将值为0的数替换为NaN\n",
    "train_data.replace(0, np.nan, inplace=True)\n",
    "test_data.replace(0, np.nan, inplace=True)\n",
    "#训练集y\n",
    "train_y=train_data['SoH']\n",
    "#填补缺失值\n",
    "train_data['CCCT'] = train_data['CCCT'].fillna(train_data['CCCT'].mean())\n",
    "train_data['CVCT'] = train_data['CVCT'].fillna(train_data['CVCT'].mean())\n",
    "train_data=train_data.drop(columns=['SoH'])\n",
    "# 对\"XX\"列进行独热编码\n",
    "train_data = pd.get_dummies(train_data, columns=[\"CS_Name\"])\n",
    "#充电时长\n",
    "train_data['CC/CV']=train_data['CCCT']/train_data['CVCT']\n",
    "\n",
    "col_to_multiply = {'cycle','CS_Name_CS2_35','CS_Name_CS2_36','CS_Name_CS2_37','CS_Name_CS2_38'}\n",
    "# 获取除了 col_to_multiply 列之外的所有列\n",
    "cols_to_multiply_with = train_data.drop(col_to_multiply, axis=1).columns\n",
    "# 循环相乘\n",
    "for col in cols_to_multiply_with:\n",
    "    new_col_name = f\"cycle_mul_{col}\"\n",
    "    train_data[new_col_name] = train_data['cycle'] * train_data[col]\n",
    "\n",
    "train_data['log_cycle'] = np.log(train_data['cycle'])\n",
    "train_data['CC/CV']=train_data['CCCT']/train_data['CVCT']"
   ],
   "metadata": {
    "collapsed": false,
    "pycharm": {
     "name": "#%%\n"
    }
   }
  },
  {
   "cell_type": "code",
   "execution_count": 14,
   "outputs": [
    {
     "name": "stderr",
     "output_type": "stream",
     "text": [
      "C:\\Users\\yubin\\AppData\\Local\\Temp\\ipykernel_13200\\2674512448.py:3: SettingWithCopyWarning: \n",
      "A value is trying to be set on a copy of a slice from a DataFrame.\n",
      "Try using .loc[row_indexer,col_indexer] = value instead\n",
      "\n",
      "See the caveats in the documentation: https://pandas.pydata.org/pandas-docs/stable/user_guide/indexing.html#returning-a-view-versus-a-copy\n",
      "  t_data['CCCT'] = t_data['CCCT'].fillna(t_data['CCCT'].mean())\n",
      "C:\\Users\\yubin\\AppData\\Local\\Temp\\ipykernel_13200\\2674512448.py:4: SettingWithCopyWarning: \n",
      "A value is trying to be set on a copy of a slice from a DataFrame.\n",
      "Try using .loc[row_indexer,col_indexer] = value instead\n",
      "\n",
      "See the caveats in the documentation: https://pandas.pydata.org/pandas-docs/stable/user_guide/indexing.html#returning-a-view-versus-a-copy\n",
      "  t_data['CVCT'] = t_data['CVCT'].fillna(t_data['CVCT'].mean())\n"
     ]
    }
   ],
   "source": [
    "t_data = test_data[test_data['SoH'] == -100]\n",
    "#填补缺失值\n",
    "t_data['CCCT'] = t_data['CCCT'].fillna(t_data['CCCT'].mean())\n",
    "t_data['CVCT'] = t_data['CVCT'].fillna(t_data['CVCT'].mean())\n",
    "t_data=t_data.drop(columns=['SoH'])\n",
    "t_data = pd.get_dummies(t_data, columns=[\"CS_Name\"])\n",
    "#充电时长\n",
    "t_data['CC/CV']=t_data['CCCT']/t_data['CVCT']\n",
    "# 选择要循环相乘的列\n",
    "col_to_multiply = {'cycle','CS_Name_CS2_35','CS_Name_CS2_36','CS_Name_CS2_37','CS_Name_CS2_38'}\n",
    "# 获取除了 col_to_multiply 列之外的所有列\n",
    "cols_to_multiply_with = t_data.drop(col_to_multiply, axis=1).columns\n",
    "# 循环相乘\n",
    "for col in cols_to_multiply_with:\n",
    "    new_col_name = f\"cycle_mul_{col}\"\n",
    "    t_data[new_col_name] = t_data['cycle'] * t_data[col]\n",
    "t_data['log_cycle'] = np.log(t_data['cycle'])"
   ],
   "metadata": {
    "collapsed": false,
    "pycharm": {
     "name": "#%%\n"
    }
   }
  },
  {
   "cell_type": "code",
   "execution_count": 19,
   "outputs": [
    {
     "name": "stdout",
     "output_type": "stream",
     "text": [
      "[LightGBM] [Warning] feature_fraction is set=0.8, colsample_bytree=1.0 will be ignored. Current value: feature_fraction=0.8\n",
      "[LightGBM] [Warning] bagging_fraction is set=0.8, subsample=1.0 will be ignored. Current value: bagging_fraction=0.8\n",
      "[LightGBM] [Warning] bagging_freq is set=5, subsample_freq=0 will be ignored. Current value: bagging_freq=5\n",
      "[LightGBM] [Warning] feature_fraction is set=0.8, colsample_bytree=1.0 will be ignored. Current value: feature_fraction=0.8\n",
      "[LightGBM] [Warning] bagging_fraction is set=0.8, subsample=1.0 will be ignored. Current value: bagging_fraction=0.8\n",
      "[LightGBM] [Warning] bagging_freq is set=5, subsample_freq=0 will be ignored. Current value: bagging_freq=5\n",
      "[LightGBM] [Warning] feature_fraction is set=0.8, colsample_bytree=1.0 will be ignored. Current value: feature_fraction=0.8\n",
      "[LightGBM] [Warning] bagging_fraction is set=0.8, subsample=1.0 will be ignored. Current value: bagging_fraction=0.8\n",
      "[LightGBM] [Warning] bagging_freq is set=5, subsample_freq=0 will be ignored. Current value: bagging_freq=5\n"
     ]
    }
   ],
   "source": [
    "\n",
    "# 建立多模型\n",
    "# LightGBM模型参数\n",
    "lgb_params = {\n",
    "    'n_estimators': 500,\n",
    "    'objective': 'regression',  # 目标函数\n",
    "    'metric': 'rmse',  # 评估指标\n",
    "    'learning_rate': 0.1,  # 学习率\n",
    "    'feature_fraction': 0.8,  # 训练特征采样比例\n",
    "    'bagging_fraction': 0.8,  # 训练数据采样比例\n",
    "    'bagging_freq': 5,  # bagging的频率\n",
    "    'verbose': 0  # 显示训练过程信息的频率\n",
    "}\n",
    "\n",
    "# 随机森林模型参数\n",
    "rf_params = {\n",
    "    'n_estimators': 500,  # 决策树数量\n",
    "    'max_depth': None,  # 决策树最大深度，None表示不限制深度\n",
    "    'max_features': 'auto',  # 寻找最佳分割时考虑的特征数量\n",
    "    'random_state': 42  # 随机种子，以确保可重复性\n",
    "}\n",
    "\n",
    "# XGBoost模型参数\n",
    "xgb_params = {\n",
    "    'objective': 'reg:squarederror',  # 目标函数\n",
    "    'learning_rate': 0.1,  # 学习率\n",
    "    'max_depth': 7,  # 树的最大深度\n",
    "    'min_child_weight': 1,  # 叶子节点最小权重\n",
    "    'n_estimators': 500,  # 决策树数量\n",
    "    'random_state': 42  # 随机种子，以确保可重复性\n",
    "}\n",
    "models = {\n",
    "    'lgb': lgb.LGBMRegressor(**lgb_params),\n",
    "    'rf': RandomForestRegressor(**rf_params),\n",
    "    'xgb': xgb.XGBRegressor(**xgb_params)\n",
    "}\n",
    "\n",
    "train_x=train_data;\n",
    "\n",
    "t_data_x=t_data;\n",
    "\n",
    "\n",
    "for name, model in models.items():\n",
    "    # 训练模型\n",
    "    model.fit(train_x, train_y)\n",
    "\n",
    "    # 预测\n",
    "    test_y = model.predict(t_data_x)\n",
    "# model.fit(train_x, train_y)\n",
    "# test_y = model.predict(t_data_x)\n",
    "\n",
    "\n",
    "# rmse = np.sqrt(mean_squared_error(test_y, train_y))\n",
    "# rmse"
   ],
   "metadata": {
    "collapsed": false,
    "pycharm": {
     "name": "#%%\n"
    }
   }
  },
  {
   "cell_type": "code",
   "execution_count": 20,
   "outputs": [],
   "source": [
    "# 假设 test_y 是一个一维数组，你可以将其转换为 DataFrame 对象\n",
    "test_y_df = pd.DataFrame({'result': test_y})\n",
    "test_=raw_test_data[raw_test_data['SoH'] == -100]\n",
    "test_ = test_.reset_index(drop=True)\n",
    "# 按列拼接预测结果和 t_data_x\n",
    "merged_df = pd.concat([test_, test_y_df],axis=1)\n",
    "# merged_df.rename(columns={'Unamed: 0': 'first'}, inplace=True)\n",
    "selected_columns = ['Unnamed: 0', 'cycle', 'CS_Name','result']\n",
    "# 选择特定列\n",
    "new_df = merged_df.loc[:, selected_columns]\n",
    "new_df.to_csv('result.csv', index=False)\n",
    "# # 保存拼接后的结果到新的 CSV 文件\n",
    "# merged_df.to_csv('merged_result.csv', index=False)"
   ],
   "metadata": {
    "collapsed": false,
    "pycharm": {
     "name": "#%%\n"
    }
   }
  },
  {
   "cell_type": "code",
   "execution_count": 11,
   "outputs": [
    {
     "data": {
      "text/plain": "     cycle  capacity  resistance       CCCT       CVCT  CS_Name_CS2_35  \\\n105  735.0  0.660063    0.106262  32.261174  31.894147               1   \n106  736.0  0.650903    0.107884  32.012114  31.938233               1   \n107  737.0  0.641716    0.109112  32.103052  31.618532               1   \n108  738.0  0.641700    0.109408  32.581803  30.375439               1   \n109  739.0  0.632537    0.108695  32.178837  31.421817               1   \n..     ...       ...         ...        ...        ...             ...   \n570  857.0  0.614230    0.111245  30.028884  32.069609               0   \n571  858.0  0.605064    0.111345  29.611992  32.064920               0   \n572  859.0  0.605071    0.110633  29.238721  32.212733               0   \n573  860.0  0.605073    0.110533  29.073407  32.221950               0   \n574  861.0  0.605057    0.110733  28.900284  32.255697               0   \n\n     CS_Name_CS2_36  CS_Name_CS2_37  CS_Name_CS2_38     CC/CV  \\\n105               0               0               0  1.011508   \n106               0               0               0  1.002313   \n107               0               0               0  1.015324   \n108               0               0               0  1.072636   \n109               0               0               0  1.024092   \n..              ...             ...             ...       ...   \n570               0               0               1  0.936366   \n571               0               0               1  0.923501   \n572               0               0               1  0.907676   \n573               0               0               1  0.902286   \n574               0               0               1  0.895975   \n\n     cycle_mul_capacity  cycle_mul_resistance  cycle_mul_CCCT  cycle_mul_CVCT  \\\n105          485.146235             78.102492    23711.962748    23442.198210   \n106          479.064331             79.402781    23560.916100    23506.539204   \n107          472.944397             80.415216    23659.949503    23302.858208   \n108          473.574958             80.742746    24045.370322    22417.073814   \n109          467.444865             80.325881    23780.160522    23220.722752   \n..                  ...                   ...             ...             ...   \n570          526.395271             95.336606    25734.753179    27483.654666   \n571          519.145144             95.534228    25407.089442    27511.701507   \n572          519.755726             95.033434    25116.061449    27670.737234   \n573          520.363020             95.057963    25003.129923    27710.876950   \n574          520.953868             95.341057    24883.144908    27772.154871   \n\n     cycle_mul_CC/CV  log_cycle  \n105       743.458120   6.599870  \n106       737.702564   6.601230  \n107       748.293734   6.602588  \n108       791.605695   6.603944  \n109       756.804119   6.605298  \n..               ...        ...  \n570       802.465456   6.753438  \n571       792.364032   6.754604  \n572       779.693602   6.755769  \n573       775.965761   6.756932  \n574       771.434117   6.758095  \n\n[120 rows x 16 columns]",
      "text/html": "<div>\n<style scoped>\n    .dataframe tbody tr th:only-of-type {\n        vertical-align: middle;\n    }\n\n    .dataframe tbody tr th {\n        vertical-align: top;\n    }\n\n    .dataframe thead th {\n        text-align: right;\n    }\n</style>\n<table border=\"1\" class=\"dataframe\">\n  <thead>\n    <tr style=\"text-align: right;\">\n      <th></th>\n      <th>cycle</th>\n      <th>capacity</th>\n      <th>resistance</th>\n      <th>CCCT</th>\n      <th>CVCT</th>\n      <th>CS_Name_CS2_35</th>\n      <th>CS_Name_CS2_36</th>\n      <th>CS_Name_CS2_37</th>\n      <th>CS_Name_CS2_38</th>\n      <th>CC/CV</th>\n      <th>cycle_mul_capacity</th>\n      <th>cycle_mul_resistance</th>\n      <th>cycle_mul_CCCT</th>\n      <th>cycle_mul_CVCT</th>\n      <th>cycle_mul_CC/CV</th>\n      <th>log_cycle</th>\n    </tr>\n  </thead>\n  <tbody>\n    <tr>\n      <th>105</th>\n      <td>735.0</td>\n      <td>0.660063</td>\n      <td>0.106262</td>\n      <td>32.261174</td>\n      <td>31.894147</td>\n      <td>1</td>\n      <td>0</td>\n      <td>0</td>\n      <td>0</td>\n      <td>1.011508</td>\n      <td>485.146235</td>\n      <td>78.102492</td>\n      <td>23711.962748</td>\n      <td>23442.198210</td>\n      <td>743.458120</td>\n      <td>6.599870</td>\n    </tr>\n    <tr>\n      <th>106</th>\n      <td>736.0</td>\n      <td>0.650903</td>\n      <td>0.107884</td>\n      <td>32.012114</td>\n      <td>31.938233</td>\n      <td>1</td>\n      <td>0</td>\n      <td>0</td>\n      <td>0</td>\n      <td>1.002313</td>\n      <td>479.064331</td>\n      <td>79.402781</td>\n      <td>23560.916100</td>\n      <td>23506.539204</td>\n      <td>737.702564</td>\n      <td>6.601230</td>\n    </tr>\n    <tr>\n      <th>107</th>\n      <td>737.0</td>\n      <td>0.641716</td>\n      <td>0.109112</td>\n      <td>32.103052</td>\n      <td>31.618532</td>\n      <td>1</td>\n      <td>0</td>\n      <td>0</td>\n      <td>0</td>\n      <td>1.015324</td>\n      <td>472.944397</td>\n      <td>80.415216</td>\n      <td>23659.949503</td>\n      <td>23302.858208</td>\n      <td>748.293734</td>\n      <td>6.602588</td>\n    </tr>\n    <tr>\n      <th>108</th>\n      <td>738.0</td>\n      <td>0.641700</td>\n      <td>0.109408</td>\n      <td>32.581803</td>\n      <td>30.375439</td>\n      <td>1</td>\n      <td>0</td>\n      <td>0</td>\n      <td>0</td>\n      <td>1.072636</td>\n      <td>473.574958</td>\n      <td>80.742746</td>\n      <td>24045.370322</td>\n      <td>22417.073814</td>\n      <td>791.605695</td>\n      <td>6.603944</td>\n    </tr>\n    <tr>\n      <th>109</th>\n      <td>739.0</td>\n      <td>0.632537</td>\n      <td>0.108695</td>\n      <td>32.178837</td>\n      <td>31.421817</td>\n      <td>1</td>\n      <td>0</td>\n      <td>0</td>\n      <td>0</td>\n      <td>1.024092</td>\n      <td>467.444865</td>\n      <td>80.325881</td>\n      <td>23780.160522</td>\n      <td>23220.722752</td>\n      <td>756.804119</td>\n      <td>6.605298</td>\n    </tr>\n    <tr>\n      <th>...</th>\n      <td>...</td>\n      <td>...</td>\n      <td>...</td>\n      <td>...</td>\n      <td>...</td>\n      <td>...</td>\n      <td>...</td>\n      <td>...</td>\n      <td>...</td>\n      <td>...</td>\n      <td>...</td>\n      <td>...</td>\n      <td>...</td>\n      <td>...</td>\n      <td>...</td>\n      <td>...</td>\n    </tr>\n    <tr>\n      <th>570</th>\n      <td>857.0</td>\n      <td>0.614230</td>\n      <td>0.111245</td>\n      <td>30.028884</td>\n      <td>32.069609</td>\n      <td>0</td>\n      <td>0</td>\n      <td>0</td>\n      <td>1</td>\n      <td>0.936366</td>\n      <td>526.395271</td>\n      <td>95.336606</td>\n      <td>25734.753179</td>\n      <td>27483.654666</td>\n      <td>802.465456</td>\n      <td>6.753438</td>\n    </tr>\n    <tr>\n      <th>571</th>\n      <td>858.0</td>\n      <td>0.605064</td>\n      <td>0.111345</td>\n      <td>29.611992</td>\n      <td>32.064920</td>\n      <td>0</td>\n      <td>0</td>\n      <td>0</td>\n      <td>1</td>\n      <td>0.923501</td>\n      <td>519.145144</td>\n      <td>95.534228</td>\n      <td>25407.089442</td>\n      <td>27511.701507</td>\n      <td>792.364032</td>\n      <td>6.754604</td>\n    </tr>\n    <tr>\n      <th>572</th>\n      <td>859.0</td>\n      <td>0.605071</td>\n      <td>0.110633</td>\n      <td>29.238721</td>\n      <td>32.212733</td>\n      <td>0</td>\n      <td>0</td>\n      <td>0</td>\n      <td>1</td>\n      <td>0.907676</td>\n      <td>519.755726</td>\n      <td>95.033434</td>\n      <td>25116.061449</td>\n      <td>27670.737234</td>\n      <td>779.693602</td>\n      <td>6.755769</td>\n    </tr>\n    <tr>\n      <th>573</th>\n      <td>860.0</td>\n      <td>0.605073</td>\n      <td>0.110533</td>\n      <td>29.073407</td>\n      <td>32.221950</td>\n      <td>0</td>\n      <td>0</td>\n      <td>0</td>\n      <td>1</td>\n      <td>0.902286</td>\n      <td>520.363020</td>\n      <td>95.057963</td>\n      <td>25003.129923</td>\n      <td>27710.876950</td>\n      <td>775.965761</td>\n      <td>6.756932</td>\n    </tr>\n    <tr>\n      <th>574</th>\n      <td>861.0</td>\n      <td>0.605057</td>\n      <td>0.110733</td>\n      <td>28.900284</td>\n      <td>32.255697</td>\n      <td>0</td>\n      <td>0</td>\n      <td>0</td>\n      <td>1</td>\n      <td>0.895975</td>\n      <td>520.953868</td>\n      <td>95.341057</td>\n      <td>24883.144908</td>\n      <td>27772.154871</td>\n      <td>771.434117</td>\n      <td>6.758095</td>\n    </tr>\n  </tbody>\n</table>\n<p>120 rows × 16 columns</p>\n</div>"
     },
     "execution_count": 11,
     "metadata": {},
     "output_type": "execute_result"
    }
   ],
   "source": [
    "t_data_x"
   ],
   "metadata": {
    "collapsed": false,
    "pycharm": {
     "name": "#%%\n"
    }
   }
  },
  {
   "cell_type": "code",
   "execution_count": 7,
   "outputs": [
    {
     "data": {
      "text/plain": "     cycle  capacity  resistance         CCCT         CVCT  CS_Name_CS2_35  \\\n0      1.0  1.126385    0.094009  6613.059052  2251.498033               1   \n1      2.0  1.126160    0.091661  6612.402800  2231.967052               1   \n2      3.0  1.125966    0.094649  6608.560673  2228.216959               1   \n3      4.0  1.118508    0.091413  6604.732222  2247.561061               1   \n4      5.0  1.117210    0.091413  6629.211049  2077.692393               1   \n..     ...       ...         ...          ...          ...             ...   \n541  980.0  0.329976    0.122724  1088.106510  3134.165716               0   \n542  981.0  0.320817    0.123536  1075.483985  3131.743877               0   \n543  982.0  0.329995    0.122613  1054.763453  3102.713029               0   \n544  983.0  0.330006    0.122021  1039.701059  3122.009653               0   \n545  984.0  0.320868    0.122724  1053.529141  3097.041678               0   \n\n     CS_Name_CS2_36  CS_Name_CS2_37  CS_Name_CS2_38     CC/CV  \\\n0                 0               0               0  2.937182   \n1                 0               0               0  2.962590   \n2                 0               0               0  2.965852   \n3                 0               0               0  2.938622   \n4                 0               0               0  3.190660   \n..              ...             ...             ...       ...   \n541               0               0               1  0.347176   \n542               0               0               1  0.343414   \n543               0               0               1  0.339949   \n544               0               0               1  0.333023   \n545               0               0               1  0.340173   \n\n     cycle_mul_capacity  cycle_mul_resistance  cycle_mul_CCCT  cycle_mul_CVCT  \\\n0              1.126385              0.094009    6.613059e+03    2.251498e+03   \n1              2.252320              0.183322    1.322481e+04    4.463934e+03   \n2              3.377897              0.283946    1.982568e+04    6.684651e+03   \n3              4.474031              0.365651    2.641893e+04    8.990244e+03   \n4              5.586050              0.457064    3.314606e+04    1.038846e+04   \n..                  ...                   ...             ...             ...   \n541          323.376322            120.269130    1.066344e+06    3.071482e+06   \n542          314.721377            121.189150    1.055050e+06    3.072241e+06   \n543          324.055464            120.405613    1.035778e+06    3.046864e+06   \n544          324.395825            119.946926    1.022026e+06    3.068935e+06   \n545          315.733955            120.760024    1.036673e+06    3.047489e+06   \n\n     cycle_mul_CC/CV  log_cycle  \n0           2.937182   0.000000  \n1           5.925180   0.693147  \n2           8.897555   1.098612  \n3          11.754488   1.386294  \n4          15.953302   1.609438  \n..               ...        ...  \n541       340.232290   6.887553  \n542       336.888912   6.888572  \n543       333.829684   6.889591  \n544       327.361621   6.890609  \n545       334.729972   6.891626  \n\n[3592 rows x 16 columns]",
      "text/html": "<div>\n<style scoped>\n    .dataframe tbody tr th:only-of-type {\n        vertical-align: middle;\n    }\n\n    .dataframe tbody tr th {\n        vertical-align: top;\n    }\n\n    .dataframe thead th {\n        text-align: right;\n    }\n</style>\n<table border=\"1\" class=\"dataframe\">\n  <thead>\n    <tr style=\"text-align: right;\">\n      <th></th>\n      <th>cycle</th>\n      <th>capacity</th>\n      <th>resistance</th>\n      <th>CCCT</th>\n      <th>CVCT</th>\n      <th>CS_Name_CS2_35</th>\n      <th>CS_Name_CS2_36</th>\n      <th>CS_Name_CS2_37</th>\n      <th>CS_Name_CS2_38</th>\n      <th>CC/CV</th>\n      <th>cycle_mul_capacity</th>\n      <th>cycle_mul_resistance</th>\n      <th>cycle_mul_CCCT</th>\n      <th>cycle_mul_CVCT</th>\n      <th>cycle_mul_CC/CV</th>\n      <th>log_cycle</th>\n    </tr>\n  </thead>\n  <tbody>\n    <tr>\n      <th>0</th>\n      <td>1.0</td>\n      <td>1.126385</td>\n      <td>0.094009</td>\n      <td>6613.059052</td>\n      <td>2251.498033</td>\n      <td>1</td>\n      <td>0</td>\n      <td>0</td>\n      <td>0</td>\n      <td>2.937182</td>\n      <td>1.126385</td>\n      <td>0.094009</td>\n      <td>6.613059e+03</td>\n      <td>2.251498e+03</td>\n      <td>2.937182</td>\n      <td>0.000000</td>\n    </tr>\n    <tr>\n      <th>1</th>\n      <td>2.0</td>\n      <td>1.126160</td>\n      <td>0.091661</td>\n      <td>6612.402800</td>\n      <td>2231.967052</td>\n      <td>1</td>\n      <td>0</td>\n      <td>0</td>\n      <td>0</td>\n      <td>2.962590</td>\n      <td>2.252320</td>\n      <td>0.183322</td>\n      <td>1.322481e+04</td>\n      <td>4.463934e+03</td>\n      <td>5.925180</td>\n      <td>0.693147</td>\n    </tr>\n    <tr>\n      <th>2</th>\n      <td>3.0</td>\n      <td>1.125966</td>\n      <td>0.094649</td>\n      <td>6608.560673</td>\n      <td>2228.216959</td>\n      <td>1</td>\n      <td>0</td>\n      <td>0</td>\n      <td>0</td>\n      <td>2.965852</td>\n      <td>3.377897</td>\n      <td>0.283946</td>\n      <td>1.982568e+04</td>\n      <td>6.684651e+03</td>\n      <td>8.897555</td>\n      <td>1.098612</td>\n    </tr>\n    <tr>\n      <th>3</th>\n      <td>4.0</td>\n      <td>1.118508</td>\n      <td>0.091413</td>\n      <td>6604.732222</td>\n      <td>2247.561061</td>\n      <td>1</td>\n      <td>0</td>\n      <td>0</td>\n      <td>0</td>\n      <td>2.938622</td>\n      <td>4.474031</td>\n      <td>0.365651</td>\n      <td>2.641893e+04</td>\n      <td>8.990244e+03</td>\n      <td>11.754488</td>\n      <td>1.386294</td>\n    </tr>\n    <tr>\n      <th>4</th>\n      <td>5.0</td>\n      <td>1.117210</td>\n      <td>0.091413</td>\n      <td>6629.211049</td>\n      <td>2077.692393</td>\n      <td>1</td>\n      <td>0</td>\n      <td>0</td>\n      <td>0</td>\n      <td>3.190660</td>\n      <td>5.586050</td>\n      <td>0.457064</td>\n      <td>3.314606e+04</td>\n      <td>1.038846e+04</td>\n      <td>15.953302</td>\n      <td>1.609438</td>\n    </tr>\n    <tr>\n      <th>...</th>\n      <td>...</td>\n      <td>...</td>\n      <td>...</td>\n      <td>...</td>\n      <td>...</td>\n      <td>...</td>\n      <td>...</td>\n      <td>...</td>\n      <td>...</td>\n      <td>...</td>\n      <td>...</td>\n      <td>...</td>\n      <td>...</td>\n      <td>...</td>\n      <td>...</td>\n      <td>...</td>\n    </tr>\n    <tr>\n      <th>541</th>\n      <td>980.0</td>\n      <td>0.329976</td>\n      <td>0.122724</td>\n      <td>1088.106510</td>\n      <td>3134.165716</td>\n      <td>0</td>\n      <td>0</td>\n      <td>0</td>\n      <td>1</td>\n      <td>0.347176</td>\n      <td>323.376322</td>\n      <td>120.269130</td>\n      <td>1.066344e+06</td>\n      <td>3.071482e+06</td>\n      <td>340.232290</td>\n      <td>6.887553</td>\n    </tr>\n    <tr>\n      <th>542</th>\n      <td>981.0</td>\n      <td>0.320817</td>\n      <td>0.123536</td>\n      <td>1075.483985</td>\n      <td>3131.743877</td>\n      <td>0</td>\n      <td>0</td>\n      <td>0</td>\n      <td>1</td>\n      <td>0.343414</td>\n      <td>314.721377</td>\n      <td>121.189150</td>\n      <td>1.055050e+06</td>\n      <td>3.072241e+06</td>\n      <td>336.888912</td>\n      <td>6.888572</td>\n    </tr>\n    <tr>\n      <th>543</th>\n      <td>982.0</td>\n      <td>0.329995</td>\n      <td>0.122613</td>\n      <td>1054.763453</td>\n      <td>3102.713029</td>\n      <td>0</td>\n      <td>0</td>\n      <td>0</td>\n      <td>1</td>\n      <td>0.339949</td>\n      <td>324.055464</td>\n      <td>120.405613</td>\n      <td>1.035778e+06</td>\n      <td>3.046864e+06</td>\n      <td>333.829684</td>\n      <td>6.889591</td>\n    </tr>\n    <tr>\n      <th>544</th>\n      <td>983.0</td>\n      <td>0.330006</td>\n      <td>0.122021</td>\n      <td>1039.701059</td>\n      <td>3122.009653</td>\n      <td>0</td>\n      <td>0</td>\n      <td>0</td>\n      <td>1</td>\n      <td>0.333023</td>\n      <td>324.395825</td>\n      <td>119.946926</td>\n      <td>1.022026e+06</td>\n      <td>3.068935e+06</td>\n      <td>327.361621</td>\n      <td>6.890609</td>\n    </tr>\n    <tr>\n      <th>545</th>\n      <td>984.0</td>\n      <td>0.320868</td>\n      <td>0.122724</td>\n      <td>1053.529141</td>\n      <td>3097.041678</td>\n      <td>0</td>\n      <td>0</td>\n      <td>0</td>\n      <td>1</td>\n      <td>0.340173</td>\n      <td>315.733955</td>\n      <td>120.760024</td>\n      <td>1.036673e+06</td>\n      <td>3.047489e+06</td>\n      <td>334.729972</td>\n      <td>6.891626</td>\n    </tr>\n  </tbody>\n</table>\n<p>3592 rows × 16 columns</p>\n</div>"
     },
     "execution_count": 7,
     "metadata": {},
     "output_type": "execute_result"
    }
   ],
   "source": [
    "train_x"
   ],
   "metadata": {
    "collapsed": false,
    "pycharm": {
     "name": "#%%\n"
    }
   }
  },
  {
   "cell_type": "code",
   "execution_count": null,
   "outputs": [],
   "source": [],
   "metadata": {
    "collapsed": false,
    "pycharm": {
     "name": "#%%\n"
    }
   }
  }
 ],
 "metadata": {
  "kernelspec": {
   "display_name": "Python 3",
   "language": "python",
   "name": "python3"
  },
  "language_info": {
   "codemirror_mode": {
    "name": "ipython",
    "version": 2
   },
   "file_extension": ".py",
   "mimetype": "text/x-python",
   "name": "python",
   "nbconvert_exporter": "python",
   "pygments_lexer": "ipython2",
   "version": "2.7.6"
  }
 },
 "nbformat": 4,
 "nbformat_minor": 0
}