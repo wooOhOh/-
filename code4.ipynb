{
 "cells": [
  {
   "cell_type": "code",
   "execution_count": 1,
   "metadata": {
    "collapsed": true,
    "pycharm": {
     "name": "#%%\n"
    }
   },
   "outputs": [],
   "source": [
    "# 导入所需的库\n",
    "import pandas as pd\n",
    "import numpy as np\n",
    "from sklearn.model_selection import train_test_split\n",
    "from sklearn.metrics import mean_absolute_error\n",
    "import xgboost as xgb\n",
    "import os\n",
    "from sklearn.metrics import mean_squared_error"
   ]
  },
  {
   "cell_type": "code",
   "execution_count": 2,
   "outputs": [],
   "source": [
    "raw_train_data = pd.read_csv(r\"C:\\Users\\yubin\\Desktop\\综合课程设计3\\锂电池\\train_data.csv\")\n",
    "raw_test_data = pd.read_csv(r\"C:\\Users\\yubin\\Desktop\\综合课程设计3\\锂电池\\test_data.csv\")\n",
    "raw_dev_data = pd.read_csv(r\"C:\\Users\\yubin\\Desktop\\综合课程设计3\\锂电池\\dev_data.csv\")"
   ],
   "metadata": {
    "collapsed": false,
    "pycharm": {
     "name": "#%%\n"
    }
   }
  },
  {
   "cell_type": "code",
   "execution_count": 16,
   "outputs": [],
   "source": [
    "# 删除第一列\n",
    "train_data = raw_train_data.drop(raw_train_data.columns[0], axis=1)\n",
    "dev_data = raw_dev_data.drop(raw_dev_data.columns[0], axis=1)\n",
    "test_data = raw_test_data.drop(raw_test_data.columns[0], axis=1)\n",
    "t = test_data[test_data['SoH'] != -100]\n",
    "d = dev_data[dev_data['SoH'] != -100]\n",
    "combined_df = pd.concat([t, d])\n",
    "train_data=pd.concat([train_data,combined_df])\n",
    "# 将值为0的数替换为NaN\n",
    "train_data.replace(0, np.nan, inplace=True)\n",
    "#训练集y\n",
    "train_y=train_data['SoH']\n",
    "#填补缺失值\n",
    "train_data['CCCT'] = train_data['CCCT'].fillna(train_data['CCCT'].mean())\n",
    "train_data['CVCT'] = train_data['CVCT'].fillna(train_data['CVCT'].mean())\n",
    "train_data=train_data.drop(columns=['SoH'])\n",
    "# 对\"XX\"列进行独热编码\n",
    "train_data = pd.get_dummies(train_data, columns=[\"CS_Name\"])\n",
    "#充电时长\n",
    "train_data['CC/CV']=train_data['CCCT']/train_data['CVCT']\n",
    "\n",
    "col_to_multiply = {'cycle','CS_Name_CS2_35','CS_Name_CS2_36','CS_Name_CS2_37','CS_Name_CS2_38'}\n",
    "# 获取除了 col_to_multiply 列之外的所有列\n",
    "cols_to_multiply_with = train_data.drop(col_to_multiply, axis=1).columns\n",
    "# 循环相乘\n",
    "for col in cols_to_multiply_with:\n",
    "    new_col_name = f\"cycle_mul_{col}\"\n",
    "    train_data[new_col_name] = train_data['cycle'] * train_data[col]\n",
    "\n",
    "train_data['log_cycle'] = np.log(train_data['cycle'])\n",
    "train_data['CC/CV']=train_data['CCCT']/train_data['CVCT']"
   ],
   "metadata": {
    "collapsed": false,
    "pycharm": {
     "name": "#%%\n"
    }
   }
  },
  {
   "cell_type": "code",
   "execution_count": 17,
   "outputs": [
    {
     "data": {
      "text/plain": "     cycle  capacity  resistance         CCCT         CVCT  CS_Name_CS2_35  \\\n0      1.0  1.126385    0.094009  6613.059052  2251.498033               1   \n1      2.0  1.126160    0.091661  6612.402800  2231.967052               1   \n2      3.0  1.125966    0.094649  6608.560673  2228.216959               1   \n3      4.0  1.118508    0.091413  6604.732222  2247.561061               1   \n4      5.0  1.117210    0.091413  6629.211049  2077.692393               1   \n..     ...       ...         ...          ...          ...             ...   \n541  980.0  0.329976    0.122724  1088.106510  3134.165716               0   \n542  981.0  0.320817    0.123536  1075.483985  3131.743877               0   \n543  982.0  0.329995    0.122613  1054.763453  3102.713029               0   \n544  983.0  0.330006    0.122021  1039.701059  3122.009653               0   \n545  984.0  0.320868    0.122724  1053.529141  3097.041678               0   \n\n     CS_Name_CS2_36  CS_Name_CS2_37  CS_Name_CS2_38     CC/CV  \\\n0                 0               0               0  2.937182   \n1                 0               0               0  2.962590   \n2                 0               0               0  2.965852   \n3                 0               0               0  2.938622   \n4                 0               0               0  3.190660   \n..              ...             ...             ...       ...   \n541               0               0               1  0.347176   \n542               0               0               1  0.343414   \n543               0               0               1  0.339949   \n544               0               0               1  0.333023   \n545               0               0               1  0.340173   \n\n     cycle_mul_capacity  cycle_mul_resistance  cycle_mul_CCCT  cycle_mul_CVCT  \\\n0              1.126385              0.094009    6.613059e+03    2.251498e+03   \n1              2.252320              0.183322    1.322481e+04    4.463934e+03   \n2              3.377897              0.283946    1.982568e+04    6.684651e+03   \n3              4.474031              0.365651    2.641893e+04    8.990244e+03   \n4              5.586050              0.457064    3.314606e+04    1.038846e+04   \n..                  ...                   ...             ...             ...   \n541          323.376322            120.269130    1.066344e+06    3.071482e+06   \n542          314.721377            121.189150    1.055050e+06    3.072241e+06   \n543          324.055464            120.405613    1.035778e+06    3.046864e+06   \n544          324.395825            119.946926    1.022026e+06    3.068935e+06   \n545          315.733955            120.760024    1.036673e+06    3.047489e+06   \n\n     cycle_mul_CC/CV  log_cycle  \n0           2.937182   0.000000  \n1           5.925180   0.693147  \n2           8.897555   1.098612  \n3          11.754488   1.386294  \n4          15.953302   1.609438  \n..               ...        ...  \n541       340.232290   6.887553  \n542       336.888912   6.888572  \n543       333.829684   6.889591  \n544       327.361621   6.890609  \n545       334.729972   6.891626  \n\n[3592 rows x 16 columns]",
      "text/html": "<div>\n<style scoped>\n    .dataframe tbody tr th:only-of-type {\n        vertical-align: middle;\n    }\n\n    .dataframe tbody tr th {\n        vertical-align: top;\n    }\n\n    .dataframe thead th {\n        text-align: right;\n    }\n</style>\n<table border=\"1\" class=\"dataframe\">\n  <thead>\n    <tr style=\"text-align: right;\">\n      <th></th>\n      <th>cycle</th>\n      <th>capacity</th>\n      <th>resistance</th>\n      <th>CCCT</th>\n      <th>CVCT</th>\n      <th>CS_Name_CS2_35</th>\n      <th>CS_Name_CS2_36</th>\n      <th>CS_Name_CS2_37</th>\n      <th>CS_Name_CS2_38</th>\n      <th>CC/CV</th>\n      <th>cycle_mul_capacity</th>\n      <th>cycle_mul_resistance</th>\n      <th>cycle_mul_CCCT</th>\n      <th>cycle_mul_CVCT</th>\n      <th>cycle_mul_CC/CV</th>\n      <th>log_cycle</th>\n    </tr>\n  </thead>\n  <tbody>\n    <tr>\n      <th>0</th>\n      <td>1.0</td>\n      <td>1.126385</td>\n      <td>0.094009</td>\n      <td>6613.059052</td>\n      <td>2251.498033</td>\n      <td>1</td>\n      <td>0</td>\n      <td>0</td>\n      <td>0</td>\n      <td>2.937182</td>\n      <td>1.126385</td>\n      <td>0.094009</td>\n      <td>6.613059e+03</td>\n      <td>2.251498e+03</td>\n      <td>2.937182</td>\n      <td>0.000000</td>\n    </tr>\n    <tr>\n      <th>1</th>\n      <td>2.0</td>\n      <td>1.126160</td>\n      <td>0.091661</td>\n      <td>6612.402800</td>\n      <td>2231.967052</td>\n      <td>1</td>\n      <td>0</td>\n      <td>0</td>\n      <td>0</td>\n      <td>2.962590</td>\n      <td>2.252320</td>\n      <td>0.183322</td>\n      <td>1.322481e+04</td>\n      <td>4.463934e+03</td>\n      <td>5.925180</td>\n      <td>0.693147</td>\n    </tr>\n    <tr>\n      <th>2</th>\n      <td>3.0</td>\n      <td>1.125966</td>\n      <td>0.094649</td>\n      <td>6608.560673</td>\n      <td>2228.216959</td>\n      <td>1</td>\n      <td>0</td>\n      <td>0</td>\n      <td>0</td>\n      <td>2.965852</td>\n      <td>3.377897</td>\n      <td>0.283946</td>\n      <td>1.982568e+04</td>\n      <td>6.684651e+03</td>\n      <td>8.897555</td>\n      <td>1.098612</td>\n    </tr>\n    <tr>\n      <th>3</th>\n      <td>4.0</td>\n      <td>1.118508</td>\n      <td>0.091413</td>\n      <td>6604.732222</td>\n      <td>2247.561061</td>\n      <td>1</td>\n      <td>0</td>\n      <td>0</td>\n      <td>0</td>\n      <td>2.938622</td>\n      <td>4.474031</td>\n      <td>0.365651</td>\n      <td>2.641893e+04</td>\n      <td>8.990244e+03</td>\n      <td>11.754488</td>\n      <td>1.386294</td>\n    </tr>\n    <tr>\n      <th>4</th>\n      <td>5.0</td>\n      <td>1.117210</td>\n      <td>0.091413</td>\n      <td>6629.211049</td>\n      <td>2077.692393</td>\n      <td>1</td>\n      <td>0</td>\n      <td>0</td>\n      <td>0</td>\n      <td>3.190660</td>\n      <td>5.586050</td>\n      <td>0.457064</td>\n      <td>3.314606e+04</td>\n      <td>1.038846e+04</td>\n      <td>15.953302</td>\n      <td>1.609438</td>\n    </tr>\n    <tr>\n      <th>...</th>\n      <td>...</td>\n      <td>...</td>\n      <td>...</td>\n      <td>...</td>\n      <td>...</td>\n      <td>...</td>\n      <td>...</td>\n      <td>...</td>\n      <td>...</td>\n      <td>...</td>\n      <td>...</td>\n      <td>...</td>\n      <td>...</td>\n      <td>...</td>\n      <td>...</td>\n      <td>...</td>\n    </tr>\n    <tr>\n      <th>541</th>\n      <td>980.0</td>\n      <td>0.329976</td>\n      <td>0.122724</td>\n      <td>1088.106510</td>\n      <td>3134.165716</td>\n      <td>0</td>\n      <td>0</td>\n      <td>0</td>\n      <td>1</td>\n      <td>0.347176</td>\n      <td>323.376322</td>\n      <td>120.269130</td>\n      <td>1.066344e+06</td>\n      <td>3.071482e+06</td>\n      <td>340.232290</td>\n      <td>6.887553</td>\n    </tr>\n    <tr>\n      <th>542</th>\n      <td>981.0</td>\n      <td>0.320817</td>\n      <td>0.123536</td>\n      <td>1075.483985</td>\n      <td>3131.743877</td>\n      <td>0</td>\n      <td>0</td>\n      <td>0</td>\n      <td>1</td>\n      <td>0.343414</td>\n      <td>314.721377</td>\n      <td>121.189150</td>\n      <td>1.055050e+06</td>\n      <td>3.072241e+06</td>\n      <td>336.888912</td>\n      <td>6.888572</td>\n    </tr>\n    <tr>\n      <th>543</th>\n      <td>982.0</td>\n      <td>0.329995</td>\n      <td>0.122613</td>\n      <td>1054.763453</td>\n      <td>3102.713029</td>\n      <td>0</td>\n      <td>0</td>\n      <td>0</td>\n      <td>1</td>\n      <td>0.339949</td>\n      <td>324.055464</td>\n      <td>120.405613</td>\n      <td>1.035778e+06</td>\n      <td>3.046864e+06</td>\n      <td>333.829684</td>\n      <td>6.889591</td>\n    </tr>\n    <tr>\n      <th>544</th>\n      <td>983.0</td>\n      <td>0.330006</td>\n      <td>0.122021</td>\n      <td>1039.701059</td>\n      <td>3122.009653</td>\n      <td>0</td>\n      <td>0</td>\n      <td>0</td>\n      <td>1</td>\n      <td>0.333023</td>\n      <td>324.395825</td>\n      <td>119.946926</td>\n      <td>1.022026e+06</td>\n      <td>3.068935e+06</td>\n      <td>327.361621</td>\n      <td>6.890609</td>\n    </tr>\n    <tr>\n      <th>545</th>\n      <td>984.0</td>\n      <td>0.320868</td>\n      <td>0.122724</td>\n      <td>1053.529141</td>\n      <td>3097.041678</td>\n      <td>0</td>\n      <td>0</td>\n      <td>0</td>\n      <td>1</td>\n      <td>0.340173</td>\n      <td>315.733955</td>\n      <td>120.760024</td>\n      <td>1.036673e+06</td>\n      <td>3.047489e+06</td>\n      <td>334.729972</td>\n      <td>6.891626</td>\n    </tr>\n  </tbody>\n</table>\n<p>3592 rows × 16 columns</p>\n</div>"
     },
     "execution_count": 17,
     "metadata": {},
     "output_type": "execute_result"
    }
   ],
   "source": [
    "train_data"
   ],
   "metadata": {
    "collapsed": false,
    "pycharm": {
     "name": "#%%\n"
    }
   }
  },
  {
   "cell_type": "code",
   "execution_count": 18,
   "outputs": [
    {
     "name": "stderr",
     "output_type": "stream",
     "text": [
      "C:\\Users\\yubin\\AppData\\Local\\Temp\\ipykernel_32\\2674512448.py:3: SettingWithCopyWarning: \n",
      "A value is trying to be set on a copy of a slice from a DataFrame.\n",
      "Try using .loc[row_indexer,col_indexer] = value instead\n",
      "\n",
      "See the caveats in the documentation: https://pandas.pydata.org/pandas-docs/stable/user_guide/indexing.html#returning-a-view-versus-a-copy\n",
      "  t_data['CCCT'] = t_data['CCCT'].fillna(t_data['CCCT'].mean())\n",
      "C:\\Users\\yubin\\AppData\\Local\\Temp\\ipykernel_32\\2674512448.py:4: SettingWithCopyWarning: \n",
      "A value is trying to be set on a copy of a slice from a DataFrame.\n",
      "Try using .loc[row_indexer,col_indexer] = value instead\n",
      "\n",
      "See the caveats in the documentation: https://pandas.pydata.org/pandas-docs/stable/user_guide/indexing.html#returning-a-view-versus-a-copy\n",
      "  t_data['CVCT'] = t_data['CVCT'].fillna(t_data['CVCT'].mean())\n"
     ]
    }
   ],
   "source": [
    "t_data = test_data[test_data['SoH'] == -100]\n",
    "#填补缺失值\n",
    "t_data['CCCT'] = t_data['CCCT'].fillna(t_data['CCCT'].mean())\n",
    "t_data['CVCT'] = t_data['CVCT'].fillna(t_data['CVCT'].mean())\n",
    "t_data=t_data.drop(columns=['SoH'])\n",
    "t_data = pd.get_dummies(t_data, columns=[\"CS_Name\"])\n",
    "#充电时长\n",
    "t_data['CC/CV']=t_data['CCCT']/t_data['CVCT']\n",
    "# 选择要循环相乘的列\n",
    "col_to_multiply = {'cycle','CS_Name_CS2_35','CS_Name_CS2_36','CS_Name_CS2_37','CS_Name_CS2_38'}\n",
    "# 获取除了 col_to_multiply 列之外的所有列\n",
    "cols_to_multiply_with = t_data.drop(col_to_multiply, axis=1).columns\n",
    "# 循环相乘\n",
    "for col in cols_to_multiply_with:\n",
    "    new_col_name = f\"cycle_mul_{col}\"\n",
    "    t_data[new_col_name] = t_data['cycle'] * t_data[col]\n",
    "t_data['log_cycle'] = np.log(t_data['cycle'])"
   ],
   "metadata": {
    "collapsed": false,
    "pycharm": {
     "name": "#%%\n"
    }
   }
  },
  {
   "cell_type": "code",
   "execution_count": 19,
   "outputs": [],
   "source": [
    "\n",
    "# 建立XGB模型\n",
    "model = xgb.XGBRegressor(\n",
    "    n_estimators=1000,  # 迭代次数\n",
    "    learning_rate=0.01,  # 学习率\n",
    "    objective='reg:squarederror',  # 损失函数\n",
    "    random_state=42\n",
    ")\n",
    "\n",
    "\n",
    "train_x=train_data;\n",
    "\n",
    "t_data_x=t_data;\n",
    "\n",
    "model.fit(train_x, train_y)\n",
    "test_y = model.predict(t_data_x)\n",
    "\n",
    "\n",
    "# rmse = np.sqrt(mean_squared_error(test_y, train_y))\n",
    "# rmse"
   ],
   "metadata": {
    "collapsed": false,
    "pycharm": {
     "name": "#%%\n"
    }
   }
  },
  {
   "cell_type": "code",
   "execution_count": 20,
   "outputs": [],
   "source": [
    "# 假设 test_y 是一个一维数组，你可以将其转换为 DataFrame 对象\n",
    "test_y_df = pd.DataFrame({'result': test_y})\n",
    "test_=raw_test_data[raw_test_data['SoH'] == -100]\n",
    "test_ = test_.reset_index(drop=True)\n",
    "# 按列拼接预测结果和 t_data_x\n",
    "merged_df = pd.concat([test_, test_y_df],axis=1)\n",
    "# merged_df.rename(columns={'Unamed: 0': 'first'}, inplace=True)\n",
    "selected_columns = ['Unnamed: 0', 'cycle', 'CS_Name','result']\n",
    "# 选择特定列\n",
    "new_df = merged_df.loc[:, selected_columns]\n",
    "new_df.to_csv('result.csv', index=False)\n",
    "# # 保存拼接后的结果到新的 CSV 文件\n",
    "# merged_df.to_csv('merged_result.csv', index=False)"
   ],
   "metadata": {
    "collapsed": false,
    "pycharm": {
     "name": "#%%\n"
    }
   }
  },
  {
   "cell_type": "code",
   "execution_count": null,
   "outputs": [],
   "source": [],
   "metadata": {
    "collapsed": false,
    "pycharm": {
     "name": "#%%\n"
    }
   }
  }
 ],
 "metadata": {
  "kernelspec": {
   "display_name": "Python 3",
   "language": "python",
   "name": "python3"
  },
  "language_info": {
   "codemirror_mode": {
    "name": "ipython",
    "version": 2
   },
   "file_extension": ".py",
   "mimetype": "text/x-python",
   "name": "python",
   "nbconvert_exporter": "python",
   "pygments_lexer": "ipython2",
   "version": "2.7.6"
  }
 },
 "nbformat": 4,
 "nbformat_minor": 0
}