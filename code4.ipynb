{
 "cells": [
  {
   "cell_type": "code",
   "execution_count": 1,
   "metadata": {
    "collapsed": true,
    "pycharm": {
     "name": "#%%\n"
    }
   },
   "outputs": [],
   "source": [
    "# 导入所需的库\n",
    "import pandas as pd\n",
    "import numpy as np\n",
    "from sklearn.model_selection import train_test_split\n",
    "from sklearn.metrics import mean_absolute_error\n",
    "import xgboost as xgb\n",
    "import os\n",
    "from sklearn.metrics import mean_squared_error"
   ]
  },
  {
   "cell_type": "code",
   "execution_count": 2,
   "outputs": [],
   "source": [
    "raw_train_data = pd.read_csv(r\"C:\\Users\\yubin\\Desktop\\综合课程设计3\\锂电池\\train_data.csv\")\n",
    "raw_test_data = pd.read_csv(r\"C:\\Users\\yubin\\Desktop\\综合课程设计3\\锂电池\\test_data.csv\")\n",
    "raw_dev_data = pd.read_csv(r\"C:\\Users\\yubin\\Desktop\\综合课程设计3\\锂电池\\dev_data.csv\")"
   ],
   "metadata": {
    "collapsed": false,
    "pycharm": {
     "name": "#%%\n"
    }
   }
  },
  {
   "cell_type": "code",
   "execution_count": 11,
   "outputs": [],
   "source": [
    "# 删除第一列\n",
    "train_data = raw_train_data.drop(raw_train_data.columns[0], axis=1)\n",
    "dev_data = raw_dev_data.drop(raw_dev_data.columns[0], axis=1)\n",
    "test_data = raw_test_data.drop(raw_test_data.columns[0], axis=1)\n",
    "t = test_data[test_data['SoH'] != -100]\n",
    "d = dev_data[dev_data['SoH'] != -100]\n",
    "combined_df = pd.concat([t, d])\n",
    "train_data=pd.concat([train_data,combined_df])\n",
    "# 将值为0的数替换为NaN\n",
    "train_data.replace(0, np.nan, inplace=True)\n",
    "#训练集y\n",
    "train_y=train_data['SoH']\n",
    "#填补缺失值\n",
    "train_data['CCCT'] = train_data['CCCT'].fillna(train_data['CCCT'].mean())\n",
    "train_data['CVCT'] = train_data['CVCT'].fillna(train_data['CVCT'].mean())\n",
    "train_data=train_data.drop(columns=['SoH'])\n",
    "# 对\"XX\"列进行独热编码\n",
    "train_data = pd.get_dummies(train_data, columns=[\"CS_Name\"])\n",
    "\n",
    "col_to_multiply = {'cycle','CS_Name_CS2_35','CS_Name_CS2_36','CS_Name_CS2_37','CS_Name_CS2_38'}\n",
    "# 获取除了 col_to_multiply 列之外的所有列\n",
    "cols_to_multiply_with = train_data.drop(col_to_multiply, axis=1).columns\n",
    "# 循环相乘\n",
    "for col in cols_to_multiply_with:\n",
    "    new_col_name = f\"cycle_mul_{col}\"\n",
    "    train_data[new_col_name] = train_data['cycle'] * train_data[col]\n",
    "\n",
    "train_data['log_cycle'] = np.log(train_data['cycle'])"
   ],
   "metadata": {
    "collapsed": false,
    "pycharm": {
     "name": "#%%\n"
    }
   }
  },
  {
   "cell_type": "code",
   "execution_count": 13,
   "outputs": [
    {
     "name": "stderr",
     "output_type": "stream",
     "text": [
      "C:\\Users\\yubin\\AppData\\Local\\Temp\\ipykernel_32\\296861302.py:3: SettingWithCopyWarning: \n",
      "A value is trying to be set on a copy of a slice from a DataFrame.\n",
      "Try using .loc[row_indexer,col_indexer] = value instead\n",
      "\n",
      "See the caveats in the documentation: https://pandas.pydata.org/pandas-docs/stable/user_guide/indexing.html#returning-a-view-versus-a-copy\n",
      "  t_data['CCCT'] = t_data['CCCT'].fillna(t_data['CCCT'].mean())\n",
      "C:\\Users\\yubin\\AppData\\Local\\Temp\\ipykernel_32\\296861302.py:4: SettingWithCopyWarning: \n",
      "A value is trying to be set on a copy of a slice from a DataFrame.\n",
      "Try using .loc[row_indexer,col_indexer] = value instead\n",
      "\n",
      "See the caveats in the documentation: https://pandas.pydata.org/pandas-docs/stable/user_guide/indexing.html#returning-a-view-versus-a-copy\n",
      "  t_data['CVCT'] = t_data['CVCT'].fillna(t_data['CVCT'].mean())\n"
     ]
    }
   ],
   "source": [
    "t_data = test_data[test_data['SoH'] == -100]\n",
    "#填补缺失值\n",
    "t_data['CCCT'] = t_data['CCCT'].fillna(t_data['CCCT'].mean())\n",
    "t_data['CVCT'] = t_data['CVCT'].fillna(t_data['CVCT'].mean())\n",
    "t_data=t_data.drop(columns=['SoH'])\n",
    "t_data = pd.get_dummies(t_data, columns=[\"CS_Name\"])\n",
    "\n",
    "# 选择要循环相乘的列\n",
    "col_to_multiply = {'cycle','CS_Name_CS2_35','CS_Name_CS2_36','CS_Name_CS2_37','CS_Name_CS2_38'}\n",
    "# 获取除了 col_to_multiply 列之外的所有列\n",
    "cols_to_multiply_with = t_data.drop(col_to_multiply, axis=1).columns\n",
    "# 循环相乘\n",
    "for col in cols_to_multiply_with:\n",
    "    new_col_name = f\"cycle_mul_{col}\"\n",
    "    t_data[new_col_name] = t_data['cycle'] * t_data[col]\n",
    "t_data['log_cycle'] = np.log(t_data['cycle'])"
   ],
   "metadata": {
    "collapsed": false,
    "pycharm": {
     "name": "#%%\n"
    }
   }
  },
  {
   "cell_type": "code",
   "execution_count": 14,
   "outputs": [],
   "source": [
    "\n",
    "# 建立XGB模型\n",
    "model = xgb.XGBRegressor(\n",
    "    n_estimators=1000,  # 迭代次数\n",
    "    learning_rate=0.01,  # 学习率\n",
    "    objective='reg:squarederror',  # 损失函数\n",
    "    random_state=42\n",
    ")\n",
    "\n",
    "\n",
    "train_x=train_data;\n",
    "\n",
    "t_data_x=t_data;\n",
    "\n",
    "model.fit(train_x, train_y)\n",
    "test_y = model.predict(t_data_x)\n",
    "\n",
    "\n",
    "# rmse = np.sqrt(mean_squared_error(test_y, train_y))\n",
    "# rmse"
   ],
   "metadata": {
    "collapsed": false,
    "pycharm": {
     "name": "#%%\n"
    }
   }
  },
  {
   "cell_type": "code",
   "execution_count": 15,
   "outputs": [],
   "source": [
    "# 假设 test_y 是一个一维数组，你可以将其转换为 DataFrame 对象\n",
    "test_y_df = pd.DataFrame({'result': test_y})\n",
    "test_=raw_test_data[raw_test_data['SoH'] == -100]\n",
    "test_ = test_.reset_index(drop=True)\n",
    "# 按列拼接预测结果和 t_data_x\n",
    "merged_df = pd.concat([test_, test_y_df],axis=1)\n",
    "# merged_df.rename(columns={'Unamed: 0': 'first'}, inplace=True)\n",
    "selected_columns = ['Unnamed: 0', 'cycle', 'CS_Name','result']\n",
    "# 选择特定列\n",
    "new_df = merged_df.loc[:, selected_columns]\n",
    "new_df.to_csv('result.csv', index=False)\n",
    "# # 保存拼接后的结果到新的 CSV 文件\n",
    "# merged_df.to_csv('merged_result.csv', index=False)"
   ],
   "metadata": {
    "collapsed": false,
    "pycharm": {
     "name": "#%%\n"
    }
   }
  },
  {
   "cell_type": "code",
   "execution_count": null,
   "outputs": [],
   "source": [],
   "metadata": {
    "collapsed": false,
    "pycharm": {
     "name": "#%%\n"
    }
   }
  }
 ],
 "metadata": {
  "kernelspec": {
   "display_name": "Python 3",
   "language": "python",
   "name": "python3"
  },
  "language_info": {
   "codemirror_mode": {
    "name": "ipython",
    "version": 2
   },
   "file_extension": ".py",
   "mimetype": "text/x-python",
   "name": "python",
   "nbconvert_exporter": "python",
   "pygments_lexer": "ipython2",
   "version": "2.7.6"
  }
 },
 "nbformat": 4,
 "nbformat_minor": 0
}