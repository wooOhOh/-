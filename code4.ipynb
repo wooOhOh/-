{
 "cells": [
  {
   "cell_type": "code",
   "execution_count": 1,
   "metadata": {
    "collapsed": true,
    "pycharm": {
     "name": "#%%\n"
    }
   },
   "outputs": [],
   "source": [
    "# 导入所需的库\n",
    "import pandas as pd\n",
    "import numpy as np\n",
    "from sklearn.model_selection import train_test_split\n",
    "from sklearn.metrics import mean_absolute_error\n",
    "import xgboost as xgb\n",
    "import lightgbm as lgb\n",
    "from catboost import CatBoostClassifier\n",
    "from sklearn.ensemble import RandomForestRegressor\n",
    "from tqdm import tqdm\n",
    "import os\n",
    "from sklearn.metrics import mean_squared_error"
   ]
  },
  {
   "cell_type": "code",
   "execution_count": 2,
   "outputs": [],
   "source": [
    "raw_train_data = pd.read_csv(r\"C:\\Users\\yubin\\Desktop\\综合课程设计3\\锂电池\\train_data.csv\")\n",
    "raw_test_data = pd.read_csv(r\"C:\\Users\\yubin\\Desktop\\综合课程设计3\\锂电池\\test_data.csv\")\n",
    "raw_dev_data = pd.read_csv(r\"C:\\Users\\yubin\\Desktop\\综合课程设计3\\锂电池\\dev_data.csv\")"
   ],
   "metadata": {
    "collapsed": false,
    "pycharm": {
     "name": "#%%\n"
    }
   }
  },
  {
   "cell_type": "code",
   "execution_count": 15,
   "outputs": [],
   "source": [
    "# 删除第一列\n",
    "train_data = raw_train_data.drop(raw_train_data.columns[0], axis=1)\n",
    "dev_data = raw_dev_data.drop(raw_dev_data.columns[0], axis=1)\n",
    "test_data = raw_test_data.drop(raw_test_data.columns[0], axis=1)\n",
    "t = test_data[test_data['SoH'] != -100]\n",
    "d = dev_data[dev_data['SoH'] != -100]\n",
    "combined_df = pd.concat([t, d])\n",
    "train_data=pd.concat([train_data,combined_df])\n",
    "# 将值为0的数替换为NaN\n",
    "train_data.replace(0, np.nan, inplace=True)\n",
    "test_data.replace(0, np.nan, inplace=True)\n",
    "train_data=train_data.dropna();\n",
    "#训练集y\n",
    "train_y=train_data['SoH']\n",
    "# #填补缺失值\n",
    "# train_data['CCCT'] = train_data['CCCT'].fillna(train_data['CCCT'].mean())\n",
    "# train_data['CVCT'] = train_data['CVCT'].fillna(train_data['CVCT'].mean())\n",
    "train_data=train_data.drop(columns=['SoH'])\n",
    "# 对\"XX\"列进行独热编码\n",
    "train_data = pd.get_dummies(train_data, columns=[\"CS_Name\"])\n",
    "# #充电时长\n",
    "# train_data['CC/CV']=train_data['CCCT']/train_data['CVCT']\n",
    "# col_to_multiply = {'cycle','CS_Name_CS2_35','CS_Name_CS2_36','CS_Name_CS2_37','CS_Name_CS2_38'}\n",
    "# # 获取除了 col_to_multiply 列之外的所有列\n",
    "# cols_to_multiply_with = train_data.drop(col_to_multiply, axis=1).columns\n",
    "# # 循环相乘\n",
    "# for col in cols_to_multiply_with:\n",
    "#     new_col_name = f\"cycle_mul_{col}\"\n",
    "#     train_data[new_col_name] = train_data['cycle'] * train_data[col]\n",
    "#\n",
    "# train_data['log_cycle'] = np.log(train_data['cycle'])\n",
    "# train_data['2_cycle'] = train_data['cycle']**2"
   ],
   "metadata": {
    "collapsed": false,
    "pycharm": {
     "name": "#%%\n"
    }
   }
  },
  {
   "cell_type": "code",
   "execution_count": 16,
   "outputs": [
    {
     "name": "stderr",
     "output_type": "stream",
     "text": [
      "C:\\Users\\yubin\\AppData\\Local\\Temp\\ipykernel_16868\\383323821.py:3: SettingWithCopyWarning: \n",
      "A value is trying to be set on a copy of a slice from a DataFrame.\n",
      "Try using .loc[row_indexer,col_indexer] = value instead\n",
      "\n",
      "See the caveats in the documentation: https://pandas.pydata.org/pandas-docs/stable/user_guide/indexing.html#returning-a-view-versus-a-copy\n",
      "  t_data['CCCT'] = t_data['CCCT'].fillna(t_data['CCCT'].mean())\n",
      "C:\\Users\\yubin\\AppData\\Local\\Temp\\ipykernel_16868\\383323821.py:4: SettingWithCopyWarning: \n",
      "A value is trying to be set on a copy of a slice from a DataFrame.\n",
      "Try using .loc[row_indexer,col_indexer] = value instead\n",
      "\n",
      "See the caveats in the documentation: https://pandas.pydata.org/pandas-docs/stable/user_guide/indexing.html#returning-a-view-versus-a-copy\n",
      "  t_data['CVCT'] = t_data['CVCT'].fillna(t_data['CVCT'].mean())\n"
     ]
    }
   ],
   "source": [
    "t_data = test_data[test_data['SoH'] == -100]\n",
    "#填补缺失值\n",
    "t_data['CCCT'] = t_data['CCCT'].fillna(t_data['CCCT'].mean())\n",
    "t_data['CVCT'] = t_data['CVCT'].fillna(t_data['CVCT'].mean())\n",
    "t_data=t_data.drop(columns=['SoH'])\n",
    "t_data = pd.get_dummies(t_data, columns=[\"CS_Name\"])\n",
    "# #充电时长\n",
    "# t_data['CC/CV']=t_data['CCCT']/t_data['CVCT']\n",
    "# # 选择要循环相乘的列\n",
    "# col_to_multiply = {'cycle','CS_Name_CS2_35','CS_Name_CS2_36','CS_Name_CS2_37','CS_Name_CS2_38'}\n",
    "# # 获取除了 col_to_multiply 列之外的所有列\n",
    "# cols_to_multiply_with = t_data.drop(col_to_multiply, axis=1).columns\n",
    "# # 循环相乘\n",
    "# for col in cols_to_multiply_with:\n",
    "#     new_col_name = f\"cycle_mul_{col}\"\n",
    "#     t_data[new_col_name] = t_data['cycle'] * t_data[col]\n",
    "# t_data['log_cycle'] = np.log(t_data['cycle'])\n",
    "# t_data['2_cycle'] = t_data['cycle']**2;"
   ],
   "metadata": {
    "collapsed": false,
    "pycharm": {
     "name": "#%%\n"
    }
   }
  },
  {
   "cell_type": "code",
   "execution_count": 17,
   "outputs": [
    {
     "name": "stdout",
     "output_type": "stream",
     "text": [
      "[LightGBM] [Warning] feature_fraction is set=0.8, colsample_bytree=1.0 will be ignored. Current value: feature_fraction=0.8\n",
      "[LightGBM] [Warning] bagging_fraction is set=0.8, subsample=1.0 will be ignored. Current value: bagging_fraction=0.8\n",
      "[LightGBM] [Warning] bagging_freq is set=5, subsample_freq=0 will be ignored. Current value: bagging_freq=5\n",
      "[LightGBM] [Warning] feature_fraction is set=0.8, colsample_bytree=1.0 will be ignored. Current value: feature_fraction=0.8\n",
      "[LightGBM] [Warning] bagging_fraction is set=0.8, subsample=1.0 will be ignored. Current value: bagging_fraction=0.8\n",
      "[LightGBM] [Warning] bagging_freq is set=5, subsample_freq=0 will be ignored. Current value: bagging_freq=5\n",
      "[LightGBM] [Warning] feature_fraction is set=0.8, colsample_bytree=1.0 will be ignored. Current value: feature_fraction=0.8\n",
      "[LightGBM] [Warning] bagging_fraction is set=0.8, subsample=1.0 will be ignored. Current value: bagging_fraction=0.8\n",
      "[LightGBM] [Warning] bagging_freq is set=5, subsample_freq=0 will be ignored. Current value: bagging_freq=5\n"
     ]
    }
   ],
   "source": [
    "\n",
    "# 建立多模型\n",
    "# LightGBM模型参数\n",
    "lgb_params = {\n",
    "    'n_estimators': 500,\n",
    "    'objective': 'regression',  # 目标函数\n",
    "    'metric': 'rmse',  # 评估指标\n",
    "    'learning_rate': 0.03,  # 学习率\n",
    "    'feature_fraction': 0.8,  # 训练特征采样比例\n",
    "    'bagging_fraction': 0.8,  # 训练数据采样比例\n",
    "    'bagging_freq': 5,  # bagging的频率\n",
    "    'verbose': 0  # 显示训练过程信息的频率\n",
    "}\n",
    "\n",
    "# 随机森林模型参数\n",
    "rf_params = {\n",
    "    'n_estimators': 800,  # 决策树数量\n",
    "    'max_depth': None,  # 决策树最大深度，None表示不限制深度\n",
    "    'max_features': 'auto',  # 寻找最佳分割时考虑的特征数量\n",
    "    'random_state': 42  # 随机种子，以确保可重复性\n",
    "}\n",
    "\n",
    "# XGBoost模型参数\n",
    "xgb_params = {\n",
    "    'objective': 'reg:squarederror',  # 目标函数\n",
    "    'learning_rate': 0.1,  # 学习率\n",
    "    'max_depth': 7,  # 树的最大深度\n",
    "    'min_child_weight': 1,  # 叶子节点最小权重\n",
    "    'n_estimators': 500,  # 决策树数量\n",
    "    'random_state': 42  # 随机种子，以确保可重复性\n",
    "}\n",
    "models = {\n",
    "    'lgb': lgb.LGBMRegressor(**lgb_params),\n",
    "    'rf': RandomForestRegressor(**rf_params),\n",
    "    'xgb': xgb.XGBRegressor(\n",
    "        n_estimators=1000,  # 迭代次数\n",
    "        learning_rate=0.01,  # 学习率\n",
    "        objective='reg:squarederror',  # 损失函数\n",
    "        random_state=42\n",
    "    )\n",
    "}\n",
    "\n",
    "train_x=train_data;\n",
    "\n",
    "t_data_x=t_data;\n",
    "\n",
    "\n",
    "for name, model in models.items():\n",
    "    # 训练模型\n",
    "    model.fit(train_x, train_y)\n",
    "\n",
    "    # 预测\n",
    "    test_y = model.predict(t_data_x)\n",
    "# model.fit(train_x, train_y)\n",
    "# test_y = model.predict(t_data_x)\n",
    "\n",
    "\n",
    "# rmse = np.sqrt(mean_squared_error(test_y, train_y))\n",
    "# rmse"
   ],
   "metadata": {
    "collapsed": false,
    "pycharm": {
     "name": "#%%\n"
    }
   }
  },
  {
   "cell_type": "code",
   "execution_count": 18,
   "outputs": [],
   "source": [
    "# 假设 test_y 是一个一维数组，你可以将其转换为 DataFrame 对象\n",
    "test_y_df = pd.DataFrame({'result': test_y})\n",
    "test_=raw_test_data[raw_test_data['SoH'] == -100]\n",
    "test_ = test_.reset_index(drop=True)\n",
    "# 按列拼接预测结果和 t_data_x\n",
    "merged_df = pd.concat([test_, test_y_df],axis=1)\n",
    "# merged_df.rename(columns={'Unamed: 0': 'first'}, inplace=True)\n",
    "selected_columns = ['Unnamed: 0', 'cycle', 'CS_Name','result']\n",
    "# 选择特定列\n",
    "new_df = merged_df.loc[:, selected_columns]\n",
    "new_df.to_csv('result.csv', index=False)\n",
    "# # 保存拼接后的结果到新的 CSV 文件\n",
    "# merged_df.to_csv('merged_result.csv', index=False)"
   ],
   "metadata": {
    "collapsed": false,
    "pycharm": {
     "name": "#%%\n"
    }
   }
  },
  {
   "cell_type": "code",
   "execution_count": 8,
   "outputs": [],
   "source": [
    "m_df = pd.concat([train_x, train_y],axis=1)\n",
    "m_df.to_csv('m.csv', index=False)"
   ],
   "metadata": {
    "collapsed": false,
    "pycharm": {
     "name": "#%%\n"
    }
   }
  },
  {
   "cell_type": "code",
   "execution_count": 19,
   "outputs": [
    {
     "data": {
      "text/plain": "     Unnamed: 0  cycle CS_Name    result\n0           105  735.0  CS2_35  0.477882\n1           106  736.0  CS2_35  0.461272\n2           107  737.0  CS2_35  0.451485\n3           108  738.0  CS2_35  0.453611\n4           109  739.0  CS2_35  0.434205\n..          ...    ...     ...       ...\n115         147  857.0  CS2_38  0.424653\n116         148  858.0  CS2_38  0.424912\n117         149  859.0  CS2_38  0.425265\n118         150  860.0  CS2_38  0.425265\n119         151  861.0  CS2_38  0.425265\n\n[120 rows x 4 columns]",
      "text/html": "<div>\n<style scoped>\n    .dataframe tbody tr th:only-of-type {\n        vertical-align: middle;\n    }\n\n    .dataframe tbody tr th {\n        vertical-align: top;\n    }\n\n    .dataframe thead th {\n        text-align: right;\n    }\n</style>\n<table border=\"1\" class=\"dataframe\">\n  <thead>\n    <tr style=\"text-align: right;\">\n      <th></th>\n      <th>Unnamed: 0</th>\n      <th>cycle</th>\n      <th>CS_Name</th>\n      <th>result</th>\n    </tr>\n  </thead>\n  <tbody>\n    <tr>\n      <th>0</th>\n      <td>105</td>\n      <td>735.0</td>\n      <td>CS2_35</td>\n      <td>0.477882</td>\n    </tr>\n    <tr>\n      <th>1</th>\n      <td>106</td>\n      <td>736.0</td>\n      <td>CS2_35</td>\n      <td>0.461272</td>\n    </tr>\n    <tr>\n      <th>2</th>\n      <td>107</td>\n      <td>737.0</td>\n      <td>CS2_35</td>\n      <td>0.451485</td>\n    </tr>\n    <tr>\n      <th>3</th>\n      <td>108</td>\n      <td>738.0</td>\n      <td>CS2_35</td>\n      <td>0.453611</td>\n    </tr>\n    <tr>\n      <th>4</th>\n      <td>109</td>\n      <td>739.0</td>\n      <td>CS2_35</td>\n      <td>0.434205</td>\n    </tr>\n    <tr>\n      <th>...</th>\n      <td>...</td>\n      <td>...</td>\n      <td>...</td>\n      <td>...</td>\n    </tr>\n    <tr>\n      <th>115</th>\n      <td>147</td>\n      <td>857.0</td>\n      <td>CS2_38</td>\n      <td>0.424653</td>\n    </tr>\n    <tr>\n      <th>116</th>\n      <td>148</td>\n      <td>858.0</td>\n      <td>CS2_38</td>\n      <td>0.424912</td>\n    </tr>\n    <tr>\n      <th>117</th>\n      <td>149</td>\n      <td>859.0</td>\n      <td>CS2_38</td>\n      <td>0.425265</td>\n    </tr>\n    <tr>\n      <th>118</th>\n      <td>150</td>\n      <td>860.0</td>\n      <td>CS2_38</td>\n      <td>0.425265</td>\n    </tr>\n    <tr>\n      <th>119</th>\n      <td>151</td>\n      <td>861.0</td>\n      <td>CS2_38</td>\n      <td>0.425265</td>\n    </tr>\n  </tbody>\n</table>\n<p>120 rows × 4 columns</p>\n</div>"
     },
     "execution_count": 19,
     "metadata": {},
     "output_type": "execute_result"
    }
   ],
   "source": [
    "new_df"
   ],
   "metadata": {
    "collapsed": false,
    "pycharm": {
     "name": "#%%\n"
    }
   }
  },
  {
   "cell_type": "code",
   "execution_count": 20,
   "outputs": [
    {
     "data": {
      "text/plain": "       result\n0    0.477882\n1    0.461272\n2    0.451485\n3    0.453611\n4    0.434205\n..        ...\n115  0.424653\n116  0.424912\n117  0.425265\n118  0.425265\n119  0.425265\n\n[120 rows x 1 columns]",
      "text/html": "<div>\n<style scoped>\n    .dataframe tbody tr th:only-of-type {\n        vertical-align: middle;\n    }\n\n    .dataframe tbody tr th {\n        vertical-align: top;\n    }\n\n    .dataframe thead th {\n        text-align: right;\n    }\n</style>\n<table border=\"1\" class=\"dataframe\">\n  <thead>\n    <tr style=\"text-align: right;\">\n      <th></th>\n      <th>result</th>\n    </tr>\n  </thead>\n  <tbody>\n    <tr>\n      <th>0</th>\n      <td>0.477882</td>\n    </tr>\n    <tr>\n      <th>1</th>\n      <td>0.461272</td>\n    </tr>\n    <tr>\n      <th>2</th>\n      <td>0.451485</td>\n    </tr>\n    <tr>\n      <th>3</th>\n      <td>0.453611</td>\n    </tr>\n    <tr>\n      <th>4</th>\n      <td>0.434205</td>\n    </tr>\n    <tr>\n      <th>...</th>\n      <td>...</td>\n    </tr>\n    <tr>\n      <th>115</th>\n      <td>0.424653</td>\n    </tr>\n    <tr>\n      <th>116</th>\n      <td>0.424912</td>\n    </tr>\n    <tr>\n      <th>117</th>\n      <td>0.425265</td>\n    </tr>\n    <tr>\n      <th>118</th>\n      <td>0.425265</td>\n    </tr>\n    <tr>\n      <th>119</th>\n      <td>0.425265</td>\n    </tr>\n  </tbody>\n</table>\n<p>120 rows × 1 columns</p>\n</div>"
     },
     "execution_count": 20,
     "metadata": {},
     "output_type": "execute_result"
    }
   ],
   "source": [
    "test_y_df"
   ],
   "metadata": {
    "collapsed": false,
    "pycharm": {
     "name": "#%%\n"
    }
   }
  },
  {
   "cell_type": "code",
   "execution_count": null,
   "outputs": [],
   "source": [],
   "metadata": {
    "collapsed": false,
    "pycharm": {
     "name": "#%%\n"
    }
   }
  }
 ],
 "metadata": {
  "kernelspec": {
   "display_name": "Python 3",
   "language": "python",
   "name": "python3"
  },
  "language_info": {
   "codemirror_mode": {
    "name": "ipython",
    "version": 2
   },
   "file_extension": ".py",
   "mimetype": "text/x-python",
   "name": "python",
   "nbconvert_exporter": "python",
   "pygments_lexer": "ipython2",
   "version": "2.7.6"
  }
 },
 "nbformat": 4,
 "nbformat_minor": 0
}