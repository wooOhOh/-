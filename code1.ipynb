{
 "cells": [
  {
   "cell_type": "code",
   "execution_count": 21,
   "outputs": [],
   "source": [
    "# 导入所需的库\n",
    "import pandas as pd\n",
    "import numpy as np\n",
    "from sklearn.model_selection import train_test_split\n",
    "from sklearn.metrics import mean_absolute_error\n",
    "import xgboost as xgb\n",
    "import os\n",
    "from sklearn.metrics import mean_squared_error"
   ],
   "metadata": {
    "collapsed": false,
    "pycharm": {
     "name": "#%%\n"
    }
   }
  },
  {
   "cell_type": "code",
   "execution_count": 22,
   "outputs": [],
   "source": [
    "raw_train_data = pd.read_csv(r\"C:\\Users\\yubin\\Desktop\\综合课程设计3\\锂电池\\train_data.csv\")\n",
    "raw_test_data = pd.read_csv(r\"C:\\Users\\yubin\\Desktop\\综合课程设计3\\锂电池\\test_data.csv\")\n",
    "raw_dev_data = pd.read_csv(r\"C:\\Users\\yubin\\Desktop\\综合课程设计3\\锂电池\\dev_data.csv\")"
   ],
   "metadata": {
    "collapsed": false,
    "pycharm": {
     "name": "#%%\n"
    }
   }
  },
  {
   "cell_type": "code",
   "execution_count": 27,
   "outputs": [],
   "source": [
    "# 删除第一列\n",
    "train_data = raw_train_data.drop(raw_train_data.columns[0], axis=1)\n",
    "dev_data = raw_dev_data.drop(raw_dev_data.columns[0], axis=1)\n",
    "test_data = raw_test_data.drop(raw_test_data.columns[0], axis=1)\n",
    "# 将值为0的数替换为NaN\n",
    "train_data.replace(0, np.nan, inplace=True)\n",
    "\n",
    "#填补缺失值\n",
    "train_data['CCCT'] = train_data['CCCT'].fillna(train_data['CCCT'].mean())\n",
    "train_data['CVCT'] = train_data['CVCT'].fillna(train_data['CVCT'].mean())\n",
    "# 查找缺失值\n",
    "# missing_values = train_data.isnull().sum()\n",
    "# missing_values\n",
    "\n",
    "t_data = test_data[test_data['SoH'] == -100]\n",
    "\n",
    "# grouped_data = train_data.groupby(\"CS_Name\")\n",
    "# for group_name, group_data in grouped_data:\n",
    "#     print(\"Group Name:\", group_name)\n",
    "#     print(group_data)"
   ],
   "metadata": {
    "collapsed": false,
    "pycharm": {
     "name": "#%%\n"
    }
   }
  },
  {
   "cell_type": "code",
   "execution_count": 29,
   "outputs": [],
   "source": [
    "# 建立一个空的 DataFrame 来存储结果\n",
    "results_df = pd.DataFrame(columns=['cycle', 'CS_Name', 'result'])\n",
    "\n",
    "# 根据 CS_Name 列分组\n",
    "for group_name, group_data in train_data.groupby('CS_Name'):\n",
    "    # 划分特征和标签\n",
    "    X_group = group_data.drop(columns=['SoH'])\n",
    "    y_group = group_data['SoH']\n",
    "\n",
    "# 数据预处理\n",
    "# 可以根据需要进行特征选择、特征缩放、处理缺失值等操作\n",
    "\n",
    "# 划分特征和标签\n",
    "X_test = t_data.drop(columns=['SoH'])\n",
    "# y_test = t_data['SoH']\n",
    "\n",
    "# 建立空列表，用于存储每个组的模型\n",
    "models = {}\n",
    "\n",
    "# 根据 CS_Name 列分组\n",
    "for group_name, group_data in train_data.groupby('CS_Name'):\n",
    "    # 划分特征和标签\n",
    "    X_group = group_data.drop(columns=['SoH'])\n",
    "    X_group = X_group.drop(columns=['CS_Name'])\n",
    "    y_group = group_data['SoH']\n",
    "\n",
    "    # 建立XGB模型\n",
    "    model = xgb.XGBRegressor(\n",
    "        n_estimators=1000,  # 迭代次数\n",
    "        max_depth=5,  # 树的最大深度\n",
    "        learning_rate=0.1,  # 学习率\n",
    "        objective='reg:squarederror',  # 损失函数\n",
    "        random_state=42\n",
    "    )\n",
    "\n",
    "    # 训练模型\n",
    "    model.fit(X_group, y_group)\n",
    "\n",
    "    # 将训练好的模型存储到字典中\n",
    "    models[group_name] = model\n",
    "\n",
    "# 分组预测并计算RMSE\n",
    "rmse_list = []\n",
    "\n",
    "# 根据 CS_Name 列分组\n",
    "for group_name, group_data in X_test.groupby('CS_Name'):\n",
    "    # 获取对应组的模型\n",
    "    model = models[group_name]\n",
    "    group_data=group_data.drop(columns=['CS_Name'])\n",
    "    # 对每个组进行预测\n",
    "    y_pred_group = model.predict(group_data)\n",
    "\n",
    "\n",
    "    # 获取该组对应的 cycle 列\n",
    "    cycles = X_test[X_test['CS_Name'] == group_name]['cycle']\n",
    "\n",
    "    # 将结果添加到结果 DataFrame 中\n",
    "    group_results = pd.DataFrame({\n",
    "        'cycle': cycles,\n",
    "        'CS_Name': [group_name] * len(cycles),\n",
    "        'result': y_pred_group\n",
    "    })\n",
    "\n",
    "    results_df = pd.concat([results_df, group_results], ignore_index=True)\n",
    "\n",
    "# 根据 'Cycle' 和 'CS_Name' 列进行内连接\n",
    "merged_df = pd.merge(results_df, raw_test_data[[ 'Unnamed: 0','cycle', 'CS_Name']],\n",
    "                     on=['cycle', 'CS_Name'], how='inner')\n",
    "# 删除 merged_df 中的 'Unnamed: 0' 列，并插入到第一列位置\n",
    "unnamed_column = merged_df.pop('Unnamed: 0')\n",
    "merged_df.insert(0, unnamed_column.name, unnamed_column)\n",
    "# 将合并后的结果保存为新的 CSV 文件\n",
    "merged_df.to_csv('merged_file6.csv', index=False)\n",
    "#\n",
    "#     # 计算每个组的 RMSE\n",
    "#     rmse_group = np.sqrt(mean_squared_error(y_test.loc[group_data.index], y_pred_group))\n",
    "#\n",
    "#     # 打印每个组的 RMSE\n",
    "#     print(\"RMSE for group\", group_name, \":\", rmse_group)\n",
    "#\n",
    "#     # 添加到 RMSE 列表中\n",
    "#     rmse_list.append(rmse_group)\n",
    "#\n",
    "# # 计算总体 RMSE\n",
    "# overall_rmse = np.mean(rmse_list)\n",
    "# print(\"Overall Root Mean Square Error (RMSE):\", overall_rmse)"
   ],
   "metadata": {
    "collapsed": false,
    "pycharm": {
     "name": "#%%\n"
    }
   }
  },
  {
   "cell_type": "code",
   "execution_count": null,
   "outputs": [],
   "source": [
    "\n",
    "\n",
    "# 根据 CS_Name 列分组\n",
    "for group_name, group_data in X_test.groupby('CS_Name'):\n",
    "    # 获取对应组的模型\n",
    "    model = models[group_name]\n",
    "\n",
    "    # 删除 'CS_Name' 列\n",
    "    group_data = group_data.drop(columns=['CS_Name'])\n",
    "\n",
    "    # 对每个组进行预测\n",
    "    y_pred_group = model.predict(group_data)\n",
    "\n",
    "    # 获取该组对应的 cycle 列\n",
    "    cycles = X_test[X_test['CS_Name'] == group_name]['cycle']\n",
    "\n",
    "    # 将结果添加到结果 DataFrame 中\n",
    "    group_results = pd.DataFrame({\n",
    "        'Cycle': cycles,\n",
    "        'CS_Name': [group_name] * len(cycles),\n",
    "        'Result': y_pred_group\n",
    "    })\n",
    "\n",
    "    results_df = pd.concat([results_df, group_results], ignore_index=True)\n",
    "\n",
    "# 将结果保存到 CSV 文件中\n",
    "results_df.to_csv('group_predictions.csv', index=False)"
   ],
   "metadata": {
    "collapsed": false,
    "pycharm": {
     "name": "#%%\n"
    }
   }
  },
  {
   "cell_type": "code",
   "execution_count": 11,
   "outputs": [
    {
     "data": {
      "text/plain": "     Unnamed: 0   cycle  capacity         SoH  resistance         CCCT  \\\n0             0   765.0  0.577454    0.375810    0.114167  2654.376105   \n1             1   766.0  0.595849    0.421673    0.112446  2620.392385   \n2             2   767.0  0.605033    0.430860    0.110828  2605.829928   \n3             3   768.0  0.605038    0.430859    0.110928  2589.361623   \n4             4   769.0  0.605031    0.430855    0.112344  2693.484955   \n..          ...     ...       ...         ...         ...          ...   \n571         148  1010.0  0.366656 -100.000000    0.122835  1485.021686   \n572         149  1011.0  0.366665 -100.000000    0.123425  1400.679296   \n573         150  1012.0  0.357495 -100.000000    0.124349  1356.867640   \n574         151  1013.0  0.357480 -100.000000    0.123536  1327.852449   \n575         152  1014.0  0.357501 -100.000000    0.123058  1310.509117   \n\n            CVCT CS_Name  \n0    3390.160481  CS2_35  \n1    3403.597546  CS2_35  \n2    3408.253776  CS2_35  \n3            NaN  CS2_35  \n4    3589.658648  CS2_35  \n..           ...     ...  \n571  3244.713049  CS2_38  \n572  3255.944861  CS2_38  \n573  3243.913667  CS2_38  \n574  3242.275622  CS2_38  \n575  3240.585587  CS2_38  \n\n[576 rows x 8 columns]",
      "text/html": "<div>\n<style scoped>\n    .dataframe tbody tr th:only-of-type {\n        vertical-align: middle;\n    }\n\n    .dataframe tbody tr th {\n        vertical-align: top;\n    }\n\n    .dataframe thead th {\n        text-align: right;\n    }\n</style>\n<table border=\"1\" class=\"dataframe\">\n  <thead>\n    <tr style=\"text-align: right;\">\n      <th></th>\n      <th>Unnamed: 0</th>\n      <th>cycle</th>\n      <th>capacity</th>\n      <th>SoH</th>\n      <th>resistance</th>\n      <th>CCCT</th>\n      <th>CVCT</th>\n      <th>CS_Name</th>\n    </tr>\n  </thead>\n  <tbody>\n    <tr>\n      <th>0</th>\n      <td>0</td>\n      <td>765.0</td>\n      <td>0.577454</td>\n      <td>0.375810</td>\n      <td>0.114167</td>\n      <td>2654.376105</td>\n      <td>3390.160481</td>\n      <td>CS2_35</td>\n    </tr>\n    <tr>\n      <th>1</th>\n      <td>1</td>\n      <td>766.0</td>\n      <td>0.595849</td>\n      <td>0.421673</td>\n      <td>0.112446</td>\n      <td>2620.392385</td>\n      <td>3403.597546</td>\n      <td>CS2_35</td>\n    </tr>\n    <tr>\n      <th>2</th>\n      <td>2</td>\n      <td>767.0</td>\n      <td>0.605033</td>\n      <td>0.430860</td>\n      <td>0.110828</td>\n      <td>2605.829928</td>\n      <td>3408.253776</td>\n      <td>CS2_35</td>\n    </tr>\n    <tr>\n      <th>3</th>\n      <td>3</td>\n      <td>768.0</td>\n      <td>0.605038</td>\n      <td>0.430859</td>\n      <td>0.110928</td>\n      <td>2589.361623</td>\n      <td>NaN</td>\n      <td>CS2_35</td>\n    </tr>\n    <tr>\n      <th>4</th>\n      <td>4</td>\n      <td>769.0</td>\n      <td>0.605031</td>\n      <td>0.430855</td>\n      <td>0.112344</td>\n      <td>2693.484955</td>\n      <td>3589.658648</td>\n      <td>CS2_35</td>\n    </tr>\n    <tr>\n      <th>...</th>\n      <td>...</td>\n      <td>...</td>\n      <td>...</td>\n      <td>...</td>\n      <td>...</td>\n      <td>...</td>\n      <td>...</td>\n      <td>...</td>\n    </tr>\n    <tr>\n      <th>571</th>\n      <td>148</td>\n      <td>1010.0</td>\n      <td>0.366656</td>\n      <td>-100.000000</td>\n      <td>0.122835</td>\n      <td>1485.021686</td>\n      <td>3244.713049</td>\n      <td>CS2_38</td>\n    </tr>\n    <tr>\n      <th>572</th>\n      <td>149</td>\n      <td>1011.0</td>\n      <td>0.366665</td>\n      <td>-100.000000</td>\n      <td>0.123425</td>\n      <td>1400.679296</td>\n      <td>3255.944861</td>\n      <td>CS2_38</td>\n    </tr>\n    <tr>\n      <th>573</th>\n      <td>150</td>\n      <td>1012.0</td>\n      <td>0.357495</td>\n      <td>-100.000000</td>\n      <td>0.124349</td>\n      <td>1356.867640</td>\n      <td>3243.913667</td>\n      <td>CS2_38</td>\n    </tr>\n    <tr>\n      <th>574</th>\n      <td>151</td>\n      <td>1013.0</td>\n      <td>0.357480</td>\n      <td>-100.000000</td>\n      <td>0.123536</td>\n      <td>1327.852449</td>\n      <td>3242.275622</td>\n      <td>CS2_38</td>\n    </tr>\n    <tr>\n      <th>575</th>\n      <td>152</td>\n      <td>1014.0</td>\n      <td>0.357501</td>\n      <td>-100.000000</td>\n      <td>0.123058</td>\n      <td>1310.509117</td>\n      <td>3240.585587</td>\n      <td>CS2_38</td>\n    </tr>\n  </tbody>\n</table>\n<p>576 rows × 8 columns</p>\n</div>"
     },
     "execution_count": 11,
     "metadata": {},
     "output_type": "execute_result"
    }
   ],
   "source": [
    "raw_dev_data"
   ],
   "metadata": {
    "collapsed": false,
    "pycharm": {
     "name": "#%%\n"
    }
   }
  },
  {
   "cell_type": "code",
   "execution_count": 26,
   "outputs": [
    {
     "data": {
      "text/plain": "     cycle  capacity    SoH  resistance         CCCT         CVCT CS_Name\n105  735.0  0.660063 -100.0    0.106262  3226.117381  3189.414722  CS2_35\n106  736.0  0.650903 -100.0    0.107884  3201.211427  3193.823261  CS2_35\n107  737.0  0.641716 -100.0    0.109112  3210.305224  3161.853217  CS2_35\n108  738.0  0.641700 -100.0    0.109408  3258.180260  3037.543877  CS2_35\n109  739.0  0.632537 -100.0    0.108695  3217.883697  3142.181698  CS2_35\n..     ...       ...    ...         ...          ...          ...     ...\n570  857.0  0.614230 -100.0    0.111245  3002.888352  3206.960871  CS2_38\n571  858.0  0.605064 -100.0    0.111345  2961.199236  3206.492017  CS2_38\n572  859.0  0.605071 -100.0    0.110633  2923.872113  3221.273252  CS2_38\n573  860.0  0.605073 -100.0    0.110533  2907.340689  3222.194994  CS2_38\n574  861.0  0.605057 -100.0    0.110733  2890.028445  3225.569671  CS2_38\n\n[120 rows x 7 columns]",
      "text/html": "<div>\n<style scoped>\n    .dataframe tbody tr th:only-of-type {\n        vertical-align: middle;\n    }\n\n    .dataframe tbody tr th {\n        vertical-align: top;\n    }\n\n    .dataframe thead th {\n        text-align: right;\n    }\n</style>\n<table border=\"1\" class=\"dataframe\">\n  <thead>\n    <tr style=\"text-align: right;\">\n      <th></th>\n      <th>cycle</th>\n      <th>capacity</th>\n      <th>SoH</th>\n      <th>resistance</th>\n      <th>CCCT</th>\n      <th>CVCT</th>\n      <th>CS_Name</th>\n    </tr>\n  </thead>\n  <tbody>\n    <tr>\n      <th>105</th>\n      <td>735.0</td>\n      <td>0.660063</td>\n      <td>-100.0</td>\n      <td>0.106262</td>\n      <td>3226.117381</td>\n      <td>3189.414722</td>\n      <td>CS2_35</td>\n    </tr>\n    <tr>\n      <th>106</th>\n      <td>736.0</td>\n      <td>0.650903</td>\n      <td>-100.0</td>\n      <td>0.107884</td>\n      <td>3201.211427</td>\n      <td>3193.823261</td>\n      <td>CS2_35</td>\n    </tr>\n    <tr>\n      <th>107</th>\n      <td>737.0</td>\n      <td>0.641716</td>\n      <td>-100.0</td>\n      <td>0.109112</td>\n      <td>3210.305224</td>\n      <td>3161.853217</td>\n      <td>CS2_35</td>\n    </tr>\n    <tr>\n      <th>108</th>\n      <td>738.0</td>\n      <td>0.641700</td>\n      <td>-100.0</td>\n      <td>0.109408</td>\n      <td>3258.180260</td>\n      <td>3037.543877</td>\n      <td>CS2_35</td>\n    </tr>\n    <tr>\n      <th>109</th>\n      <td>739.0</td>\n      <td>0.632537</td>\n      <td>-100.0</td>\n      <td>0.108695</td>\n      <td>3217.883697</td>\n      <td>3142.181698</td>\n      <td>CS2_35</td>\n    </tr>\n    <tr>\n      <th>...</th>\n      <td>...</td>\n      <td>...</td>\n      <td>...</td>\n      <td>...</td>\n      <td>...</td>\n      <td>...</td>\n      <td>...</td>\n    </tr>\n    <tr>\n      <th>570</th>\n      <td>857.0</td>\n      <td>0.614230</td>\n      <td>-100.0</td>\n      <td>0.111245</td>\n      <td>3002.888352</td>\n      <td>3206.960871</td>\n      <td>CS2_38</td>\n    </tr>\n    <tr>\n      <th>571</th>\n      <td>858.0</td>\n      <td>0.605064</td>\n      <td>-100.0</td>\n      <td>0.111345</td>\n      <td>2961.199236</td>\n      <td>3206.492017</td>\n      <td>CS2_38</td>\n    </tr>\n    <tr>\n      <th>572</th>\n      <td>859.0</td>\n      <td>0.605071</td>\n      <td>-100.0</td>\n      <td>0.110633</td>\n      <td>2923.872113</td>\n      <td>3221.273252</td>\n      <td>CS2_38</td>\n    </tr>\n    <tr>\n      <th>573</th>\n      <td>860.0</td>\n      <td>0.605073</td>\n      <td>-100.0</td>\n      <td>0.110533</td>\n      <td>2907.340689</td>\n      <td>3222.194994</td>\n      <td>CS2_38</td>\n    </tr>\n    <tr>\n      <th>574</th>\n      <td>861.0</td>\n      <td>0.605057</td>\n      <td>-100.0</td>\n      <td>0.110733</td>\n      <td>2890.028445</td>\n      <td>3225.569671</td>\n      <td>CS2_38</td>\n    </tr>\n  </tbody>\n</table>\n<p>120 rows × 7 columns</p>\n</div>"
     },
     "execution_count": 26,
     "metadata": {},
     "output_type": "execute_result"
    }
   ],
   "source": [
    "t_data"
   ],
   "metadata": {
    "collapsed": false,
    "pycharm": {
     "name": "#%%\n"
    }
   }
  },
  {
   "cell_type": "code",
   "execution_count": null,
   "outputs": [],
   "source": [],
   "metadata": {
    "collapsed": false,
    "pycharm": {
     "name": "#%%\n"
    }
   }
  }
 ],
 "metadata": {
  "kernelspec": {
   "display_name": "Python 3",
   "language": "python",
   "name": "python3"
  },
  "language_info": {
   "codemirror_mode": {
    "name": "ipython",
    "version": 2
   },
   "file_extension": ".py",
   "mimetype": "text/x-python",
   "name": "python",
   "nbconvert_exporter": "python",
   "pygments_lexer": "ipython2",
   "version": "2.7.6"
  }
 },
 "nbformat": 4,
 "nbformat_minor": 0
}