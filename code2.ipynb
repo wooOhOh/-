{
 "cells": [
  {
   "cell_type": "code",
   "execution_count": 1,
   "metadata": {
    "collapsed": true,
    "pycharm": {
     "name": "#%%\n"
    }
   },
   "outputs": [],
   "source": [
    "# 导入所需的库\n",
    "import pandas as pd\n",
    "import numpy as np\n",
    "from sklearn.model_selection import train_test_split\n",
    "from sklearn.metrics import mean_absolute_error\n",
    "import xgboost as xgb\n",
    "import os\n",
    "from sklearn.metrics import mean_squared_error"
   ]
  },
  {
   "cell_type": "code",
   "execution_count": 2,
   "outputs": [],
   "source": [
    "raw_train_data = pd.read_csv(r\"C:\\Users\\yubin\\Desktop\\综合课程设计3\\锂电池\\train_data.csv\")\n",
    "raw_test_data = pd.read_csv(r\"C:\\Users\\yubin\\Desktop\\综合课程设计3\\锂电池\\test_data.csv\")\n",
    "raw_dev_data = pd.read_csv(r\"C:\\Users\\yubin\\Desktop\\综合课程设计3\\锂电池\\dev_data.csv\")"
   ],
   "metadata": {
    "collapsed": false,
    "pycharm": {
     "name": "#%%\n"
    }
   }
  },
  {
   "cell_type": "code",
   "execution_count": 26,
   "outputs": [],
   "source": [
    "# 删除第一列\n",
    "train_data = raw_train_data.drop(raw_train_data.columns[0], axis=1)\n",
    "dev_data = raw_dev_data.drop(raw_dev_data.columns[0], axis=1)\n",
    "test_data = raw_test_data.drop(raw_test_data.columns[0], axis=1)\n",
    "# 将值为0的数替换为NaN\n",
    "train_data.replace(0, np.nan, inplace=True)\n",
    "\n",
    "#填补缺失值\n",
    "train_data['CCCT'] = train_data['CCCT'].fillna(train_data['CCCT'].mean())\n",
    "train_data['CVCT'] = train_data['CVCT'].fillna(train_data['CVCT'].mean())\n",
    "\n",
    "t_data = test_data[test_data['SoH'] == -100]\n"
   ],
   "metadata": {
    "collapsed": false,
    "pycharm": {
     "name": "#%%\n"
    }
   }
  },
  {
   "cell_type": "code",
   "execution_count": 37,
   "outputs": [],
   "source": [
    "# 建立一个空的 DataFrame 来存储结果\n",
    "results_df = pd.DataFrame(columns=['cycle', 'CS_Name', 'result'])\n",
    "\n",
    "# 根据 CS_Name 列分组\n",
    "# for group_name, group_data in train_data.groupby('CS_Name'):\n",
    "#     # 划分特征和标签\n",
    "#     X_group = group_data.drop(columns=['SoH'])\n",
    "#     y_group = group_data['SoH']\n",
    "\n",
    "# 数据预处理\n",
    "# 可以根据需要进行特征选择、特征缩放、处理缺失值等操作\n",
    "\n",
    "# 划分特征和标签\n",
    "X_test = t_data.drop(columns=['SoH'])\n",
    "# y_test = t_data['SoH']\n",
    "\n",
    "# 建立空列表，用于存储每个组的模型\n",
    "models = {}\n",
    "\n",
    "# 根据 CS_Name 列分组\n",
    "for group_name, group_data in train_data.groupby('CS_Name'):\n",
    "    # 划分特征和标签\n",
    "    y_group = group_data['SoH']\n",
    "    group_data = group_data.drop(columns=['CS_Name'])\n",
    "    group_data = group_data.drop(columns=['cycle'])\n",
    "    group_data = group_data.drop(columns=['SoH'])\n",
    "\n",
    "\n",
    "    # 建立XGB模型\n",
    "    model = xgb.XGBRegressor(\n",
    "        n_estimators=1000,  # 迭代次数\n",
    "        max_depth=5,  # 树的最大深度\n",
    "        learning_rate=0.1,  # 学习率\n",
    "        objective='reg:squarederror',  # 损失函数\n",
    "        random_state=42\n",
    "    )\n",
    "\n",
    "    # 训练模型\n",
    "    model.fit(group_data, y_group)\n",
    "\n",
    "    # 将训练好的模型存储到字典中\n",
    "    models[group_name] = model\n",
    "\n",
    "# 分组预测并计算RMSE\n",
    "rmse_list = []\n",
    "\n",
    "# 根据 CS_Name 列分组\n",
    "for group_name, group_data_ in X_test.groupby('CS_Name'):\n",
    "    # 获取对应组的模型\n",
    "    model = models[group_name]\n",
    "    group_data_=group_data_.drop(columns=['CS_Name'])\n",
    "    group_data_=group_data_.drop(columns=['cycle'])\n",
    "    # 对每个组进行预测\n",
    "    y_pred_group = model.predict(group_data_)\n",
    "\n",
    "\n",
    "    # 获取该组对应的 cycle 列\n",
    "    cycles = X_test[X_test['CS_Name'] == group_name]['cycle']\n",
    "\n",
    "    # 将结果添加到结果 DataFrame 中\n",
    "    group_results = pd.DataFrame({\n",
    "        'cycle': cycles,\n",
    "        'CS_Name': [group_name] * len(cycles),\n",
    "        'result': y_pred_group\n",
    "    })\n",
    "\n",
    "    results_df = pd.concat([results_df, group_results], ignore_index=True)\n",
    "\n",
    "# 根据 'Cycle' 和 'CS_Name' 列进行内连接\n",
    "merged_df = pd.merge(results_df, raw_test_data[[ 'Unnamed: 0','cycle', 'CS_Name']],\n",
    "                     on=['cycle', 'CS_Name'], how='inner')\n",
    "# 删除 merged_df 中的 'Unnamed: 0' 列，并插入到第一列位置\n",
    "unnamed_column = merged_df.pop('Unnamed: 0')\n",
    "merged_df.insert(0, unnamed_column.name, unnamed_column)\n",
    "# 将合并后的结果保存为新的 CSV 文件\n",
    "merged_df.to_csv('merged_file7.csv', index=False)\n"
   ],
   "metadata": {
    "collapsed": false,
    "pycharm": {
     "name": "#%%\n"
    }
   }
  },
  {
   "cell_type": "code",
   "execution_count": 34,
   "outputs": [],
   "source": [],
   "metadata": {
    "collapsed": false,
    "pycharm": {
     "name": "#%%\n"
    }
   }
  },
  {
   "cell_type": "code",
   "execution_count": 35,
   "outputs": [
    {
     "data": {
      "text/plain": "     cycle CS_Name    result  Cycle    Result\n0    735.0  CS2_35  0.644878    NaN       NaN\n1    736.0  CS2_35  0.644878    NaN       NaN\n2    737.0  CS2_35  0.644878    NaN       NaN\n3    738.0  CS2_35  0.644878    NaN       NaN\n4    739.0  CS2_35  0.644878    NaN       NaN\n..     ...     ...       ...    ...       ...\n595    NaN  CS2_38       NaN  857.0  0.648464\n596    NaN  CS2_38       NaN  858.0  0.648464\n597    NaN  CS2_38       NaN  859.0  0.648464\n598    NaN  CS2_38       NaN  860.0  0.648464\n599    NaN  CS2_38       NaN  861.0  0.648464\n\n[600 rows x 5 columns]",
      "text/html": "<div>\n<style scoped>\n    .dataframe tbody tr th:only-of-type {\n        vertical-align: middle;\n    }\n\n    .dataframe tbody tr th {\n        vertical-align: top;\n    }\n\n    .dataframe thead th {\n        text-align: right;\n    }\n</style>\n<table border=\"1\" class=\"dataframe\">\n  <thead>\n    <tr style=\"text-align: right;\">\n      <th></th>\n      <th>cycle</th>\n      <th>CS_Name</th>\n      <th>result</th>\n      <th>Cycle</th>\n      <th>Result</th>\n    </tr>\n  </thead>\n  <tbody>\n    <tr>\n      <th>0</th>\n      <td>735.0</td>\n      <td>CS2_35</td>\n      <td>0.644878</td>\n      <td>NaN</td>\n      <td>NaN</td>\n    </tr>\n    <tr>\n      <th>1</th>\n      <td>736.0</td>\n      <td>CS2_35</td>\n      <td>0.644878</td>\n      <td>NaN</td>\n      <td>NaN</td>\n    </tr>\n    <tr>\n      <th>2</th>\n      <td>737.0</td>\n      <td>CS2_35</td>\n      <td>0.644878</td>\n      <td>NaN</td>\n      <td>NaN</td>\n    </tr>\n    <tr>\n      <th>3</th>\n      <td>738.0</td>\n      <td>CS2_35</td>\n      <td>0.644878</td>\n      <td>NaN</td>\n      <td>NaN</td>\n    </tr>\n    <tr>\n      <th>4</th>\n      <td>739.0</td>\n      <td>CS2_35</td>\n      <td>0.644878</td>\n      <td>NaN</td>\n      <td>NaN</td>\n    </tr>\n    <tr>\n      <th>...</th>\n      <td>...</td>\n      <td>...</td>\n      <td>...</td>\n      <td>...</td>\n      <td>...</td>\n    </tr>\n    <tr>\n      <th>595</th>\n      <td>NaN</td>\n      <td>CS2_38</td>\n      <td>NaN</td>\n      <td>857.0</td>\n      <td>0.648464</td>\n    </tr>\n    <tr>\n      <th>596</th>\n      <td>NaN</td>\n      <td>CS2_38</td>\n      <td>NaN</td>\n      <td>858.0</td>\n      <td>0.648464</td>\n    </tr>\n    <tr>\n      <th>597</th>\n      <td>NaN</td>\n      <td>CS2_38</td>\n      <td>NaN</td>\n      <td>859.0</td>\n      <td>0.648464</td>\n    </tr>\n    <tr>\n      <th>598</th>\n      <td>NaN</td>\n      <td>CS2_38</td>\n      <td>NaN</td>\n      <td>860.0</td>\n      <td>0.648464</td>\n    </tr>\n    <tr>\n      <th>599</th>\n      <td>NaN</td>\n      <td>CS2_38</td>\n      <td>NaN</td>\n      <td>861.0</td>\n      <td>0.648464</td>\n    </tr>\n  </tbody>\n</table>\n<p>600 rows × 5 columns</p>\n</div>"
     },
     "execution_count": 35,
     "metadata": {},
     "output_type": "execute_result"
    }
   ],
   "source": [],
   "metadata": {
    "collapsed": false,
    "pycharm": {
     "name": "#%%\n"
    }
   }
  },
  {
   "cell_type": "code",
   "execution_count": 36,
   "outputs": [
    {
     "data": {
      "text/plain": "     Cycle CS_Name    Result\n545  832.0  CS2_38  0.648464\n546  833.0  CS2_38  0.648676\n547  834.0  CS2_38  0.647977\n548  835.0  CS2_38  0.648464\n549  836.0  CS2_38  0.648464\n550  837.0  CS2_38  0.648464\n551  838.0  CS2_38  0.648464\n552  839.0  CS2_38  0.648464\n553  840.0  CS2_38  0.648464\n554  841.0  CS2_38  0.648464\n555  842.0  CS2_38  0.648464\n556  843.0  CS2_38  0.648464\n557  844.0  CS2_38  0.648464\n558  845.0  CS2_38  0.648464\n559  846.0  CS2_38  0.648464\n560  847.0  CS2_38  0.648464\n561  848.0  CS2_38  0.648464\n562  849.0  CS2_38  0.648464\n563  850.0  CS2_38  0.648464\n564  851.0  CS2_38  0.648464\n565  852.0  CS2_38  0.648464\n566  853.0  CS2_38  0.648464\n567  854.0  CS2_38  0.648464\n568  855.0  CS2_38  0.648464\n569  856.0  CS2_38  0.648464\n570  857.0  CS2_38  0.648464\n571  858.0  CS2_38  0.648464\n572  859.0  CS2_38  0.648464\n573  860.0  CS2_38  0.648464\n574  861.0  CS2_38  0.648464",
      "text/html": "<div>\n<style scoped>\n    .dataframe tbody tr th:only-of-type {\n        vertical-align: middle;\n    }\n\n    .dataframe tbody tr th {\n        vertical-align: top;\n    }\n\n    .dataframe thead th {\n        text-align: right;\n    }\n</style>\n<table border=\"1\" class=\"dataframe\">\n  <thead>\n    <tr style=\"text-align: right;\">\n      <th></th>\n      <th>Cycle</th>\n      <th>CS_Name</th>\n      <th>Result</th>\n    </tr>\n  </thead>\n  <tbody>\n    <tr>\n      <th>545</th>\n      <td>832.0</td>\n      <td>CS2_38</td>\n      <td>0.648464</td>\n    </tr>\n    <tr>\n      <th>546</th>\n      <td>833.0</td>\n      <td>CS2_38</td>\n      <td>0.648676</td>\n    </tr>\n    <tr>\n      <th>547</th>\n      <td>834.0</td>\n      <td>CS2_38</td>\n      <td>0.647977</td>\n    </tr>\n    <tr>\n      <th>548</th>\n      <td>835.0</td>\n      <td>CS2_38</td>\n      <td>0.648464</td>\n    </tr>\n    <tr>\n      <th>549</th>\n      <td>836.0</td>\n      <td>CS2_38</td>\n      <td>0.648464</td>\n    </tr>\n    <tr>\n      <th>550</th>\n      <td>837.0</td>\n      <td>CS2_38</td>\n      <td>0.648464</td>\n    </tr>\n    <tr>\n      <th>551</th>\n      <td>838.0</td>\n      <td>CS2_38</td>\n      <td>0.648464</td>\n    </tr>\n    <tr>\n      <th>552</th>\n      <td>839.0</td>\n      <td>CS2_38</td>\n      <td>0.648464</td>\n    </tr>\n    <tr>\n      <th>553</th>\n      <td>840.0</td>\n      <td>CS2_38</td>\n      <td>0.648464</td>\n    </tr>\n    <tr>\n      <th>554</th>\n      <td>841.0</td>\n      <td>CS2_38</td>\n      <td>0.648464</td>\n    </tr>\n    <tr>\n      <th>555</th>\n      <td>842.0</td>\n      <td>CS2_38</td>\n      <td>0.648464</td>\n    </tr>\n    <tr>\n      <th>556</th>\n      <td>843.0</td>\n      <td>CS2_38</td>\n      <td>0.648464</td>\n    </tr>\n    <tr>\n      <th>557</th>\n      <td>844.0</td>\n      <td>CS2_38</td>\n      <td>0.648464</td>\n    </tr>\n    <tr>\n      <th>558</th>\n      <td>845.0</td>\n      <td>CS2_38</td>\n      <td>0.648464</td>\n    </tr>\n    <tr>\n      <th>559</th>\n      <td>846.0</td>\n      <td>CS2_38</td>\n      <td>0.648464</td>\n    </tr>\n    <tr>\n      <th>560</th>\n      <td>847.0</td>\n      <td>CS2_38</td>\n      <td>0.648464</td>\n    </tr>\n    <tr>\n      <th>561</th>\n      <td>848.0</td>\n      <td>CS2_38</td>\n      <td>0.648464</td>\n    </tr>\n    <tr>\n      <th>562</th>\n      <td>849.0</td>\n      <td>CS2_38</td>\n      <td>0.648464</td>\n    </tr>\n    <tr>\n      <th>563</th>\n      <td>850.0</td>\n      <td>CS2_38</td>\n      <td>0.648464</td>\n    </tr>\n    <tr>\n      <th>564</th>\n      <td>851.0</td>\n      <td>CS2_38</td>\n      <td>0.648464</td>\n    </tr>\n    <tr>\n      <th>565</th>\n      <td>852.0</td>\n      <td>CS2_38</td>\n      <td>0.648464</td>\n    </tr>\n    <tr>\n      <th>566</th>\n      <td>853.0</td>\n      <td>CS2_38</td>\n      <td>0.648464</td>\n    </tr>\n    <tr>\n      <th>567</th>\n      <td>854.0</td>\n      <td>CS2_38</td>\n      <td>0.648464</td>\n    </tr>\n    <tr>\n      <th>568</th>\n      <td>855.0</td>\n      <td>CS2_38</td>\n      <td>0.648464</td>\n    </tr>\n    <tr>\n      <th>569</th>\n      <td>856.0</td>\n      <td>CS2_38</td>\n      <td>0.648464</td>\n    </tr>\n    <tr>\n      <th>570</th>\n      <td>857.0</td>\n      <td>CS2_38</td>\n      <td>0.648464</td>\n    </tr>\n    <tr>\n      <th>571</th>\n      <td>858.0</td>\n      <td>CS2_38</td>\n      <td>0.648464</td>\n    </tr>\n    <tr>\n      <th>572</th>\n      <td>859.0</td>\n      <td>CS2_38</td>\n      <td>0.648464</td>\n    </tr>\n    <tr>\n      <th>573</th>\n      <td>860.0</td>\n      <td>CS2_38</td>\n      <td>0.648464</td>\n    </tr>\n    <tr>\n      <th>574</th>\n      <td>861.0</td>\n      <td>CS2_38</td>\n      <td>0.648464</td>\n    </tr>\n  </tbody>\n</table>\n</div>"
     },
     "execution_count": 36,
     "metadata": {},
     "output_type": "execute_result"
    }
   ],
   "source": [],
   "metadata": {
    "collapsed": false,
    "pycharm": {
     "name": "#%%\n"
    }
   }
  },
  {
   "cell_type": "code",
   "execution_count": 8,
   "outputs": [
    {
     "data": {
      "text/plain": "0      0.825175\n1      0.815965\n2      0.815977\n3      0.825194\n4      0.806900\n         ...   \n624    0.641868\n625    0.632691\n626    0.632718\n627    0.632666\n628    0.623486\nName: SoH, Length: 629, dtype: float64"
     },
     "execution_count": 8,
     "metadata": {},
     "output_type": "execute_result"
    }
   ],
   "source": [],
   "metadata": {
    "collapsed": false,
    "pycharm": {
     "name": "#%%\n"
    }
   }
  },
  {
   "cell_type": "code",
   "execution_count": 9,
   "outputs": [
    {
     "data": {
      "text/plain": "      capacity  resistance         CCCT         CVCT\n1972  1.126964    0.102498  6585.419024  2359.168730\n1973  1.126642    0.104031  6572.075291  2361.918249\n1974  1.126019    0.104654  6566.714960  2362.605960\n1975  1.124355    0.104031  6560.136514  2381.011933\n1976  1.123409    0.101592  6612.742838  2194.316027\n...        ...         ...          ...          ...\n2676  0.824944    0.102405  4585.724740  2746.025763\n2677  0.824955    0.099967  4600.053278  2731.026463\n2678  0.824958    0.100148  4540.941728  2865.785299\n2679  0.824926    0.100057  4459.971291  2847.144702\n2680  0.833618    0.099967  4461.158827  2850.238650\n\n[709 rows x 4 columns]",
      "text/html": "<div>\n<style scoped>\n    .dataframe tbody tr th:only-of-type {\n        vertical-align: middle;\n    }\n\n    .dataframe tbody tr th {\n        vertical-align: top;\n    }\n\n    .dataframe thead th {\n        text-align: right;\n    }\n</style>\n<table border=\"1\" class=\"dataframe\">\n  <thead>\n    <tr style=\"text-align: right;\">\n      <th></th>\n      <th>capacity</th>\n      <th>resistance</th>\n      <th>CCCT</th>\n      <th>CVCT</th>\n    </tr>\n  </thead>\n  <tbody>\n    <tr>\n      <th>1972</th>\n      <td>1.126964</td>\n      <td>0.102498</td>\n      <td>6585.419024</td>\n      <td>2359.168730</td>\n    </tr>\n    <tr>\n      <th>1973</th>\n      <td>1.126642</td>\n      <td>0.104031</td>\n      <td>6572.075291</td>\n      <td>2361.918249</td>\n    </tr>\n    <tr>\n      <th>1974</th>\n      <td>1.126019</td>\n      <td>0.104654</td>\n      <td>6566.714960</td>\n      <td>2362.605960</td>\n    </tr>\n    <tr>\n      <th>1975</th>\n      <td>1.124355</td>\n      <td>0.104031</td>\n      <td>6560.136514</td>\n      <td>2381.011933</td>\n    </tr>\n    <tr>\n      <th>1976</th>\n      <td>1.123409</td>\n      <td>0.101592</td>\n      <td>6612.742838</td>\n      <td>2194.316027</td>\n    </tr>\n    <tr>\n      <th>...</th>\n      <td>...</td>\n      <td>...</td>\n      <td>...</td>\n      <td>...</td>\n    </tr>\n    <tr>\n      <th>2676</th>\n      <td>0.824944</td>\n      <td>0.102405</td>\n      <td>4585.724740</td>\n      <td>2746.025763</td>\n    </tr>\n    <tr>\n      <th>2677</th>\n      <td>0.824955</td>\n      <td>0.099967</td>\n      <td>4600.053278</td>\n      <td>2731.026463</td>\n    </tr>\n    <tr>\n      <th>2678</th>\n      <td>0.824958</td>\n      <td>0.100148</td>\n      <td>4540.941728</td>\n      <td>2865.785299</td>\n    </tr>\n    <tr>\n      <th>2679</th>\n      <td>0.824926</td>\n      <td>0.100057</td>\n      <td>4459.971291</td>\n      <td>2847.144702</td>\n    </tr>\n    <tr>\n      <th>2680</th>\n      <td>0.833618</td>\n      <td>0.099967</td>\n      <td>4461.158827</td>\n      <td>2850.238650</td>\n    </tr>\n  </tbody>\n</table>\n<p>709 rows × 4 columns</p>\n</div>"
     },
     "execution_count": 9,
     "metadata": {},
     "output_type": "execute_result"
    }
   ],
   "source": [],
   "metadata": {
    "collapsed": false,
    "pycharm": {
     "name": "#%%\n"
    }
   }
  },
  {
   "cell_type": "code",
   "execution_count": null,
   "outputs": [],
   "source": [],
   "metadata": {
    "collapsed": false,
    "pycharm": {
     "name": "#%%\n"
    }
   }
  }
 ],
 "metadata": {
  "kernelspec": {
   "display_name": "Python 3",
   "language": "python",
   "name": "python3"
  },
  "language_info": {
   "codemirror_mode": {
    "name": "ipython",
    "version": 2
   },
   "file_extension": ".py",
   "mimetype": "text/x-python",
   "name": "python",
   "nbconvert_exporter": "python",
   "pygments_lexer": "ipython2",
   "version": "2.7.6"
  }
 },
 "nbformat": 4,
 "nbformat_minor": 0
}