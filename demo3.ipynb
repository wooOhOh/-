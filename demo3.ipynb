{
 "cells": [
  {
   "cell_type": "code",
   "execution_count": 1,
   "metadata": {
    "collapsed": true,
    "pycharm": {
     "name": "#%%\n"
    }
   },
   "outputs": [],
   "source": [
    "# 导入所需的库\n",
    "import pandas as pd\n",
    "import numpy as np\n",
    "from sklearn.model_selection import train_test_split\n",
    "from sklearn.metrics import mean_absolute_error\n",
    "import xgboost as xgb\n",
    "import os\n",
    "from sklearn.metrics import mean_squared_error"
   ]
  },
  {
   "cell_type": "code",
   "execution_count": 2,
   "outputs": [],
   "source": [
    "raw_train_data = pd.read_csv(r\"C:\\Users\\yubin\\Desktop\\综合课程设计3\\锂电池\\train_data.csv\")\n",
    "raw_test_data = pd.read_csv(r\"C:\\Users\\yubin\\Desktop\\综合课程设计3\\锂电池\\test_data.csv\")\n",
    "raw_dev_data = pd.read_csv(r\"C:\\Users\\yubin\\Desktop\\综合课程设计3\\锂电池\\dev_data.csv\")"
   ],
   "metadata": {
    "collapsed": false,
    "pycharm": {
     "name": "#%%\n"
    }
   }
  },
  {
   "cell_type": "code",
   "execution_count": 3,
   "outputs": [],
   "source": [
    "# 删除第一列\n",
    "train_data = raw_train_data.drop(raw_train_data.columns[0], axis=1)\n",
    "dev_data = raw_dev_data.drop(raw_dev_data.columns[0], axis=1)\n",
    "test_data = raw_test_data.drop(raw_test_data.columns[0], axis=1)\n",
    "t = test_data[test_data['SoH'] != -100]\n",
    "d = dev_data[dev_data['SoH'] != -100]\n",
    "combined_df = pd.concat([t, d])\n",
    "train_data=pd.concat([train_data,combined_df])\n",
    "# 将值为0的数替换为NaN\n",
    "train_data.replace(0, np.nan, inplace=True)\n",
    "#训练集y\n",
    "train_y=train_data['SoH']\n",
    "#填补缺失值\n",
    "train_data['CCCT'] = train_data['CCCT'].fillna(train_data['CCCT'].mean())\n",
    "train_data['CVCT'] = train_data['CVCT'].fillna(train_data['CVCT'].mean())\n",
    "train_data=train_data.drop(columns=['SoH'])\n",
    "train_data=train_data.drop(columns=['CS_Name'])\n",
    "# train_data['log_cycle_mul_capacity'] = train_data['log_cycle'] * train_data['log_cycle']\n",
    "\n",
    "# # 选择要循环相乘的列\n",
    "# col_to_multiply = 'log_cycle'\n",
    "# # 获取除了 col_to_multiply 列之外的所有列\n",
    "# cols_to_multiply_with = train_data.drop(col_to_multiply, axis=1).columns\n",
    "# # 循环相乘\n",
    "# for col in cols_to_multiply_with:\n",
    "#     new_col_name = f\"{col_to_multiply}_mul_{col}\"\n",
    "#     train_data[new_col_name] = train_data[col_to_multiply] * train_data[col]\n",
    "\n",
    "# 选择要循环相乘的列\n",
    "col_to_multiply = 'cycle'\n",
    "# 获取除了 col_to_multiply 列之外的所有列\n",
    "cols_to_multiply_with = train_data.drop(col_to_multiply, axis=1).columns\n",
    "# 循环相乘\n",
    "for col in cols_to_multiply_with:\n",
    "    new_col_name = f\"{col_to_multiply}_mul_{col}\"\n",
    "    train_data[new_col_name] = train_data[col_to_multiply] * train_data[col]\n",
    "train_data['log_cycle'] = np.log(train_data['cycle'])"
   ],
   "metadata": {
    "collapsed": false,
    "pycharm": {
     "name": "#%%\n"
    }
   }
  },
  {
   "cell_type": "code",
   "execution_count": 4,
   "outputs": [
    {
     "name": "stderr",
     "output_type": "stream",
     "text": [
      "C:\\Users\\yubin\\AppData\\Local\\Temp\\ipykernel_10872\\2471385484.py:3: SettingWithCopyWarning: \n",
      "A value is trying to be set on a copy of a slice from a DataFrame.\n",
      "Try using .loc[row_indexer,col_indexer] = value instead\n",
      "\n",
      "See the caveats in the documentation: https://pandas.pydata.org/pandas-docs/stable/user_guide/indexing.html#returning-a-view-versus-a-copy\n",
      "  t_data['CCCT'] = t_data['CCCT'].fillna(t_data['CCCT'].mean())\n",
      "C:\\Users\\yubin\\AppData\\Local\\Temp\\ipykernel_10872\\2471385484.py:4: SettingWithCopyWarning: \n",
      "A value is trying to be set on a copy of a slice from a DataFrame.\n",
      "Try using .loc[row_indexer,col_indexer] = value instead\n",
      "\n",
      "See the caveats in the documentation: https://pandas.pydata.org/pandas-docs/stable/user_guide/indexing.html#returning-a-view-versus-a-copy\n",
      "  t_data['CVCT'] = t_data['CVCT'].fillna(t_data['CVCT'].mean())\n"
     ]
    }
   ],
   "source": [
    "t_data = test_data[test_data['SoH'] == -100]\n",
    "#填补缺失值\n",
    "t_data['CCCT'] = t_data['CCCT'].fillna(t_data['CCCT'].mean())\n",
    "t_data['CVCT'] = t_data['CVCT'].fillna(t_data['CVCT'].mean())\n",
    "t_data=t_data.drop(columns=['SoH'])\n",
    "t_data=t_data.drop(columns=['CS_Name'])\n",
    "\n",
    "# 选择要循环相乘的列\n",
    "col_to_multiply = 'cycle'\n",
    "# 获取除了 col_to_multiply 列之外的所有列\n",
    "cols_to_multiply_with = t_data.drop(col_to_multiply, axis=1).columns\n",
    "# 循环相乘\n",
    "for col in cols_to_multiply_with:\n",
    "    new_col_name = f\"{col_to_multiply}_mul_{col}\"\n",
    "    t_data[new_col_name] = t_data[col_to_multiply] * t_data[col]\n",
    "t_data['log_cycle'] = np.log(t_data['cycle'])"
   ],
   "metadata": {
    "collapsed": false,
    "pycharm": {
     "name": "#%%\n"
    }
   }
  },
  {
   "cell_type": "code",
   "execution_count": 1,
   "outputs": [
    {
     "ename": "NameError",
     "evalue": "name 'xgb' is not defined",
     "output_type": "error",
     "traceback": [
      "\u001B[1;31m---------------------------------------------------------------------------\u001B[0m",
      "\u001B[1;31mNameError\u001B[0m                                 Traceback (most recent call last)",
      "\u001B[1;32m~\\AppData\\Local\\Temp\\ipykernel_3528\\2521799921.py\u001B[0m in \u001B[0;36m<module>\u001B[1;34m\u001B[0m\n\u001B[0;32m      1\u001B[0m \u001B[1;31m# 建立XGB模型\u001B[0m\u001B[1;33m\u001B[0m\u001B[1;33m\u001B[0m\u001B[0m\n\u001B[1;32m----> 2\u001B[1;33m model = xgb.XGBRegressor(\n\u001B[0m\u001B[0;32m      3\u001B[0m \u001B[0mn_estimators\u001B[0m\u001B[1;33m=\u001B[0m\u001B[1;36m1000\u001B[0m\u001B[1;33m,\u001B[0m  \u001B[1;31m# 迭代次数\u001B[0m\u001B[1;33m\u001B[0m\u001B[1;33m\u001B[0m\u001B[0m\n\u001B[0;32m      4\u001B[0m \u001B[0mlearning_rate\u001B[0m\u001B[1;33m=\u001B[0m\u001B[1;36m0.01\u001B[0m\u001B[1;33m,\u001B[0m  \u001B[1;31m# 学习率\u001B[0m\u001B[1;33m\u001B[0m\u001B[1;33m\u001B[0m\u001B[0m\n\u001B[0;32m      5\u001B[0m \u001B[0mobjective\u001B[0m\u001B[1;33m=\u001B[0m\u001B[1;34m'reg:squarederror'\u001B[0m\u001B[1;33m,\u001B[0m  \u001B[1;31m# 损失函数\u001B[0m\u001B[1;33m\u001B[0m\u001B[1;33m\u001B[0m\u001B[0m\n",
      "\u001B[1;31mNameError\u001B[0m: name 'xgb' is not defined"
     ]
    }
   ],
   "source": [
    "\n",
    "    # 建立XGB模型\n",
    "model = xgb.XGBRegressor(\n",
    "    n_estimators=1000,  # 迭代次数\n",
    "    learning_rate=0.01,  # 学习率\n",
    "    objective='reg:squarederror',  # 损失函数\n",
    "    random_state=42\n",
    ")\n",
    "\n",
    "\n",
    "train_x=train_data;\n",
    "\n",
    "t_data_x=t_data;\n",
    "\n",
    "train_x.to_csv('train_x.csv', index=False)\n",
    "train_y.to_csv('train_y.csv', index=False)\n",
    "model.fit(train_x, train_y)\n",
    "test_y = model.predict(t_data_x)\n",
    "\n",
    "\n",
    "# rmse = np.sqrt(mean_squared_error(test_y, train_y))\n",
    "# rmse"
   ],
   "metadata": {
    "collapsed": false,
    "pycharm": {
     "name": "#%%\n"
    }
   }
  },
  {
   "cell_type": "code",
   "execution_count": 6,
   "outputs": [],
   "source": [
    "# 假设 test_y 是一个一维数组，你可以将其转换为 DataFrame 对象\n",
    "test_y_df = pd.DataFrame({'result': test_y})\n",
    "test_=raw_test_data[raw_test_data['SoH'] == -100]\n",
    "test_ = test_.reset_index(drop=True)\n",
    "# 按列拼接预测结果和 t_data_x\n",
    "merged_df = pd.concat([test_, test_y_df],axis=1)\n",
    "# merged_df.rename(columns={'Unamed: 0': 'first'}, inplace=True)\n",
    "selected_columns = ['Unnamed: 0', 'cycle', 'CS_Name','result']\n",
    "# 选择特定列\n",
    "new_df = merged_df.loc[:, selected_columns]\n",
    "new_df.to_csv('result.csv', index=False)\n",
    "# # 保存拼接后的结果到新的 CSV 文件\n",
    "# merged_df.to_csv('merged_result.csv', index=False)"
   ],
   "metadata": {
    "collapsed": false,
    "pycharm": {
     "name": "#%%\n"
    }
   }
  },
  {
   "cell_type": "code",
   "execution_count": 41,
   "outputs": [
    {
     "data": {
      "text/plain": "     Unnamed: 0  cycle CS_Name    result\n0           105  735.0  CS2_35  0.479337\n1           106  736.0  CS2_35  0.462309\n2           107  737.0  CS2_35  0.453843\n3           108  738.0  CS2_35  0.454750\n4           109  739.0  CS2_35  0.435222\n..          ...    ...     ...       ...\n115         147  857.0  CS2_38  0.428448\n116         148  858.0  CS2_38  0.426147\n117         149  859.0  CS2_38  0.426869\n118         150  860.0  CS2_38  0.425416\n119         151  861.0  CS2_38  0.424818\n\n[120 rows x 4 columns]",
      "text/html": "<div>\n<style scoped>\n    .dataframe tbody tr th:only-of-type {\n        vertical-align: middle;\n    }\n\n    .dataframe tbody tr th {\n        vertical-align: top;\n    }\n\n    .dataframe thead th {\n        text-align: right;\n    }\n</style>\n<table border=\"1\" class=\"dataframe\">\n  <thead>\n    <tr style=\"text-align: right;\">\n      <th></th>\n      <th>Unnamed: 0</th>\n      <th>cycle</th>\n      <th>CS_Name</th>\n      <th>result</th>\n    </tr>\n  </thead>\n  <tbody>\n    <tr>\n      <th>0</th>\n      <td>105</td>\n      <td>735.0</td>\n      <td>CS2_35</td>\n      <td>0.479337</td>\n    </tr>\n    <tr>\n      <th>1</th>\n      <td>106</td>\n      <td>736.0</td>\n      <td>CS2_35</td>\n      <td>0.462309</td>\n    </tr>\n    <tr>\n      <th>2</th>\n      <td>107</td>\n      <td>737.0</td>\n      <td>CS2_35</td>\n      <td>0.453843</td>\n    </tr>\n    <tr>\n      <th>3</th>\n      <td>108</td>\n      <td>738.0</td>\n      <td>CS2_35</td>\n      <td>0.454750</td>\n    </tr>\n    <tr>\n      <th>4</th>\n      <td>109</td>\n      <td>739.0</td>\n      <td>CS2_35</td>\n      <td>0.435222</td>\n    </tr>\n    <tr>\n      <th>...</th>\n      <td>...</td>\n      <td>...</td>\n      <td>...</td>\n      <td>...</td>\n    </tr>\n    <tr>\n      <th>115</th>\n      <td>147</td>\n      <td>857.0</td>\n      <td>CS2_38</td>\n      <td>0.428448</td>\n    </tr>\n    <tr>\n      <th>116</th>\n      <td>148</td>\n      <td>858.0</td>\n      <td>CS2_38</td>\n      <td>0.426147</td>\n    </tr>\n    <tr>\n      <th>117</th>\n      <td>149</td>\n      <td>859.0</td>\n      <td>CS2_38</td>\n      <td>0.426869</td>\n    </tr>\n    <tr>\n      <th>118</th>\n      <td>150</td>\n      <td>860.0</td>\n      <td>CS2_38</td>\n      <td>0.425416</td>\n    </tr>\n    <tr>\n      <th>119</th>\n      <td>151</td>\n      <td>861.0</td>\n      <td>CS2_38</td>\n      <td>0.424818</td>\n    </tr>\n  </tbody>\n</table>\n<p>120 rows × 4 columns</p>\n</div>"
     },
     "execution_count": 41,
     "metadata": {},
     "output_type": "execute_result"
    }
   ],
   "source": [
    "new_df"
   ],
   "metadata": {
    "collapsed": false,
    "pycharm": {
     "name": "#%%\n"
    }
   }
  },
  {
   "cell_type": "code",
   "execution_count": 22,
   "outputs": [
    {
     "data": {
      "text/plain": "     Unnamed: 0  cycle  capacity         SoH  resistance         CCCT  \\\n0             0  630.0  0.870464    0.623609    0.093925  4762.384349   \n1             1  631.0  0.859885    0.614440    0.096180  4663.710466   \n2             2  632.0  0.833305    0.614332    0.099413  4636.225554   \n3             3  633.0  0.815995    0.614295    0.101120     0.000000   \n4             4  634.0  0.832306    0.614363    0.096528  4895.255376   \n..          ...    ...       ...         ...         ...          ...   \n570         147  857.0  0.614230 -100.000000    0.111245  3002.888352   \n571         148  858.0  0.605064 -100.000000    0.111345  2961.199236   \n572         149  859.0  0.605071 -100.000000    0.110633  2923.872113   \n573         150  860.0  0.605073 -100.000000    0.110533  2907.340689   \n574         151  861.0  0.605057 -100.000000    0.110733  2890.028445   \n\n            CVCT CS_Name  \n0    2565.172418  CS2_35  \n1    2599.623561  CS2_35  \n2    1628.032077  CS2_35  \n3    1236.437937  CS2_35  \n4    2277.145610  CS2_35  \n..           ...     ...  \n570  3206.960871  CS2_38  \n571  3206.492017  CS2_38  \n572  3221.273252  CS2_38  \n573  3222.194994  CS2_38  \n574  3225.569671  CS2_38  \n\n[575 rows x 8 columns]",
      "text/html": "<div>\n<style scoped>\n    .dataframe tbody tr th:only-of-type {\n        vertical-align: middle;\n    }\n\n    .dataframe tbody tr th {\n        vertical-align: top;\n    }\n\n    .dataframe thead th {\n        text-align: right;\n    }\n</style>\n<table border=\"1\" class=\"dataframe\">\n  <thead>\n    <tr style=\"text-align: right;\">\n      <th></th>\n      <th>Unnamed: 0</th>\n      <th>cycle</th>\n      <th>capacity</th>\n      <th>SoH</th>\n      <th>resistance</th>\n      <th>CCCT</th>\n      <th>CVCT</th>\n      <th>CS_Name</th>\n    </tr>\n  </thead>\n  <tbody>\n    <tr>\n      <th>0</th>\n      <td>0</td>\n      <td>630.0</td>\n      <td>0.870464</td>\n      <td>0.623609</td>\n      <td>0.093925</td>\n      <td>4762.384349</td>\n      <td>2565.172418</td>\n      <td>CS2_35</td>\n    </tr>\n    <tr>\n      <th>1</th>\n      <td>1</td>\n      <td>631.0</td>\n      <td>0.859885</td>\n      <td>0.614440</td>\n      <td>0.096180</td>\n      <td>4663.710466</td>\n      <td>2599.623561</td>\n      <td>CS2_35</td>\n    </tr>\n    <tr>\n      <th>2</th>\n      <td>2</td>\n      <td>632.0</td>\n      <td>0.833305</td>\n      <td>0.614332</td>\n      <td>0.099413</td>\n      <td>4636.225554</td>\n      <td>1628.032077</td>\n      <td>CS2_35</td>\n    </tr>\n    <tr>\n      <th>3</th>\n      <td>3</td>\n      <td>633.0</td>\n      <td>0.815995</td>\n      <td>0.614295</td>\n      <td>0.101120</td>\n      <td>0.000000</td>\n      <td>1236.437937</td>\n      <td>CS2_35</td>\n    </tr>\n    <tr>\n      <th>4</th>\n      <td>4</td>\n      <td>634.0</td>\n      <td>0.832306</td>\n      <td>0.614363</td>\n      <td>0.096528</td>\n      <td>4895.255376</td>\n      <td>2277.145610</td>\n      <td>CS2_35</td>\n    </tr>\n    <tr>\n      <th>...</th>\n      <td>...</td>\n      <td>...</td>\n      <td>...</td>\n      <td>...</td>\n      <td>...</td>\n      <td>...</td>\n      <td>...</td>\n      <td>...</td>\n    </tr>\n    <tr>\n      <th>570</th>\n      <td>147</td>\n      <td>857.0</td>\n      <td>0.614230</td>\n      <td>-100.000000</td>\n      <td>0.111245</td>\n      <td>3002.888352</td>\n      <td>3206.960871</td>\n      <td>CS2_38</td>\n    </tr>\n    <tr>\n      <th>571</th>\n      <td>148</td>\n      <td>858.0</td>\n      <td>0.605064</td>\n      <td>-100.000000</td>\n      <td>0.111345</td>\n      <td>2961.199236</td>\n      <td>3206.492017</td>\n      <td>CS2_38</td>\n    </tr>\n    <tr>\n      <th>572</th>\n      <td>149</td>\n      <td>859.0</td>\n      <td>0.605071</td>\n      <td>-100.000000</td>\n      <td>0.110633</td>\n      <td>2923.872113</td>\n      <td>3221.273252</td>\n      <td>CS2_38</td>\n    </tr>\n    <tr>\n      <th>573</th>\n      <td>150</td>\n      <td>860.0</td>\n      <td>0.605073</td>\n      <td>-100.000000</td>\n      <td>0.110533</td>\n      <td>2907.340689</td>\n      <td>3222.194994</td>\n      <td>CS2_38</td>\n    </tr>\n    <tr>\n      <th>574</th>\n      <td>151</td>\n      <td>861.0</td>\n      <td>0.605057</td>\n      <td>-100.000000</td>\n      <td>0.110733</td>\n      <td>2890.028445</td>\n      <td>3225.569671</td>\n      <td>CS2_38</td>\n    </tr>\n  </tbody>\n</table>\n<p>575 rows × 8 columns</p>\n</div>"
     },
     "execution_count": 22,
     "metadata": {},
     "output_type": "execute_result"
    }
   ],
   "source": [
    "raw_test_data"
   ],
   "metadata": {
    "collapsed": false,
    "pycharm": {
     "name": "#%%\n"
    }
   }
  },
  {
   "cell_type": "code",
   "execution_count": null,
   "outputs": [],
   "source": [],
   "metadata": {
    "collapsed": false,
    "pycharm": {
     "name": "#%%\n"
    }
   }
  }
 ],
 "metadata": {
  "kernelspec": {
   "display_name": "Python 3",
   "language": "python",
   "name": "python3"
  },
  "language_info": {
   "codemirror_mode": {
    "name": "ipython",
    "version": 2
   },
   "file_extension": ".py",
   "mimetype": "text/x-python",
   "name": "python",
   "nbconvert_exporter": "python",
   "pygments_lexer": "ipython2",
   "version": "2.7.6"
  }
 },
 "nbformat": 4,
 "nbformat_minor": 0
}